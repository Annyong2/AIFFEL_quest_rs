{
 "cells": [
  {
   "cell_type": "markdown",
   "id": "5f3c8767",
   "metadata": {},
   "source": [
    "### 코더의 소회 : \n",
    "날씨 : 오늘의 학습 < >했습니다. [☀️⛅☁️🌧️🌩️⛈️]\n",
    "- 배운점 : \n",
    "- 아쉬운점 :  \n",
    "- 느낀점 :\n",
    "\n",
    "(참고 : https://github.com/Annyong2/AIFFEL_quest_rs/tree/master/GoingDeeper/Gdr01)"
   ]
  },
  {
   "cell_type": "markdown",
   "id": "7a3b83c3",
   "metadata": {},
   "source": [
    "### 전체 코드 실행 플로우 (목차):\n",
    "**Step 01. 불러오기 & 구경하기**    \n",
    "      - 불러오기: 라이브러리(SentencePiece,konlpy) / 데이터셋(네이버 영화리뷰 감정 분석 데이터)   \n",
    "      - 데이터 구경하기(pandas, tensorflow)  \n",
    "**Step 02. 데이터 전처리(tensorflow)**   \n",
    "      - 기본 전처리(기호,빈 줄 제거 등)   \n",
    "**Step 03. SentencePiece 모델 학습 및 Tokenizer 함수 작성**    \n",
    "**Step 04. 네이버 영화리뷰 감정 분석 문제에 SentencePiece 적용해 보기**   \n",
    "      - SentencePiece 모델을 사용하여 토크나이저 생성    \n",
    "      - 네이버 영화리뷰 감정 분석 모델 구축 및 학습  \n",
    "**Step 05. KoNLPy 형태소 분석기와의 성능 비교 (Mecab, Kkma, Okt)**"
   ]
  },
  {
   "cell_type": "markdown",
   "id": "f5a6f536",
   "metadata": {},
   "source": [
    "---"
   ]
  },
  {
   "cell_type": "markdown",
   "id": "6ad12e64",
   "metadata": {},
   "source": [
    "# Step 01. 불러오기 & 구경하기 & 전처리\n",
    "---"
   ]
  },
  {
   "cell_type": "markdown",
   "id": "2a011ca1",
   "metadata": {},
   "source": [
    "## 1-1. 라이브러리 불러오기(SentencePiece, konlpy 등)"
   ]
  },
  {
   "cell_type": "code",
   "execution_count": 1,
   "id": "73695f65",
   "metadata": {},
   "outputs": [],
   "source": [
    "import os\n",
    "import urllib.request\n",
    "\n",
    "import pandas as pd\n",
    "import matplotlib.pyplot as plt\n",
    "import tensorflow as tf\n",
    "import numpy as np\n",
    "\n",
    "import sentencepiece as spm # SentencePiece 불러오기\n",
    "import konlpy               # konlpy 불러오기(Mecab, kkma, Okt)\n",
    "\n",
    "from sklearn.model_selection import train_test_split\n",
    "from tensorflow.keras.models import Sequential\n",
    "from tensorflow.keras.layers import Embedding, LSTM, Dense\n",
    "\n",
    " \n",
    "%matplotlib inline"
   ]
  },
  {
   "cell_type": "markdown",
   "id": "d9837cda",
   "metadata": {},
   "source": [
    "## 1-2. 데이터셋 불러오기"
   ]
  },
  {
   "cell_type": "code",
   "execution_count": 2,
   "id": "bc81c747",
   "metadata": {},
   "outputs": [],
   "source": [
    "def download_dataset(url, dataset_path):\n",
    "    # 데이터셋 다운로드\n",
    "    if not os.path.exists(dataset_path):\n",
    "        os.makedirs(dataset_path)\n",
    "    \n",
    "    train_url = url + '/ratings_train.txt'\n",
    "    test_url = url + '/ratings_test.txt'\n",
    "\n",
    "    train_data_path = os.path.join(dataset_path, 'ratings_train.txt')\n",
    "    test_data_path = os.path.join(dataset_path, 'ratings_test.txt')\n",
    "\n",
    "    urllib.request.urlretrieve(train_url, train_data_path)\n",
    "    urllib.request.urlretrieve(test_url, test_data_path)\n",
    "\n",
    "    print(\"데이터셋이 성공적으로 다운로드되었습니다.\")"
   ]
  },
  {
   "cell_type": "code",
   "execution_count": 3,
   "id": "08ba9688",
   "metadata": {},
   "outputs": [
    {
     "name": "stdout",
     "output_type": "stream",
     "text": [
      "데이터셋이 성공적으로 다운로드되었습니다.\n"
     ]
    }
   ],
   "source": [
    "# NSMC 데이터셋 다운로드\n",
    "url = \"https://github.com/e9t/nsmc/raw/master\"\n",
    "dataset_path = os.getenv('HOME') + '/aiffel/sp_tokenizer/data'\n",
    "\n",
    "download_dataset(url, dataset_path)"
   ]
  },
  {
   "cell_type": "code",
   "execution_count": 4,
   "id": "f91203af",
   "metadata": {},
   "outputs": [],
   "source": [
    "# 데이터 파일 경로 설정\n",
    "train_data_path = os.path.join(dataset_path, 'ratings_train.txt')\n",
    "test_data_path = os.path.join(dataset_path, 'ratings_test.txt')"
   ]
  },
  {
   "cell_type": "markdown",
   "id": "32766e7f",
   "metadata": {},
   "source": [
    "## 데이터셋 구경하기 : Pandas"
   ]
  },
  {
   "cell_type": "code",
   "execution_count": 5,
   "id": "3af3878e",
   "metadata": {},
   "outputs": [],
   "source": [
    "train_df = pd.read_csv(train_data_path, sep='\\t')\n",
    "test_df  = pd.read_csv(test_data_path, sep='\\t')"
   ]
  },
  {
   "cell_type": "markdown",
   "id": "9848daee",
   "metadata": {},
   "source": [
    "### [PD]Train, Test 샘플확인"
   ]
  },
  {
   "cell_type": "code",
   "execution_count": 6,
   "id": "0046341a",
   "metadata": {},
   "outputs": [
    {
     "name": "stdout",
     "output_type": "stream",
     "text": [
      "전체 샘플수 : 150000\n"
     ]
    },
    {
     "data": {
      "text/html": [
       "<div>\n",
       "<style scoped>\n",
       "    .dataframe tbody tr th:only-of-type {\n",
       "        vertical-align: middle;\n",
       "    }\n",
       "\n",
       "    .dataframe tbody tr th {\n",
       "        vertical-align: top;\n",
       "    }\n",
       "\n",
       "    .dataframe thead th {\n",
       "        text-align: right;\n",
       "    }\n",
       "</style>\n",
       "<table border=\"1\" class=\"dataframe\">\n",
       "  <thead>\n",
       "    <tr style=\"text-align: right;\">\n",
       "      <th></th>\n",
       "      <th>id</th>\n",
       "      <th>document</th>\n",
       "      <th>label</th>\n",
       "    </tr>\n",
       "  </thead>\n",
       "  <tbody>\n",
       "    <tr>\n",
       "      <th>0</th>\n",
       "      <td>9976970</td>\n",
       "      <td>아 더빙.. 진짜 짜증나네요 목소리</td>\n",
       "      <td>0</td>\n",
       "    </tr>\n",
       "    <tr>\n",
       "      <th>1</th>\n",
       "      <td>3819312</td>\n",
       "      <td>흠...포스터보고 초딩영화줄....오버연기조차 가볍지 않구나</td>\n",
       "      <td>1</td>\n",
       "    </tr>\n",
       "    <tr>\n",
       "      <th>2</th>\n",
       "      <td>10265843</td>\n",
       "      <td>너무재밓었다그래서보는것을추천한다</td>\n",
       "      <td>0</td>\n",
       "    </tr>\n",
       "    <tr>\n",
       "      <th>3</th>\n",
       "      <td>9045019</td>\n",
       "      <td>교도소 이야기구먼 ..솔직히 재미는 없다..평점 조정</td>\n",
       "      <td>0</td>\n",
       "    </tr>\n",
       "    <tr>\n",
       "      <th>4</th>\n",
       "      <td>6483659</td>\n",
       "      <td>사이몬페그의 익살스런 연기가 돋보였던 영화!스파이더맨에서 늙어보이기만 했던 커스틴 ...</td>\n",
       "      <td>1</td>\n",
       "    </tr>\n",
       "  </tbody>\n",
       "</table>\n",
       "</div>"
      ],
      "text/plain": [
       "         id                                           document  label\n",
       "0   9976970                                아 더빙.. 진짜 짜증나네요 목소리      0\n",
       "1   3819312                  흠...포스터보고 초딩영화줄....오버연기조차 가볍지 않구나      1\n",
       "2  10265843                                  너무재밓었다그래서보는것을추천한다      0\n",
       "3   9045019                      교도소 이야기구먼 ..솔직히 재미는 없다..평점 조정      0\n",
       "4   6483659  사이몬페그의 익살스런 연기가 돋보였던 영화!스파이더맨에서 늙어보이기만 했던 커스틴 ...      1"
      ]
     },
     "execution_count": 6,
     "metadata": {},
     "output_type": "execute_result"
    }
   ],
   "source": [
    "print('전체 샘플수 :', (len(train_df)))\n",
    "train_df.head(5)"
   ]
  },
  {
   "cell_type": "code",
   "execution_count": 7,
   "id": "4e268f24",
   "metadata": {
    "scrolled": true
   },
   "outputs": [
    {
     "name": "stdout",
     "output_type": "stream",
     "text": [
      "전체 샘플수 : 50000\n"
     ]
    },
    {
     "data": {
      "text/html": [
       "<div>\n",
       "<style scoped>\n",
       "    .dataframe tbody tr th:only-of-type {\n",
       "        vertical-align: middle;\n",
       "    }\n",
       "\n",
       "    .dataframe tbody tr th {\n",
       "        vertical-align: top;\n",
       "    }\n",
       "\n",
       "    .dataframe thead th {\n",
       "        text-align: right;\n",
       "    }\n",
       "</style>\n",
       "<table border=\"1\" class=\"dataframe\">\n",
       "  <thead>\n",
       "    <tr style=\"text-align: right;\">\n",
       "      <th></th>\n",
       "      <th>id</th>\n",
       "      <th>document</th>\n",
       "      <th>label</th>\n",
       "    </tr>\n",
       "  </thead>\n",
       "  <tbody>\n",
       "    <tr>\n",
       "      <th>0</th>\n",
       "      <td>6270596</td>\n",
       "      <td>굳 ㅋ</td>\n",
       "      <td>1</td>\n",
       "    </tr>\n",
       "    <tr>\n",
       "      <th>1</th>\n",
       "      <td>9274899</td>\n",
       "      <td>GDNTOPCLASSINTHECLUB</td>\n",
       "      <td>0</td>\n",
       "    </tr>\n",
       "    <tr>\n",
       "      <th>2</th>\n",
       "      <td>8544678</td>\n",
       "      <td>뭐야 이 평점들은.... 나쁘진 않지만 10점 짜리는 더더욱 아니잖아</td>\n",
       "      <td>0</td>\n",
       "    </tr>\n",
       "    <tr>\n",
       "      <th>3</th>\n",
       "      <td>6825595</td>\n",
       "      <td>지루하지는 않은데 완전 막장임... 돈주고 보기에는....</td>\n",
       "      <td>0</td>\n",
       "    </tr>\n",
       "    <tr>\n",
       "      <th>4</th>\n",
       "      <td>6723715</td>\n",
       "      <td>3D만 아니었어도 별 다섯 개 줬을텐데.. 왜 3D로 나와서 제 심기를 불편하게 하죠??</td>\n",
       "      <td>0</td>\n",
       "    </tr>\n",
       "  </tbody>\n",
       "</table>\n",
       "</div>"
      ],
      "text/plain": [
       "        id                                           document  label\n",
       "0  6270596                                                굳 ㅋ      1\n",
       "1  9274899                               GDNTOPCLASSINTHECLUB      0\n",
       "2  8544678             뭐야 이 평점들은.... 나쁘진 않지만 10점 짜리는 더더욱 아니잖아      0\n",
       "3  6825595                   지루하지는 않은데 완전 막장임... 돈주고 보기에는....      0\n",
       "4  6723715  3D만 아니었어도 별 다섯 개 줬을텐데.. 왜 3D로 나와서 제 심기를 불편하게 하죠??      0"
      ]
     },
     "execution_count": 7,
     "metadata": {},
     "output_type": "execute_result"
    }
   ],
   "source": [
    "print('전체 샘플수 :', (len(test_df)))\n",
    "test_df.head(5)"
   ]
  },
  {
   "cell_type": "markdown",
   "id": "ead5baa6",
   "metadata": {},
   "source": [
    "### [PD]Train, Test 결측치 확인"
   ]
  },
  {
   "cell_type": "code",
   "execution_count": 8,
   "id": "ed90bd2d",
   "metadata": {},
   "outputs": [
    {
     "name": "stdout",
     "output_type": "stream",
     "text": [
      "<class 'pandas.core.frame.DataFrame'>\n",
      "RangeIndex: 150000 entries, 0 to 149999\n",
      "Data columns (total 3 columns):\n",
      " #   Column    Non-Null Count   Dtype \n",
      "---  ------    --------------   ----- \n",
      " 0   id        150000 non-null  int64 \n",
      " 1   document  149995 non-null  object\n",
      " 2   label     150000 non-null  int64 \n",
      "dtypes: int64(2), object(1)\n",
      "memory usage: 3.4+ MB\n"
     ]
    }
   ],
   "source": [
    "train_df.info()"
   ]
  },
  {
   "cell_type": "code",
   "execution_count": 9,
   "id": "8aba09a3",
   "metadata": {},
   "outputs": [
    {
     "data": {
      "text/html": [
       "<div>\n",
       "<style scoped>\n",
       "    .dataframe tbody tr th:only-of-type {\n",
       "        vertical-align: middle;\n",
       "    }\n",
       "\n",
       "    .dataframe tbody tr th {\n",
       "        vertical-align: top;\n",
       "    }\n",
       "\n",
       "    .dataframe thead th {\n",
       "        text-align: right;\n",
       "    }\n",
       "</style>\n",
       "<table border=\"1\" class=\"dataframe\">\n",
       "  <thead>\n",
       "    <tr style=\"text-align: right;\">\n",
       "      <th></th>\n",
       "      <th>id</th>\n",
       "      <th>document</th>\n",
       "      <th>label</th>\n",
       "    </tr>\n",
       "  </thead>\n",
       "  <tbody>\n",
       "    <tr>\n",
       "      <th>25857</th>\n",
       "      <td>2172111</td>\n",
       "      <td>NaN</td>\n",
       "      <td>1</td>\n",
       "    </tr>\n",
       "    <tr>\n",
       "      <th>55737</th>\n",
       "      <td>6369843</td>\n",
       "      <td>NaN</td>\n",
       "      <td>1</td>\n",
       "    </tr>\n",
       "    <tr>\n",
       "      <th>110014</th>\n",
       "      <td>1034280</td>\n",
       "      <td>NaN</td>\n",
       "      <td>0</td>\n",
       "    </tr>\n",
       "    <tr>\n",
       "      <th>126782</th>\n",
       "      <td>5942978</td>\n",
       "      <td>NaN</td>\n",
       "      <td>0</td>\n",
       "    </tr>\n",
       "    <tr>\n",
       "      <th>140721</th>\n",
       "      <td>1034283</td>\n",
       "      <td>NaN</td>\n",
       "      <td>0</td>\n",
       "    </tr>\n",
       "  </tbody>\n",
       "</table>\n",
       "</div>"
      ],
      "text/plain": [
       "             id document  label\n",
       "25857   2172111      NaN      1\n",
       "55737   6369843      NaN      1\n",
       "110014  1034280      NaN      0\n",
       "126782  5942978      NaN      0\n",
       "140721  1034283      NaN      0"
      ]
     },
     "execution_count": 9,
     "metadata": {},
     "output_type": "execute_result"
    }
   ],
   "source": [
    "train_df[train_df['document'].isnull()]"
   ]
  },
  {
   "cell_type": "code",
   "execution_count": 10,
   "id": "6b641763",
   "metadata": {},
   "outputs": [
    {
     "name": "stdout",
     "output_type": "stream",
     "text": [
      "<class 'pandas.core.frame.DataFrame'>\n",
      "RangeIndex: 50000 entries, 0 to 49999\n",
      "Data columns (total 3 columns):\n",
      " #   Column    Non-Null Count  Dtype \n",
      "---  ------    --------------  ----- \n",
      " 0   id        50000 non-null  int64 \n",
      " 1   document  49997 non-null  object\n",
      " 2   label     50000 non-null  int64 \n",
      "dtypes: int64(2), object(1)\n",
      "memory usage: 1.1+ MB\n"
     ]
    }
   ],
   "source": [
    "test_df.info()"
   ]
  },
  {
   "cell_type": "code",
   "execution_count": 11,
   "id": "2ea33c79",
   "metadata": {},
   "outputs": [
    {
     "data": {
      "text/html": [
       "<div>\n",
       "<style scoped>\n",
       "    .dataframe tbody tr th:only-of-type {\n",
       "        vertical-align: middle;\n",
       "    }\n",
       "\n",
       "    .dataframe tbody tr th {\n",
       "        vertical-align: top;\n",
       "    }\n",
       "\n",
       "    .dataframe thead th {\n",
       "        text-align: right;\n",
       "    }\n",
       "</style>\n",
       "<table border=\"1\" class=\"dataframe\">\n",
       "  <thead>\n",
       "    <tr style=\"text-align: right;\">\n",
       "      <th></th>\n",
       "      <th>id</th>\n",
       "      <th>document</th>\n",
       "      <th>label</th>\n",
       "    </tr>\n",
       "  </thead>\n",
       "  <tbody>\n",
       "    <tr>\n",
       "      <th>5746</th>\n",
       "      <td>402110</td>\n",
       "      <td>NaN</td>\n",
       "      <td>1</td>\n",
       "    </tr>\n",
       "    <tr>\n",
       "      <th>7899</th>\n",
       "      <td>5026896</td>\n",
       "      <td>NaN</td>\n",
       "      <td>0</td>\n",
       "    </tr>\n",
       "    <tr>\n",
       "      <th>27097</th>\n",
       "      <td>511097</td>\n",
       "      <td>NaN</td>\n",
       "      <td>1</td>\n",
       "    </tr>\n",
       "  </tbody>\n",
       "</table>\n",
       "</div>"
      ],
      "text/plain": [
       "            id document  label\n",
       "5746    402110      NaN      1\n",
       "7899   5026896      NaN      0\n",
       "27097   511097      NaN      1"
      ]
     },
     "execution_count": 11,
     "metadata": {},
     "output_type": "execute_result"
    }
   ],
   "source": [
    "test_df[test_df['document'].isnull()]"
   ]
  },
  {
   "cell_type": "markdown",
   "id": "b2d21713",
   "metadata": {},
   "source": [
    "- **전체샘플수**  \n",
    "    train_df -> 150000    \n",
    "    test_df  ->   50000    \n",
    "\n",
    "\n",
    "- **결측치**  \n",
    "    train_df['document'] : 5건  \n",
    "    test_df['document']  : 3건  \n",
    "    \n",
    "    \n",
    "- **document(리뷰)형태 확인 완료**"
   ]
  },
  {
   "cell_type": "markdown",
   "id": "ea15b56b",
   "metadata": {},
   "source": [
    "## 데이터셋 구경하기 : Tensorflow"
   ]
  },
  {
   "cell_type": "code",
   "execution_count": 12,
   "id": "b6259f5d",
   "metadata": {},
   "outputs": [
    {
     "name": "stdout",
     "output_type": "stream",
     "text": [
      "Data Size: 150000\n",
      "Example:\n",
      ">> id\tdocument\tlabel\n",
      ">> 9976970\t아 더빙.. 진짜 짜증나네요 목소리\t0\n",
      ">> 3819312\t흠...포스터보고 초딩영화줄....오버연기조차 가볍지 않구나\t1\n",
      ">> 10265843\t너무재밓었다그래서보는것을추천한다\t0\n",
      ">> 9045019\t교도소 이야기구먼 ..솔직히 재미는 없다..평점 조정\t0\n"
     ]
    }
   ],
   "source": [
    "path_to_file = train_data_path\n",
    "\n",
    "with open(path_to_file, \"r\") as f:\n",
    "    raw = f.read().splitlines()\n",
    "\n",
    "print(\"Data Size:\", len(raw)-1) # 헤더 빼주기\n",
    "\n",
    "# 첫 5줄 출력 (헤더 포함)\n",
    "print(\"Example:\")\n",
    "for sen in raw[0:5]:\n",
    "    print(\">>\", sen)"
   ]
  },
  {
   "cell_type": "markdown",
   "id": "6890b87e",
   "metadata": {},
   "source": [
    "### 문장길이 : document만 따로 뽑아 보기"
   ]
  },
  {
   "cell_type": "code",
   "execution_count": 13,
   "id": "caadc875",
   "metadata": {
    "scrolled": true
   },
   "outputs": [
    {
     "name": "stdout",
     "output_type": "stream",
     "text": [
      "raw_documents가 데이터셋에서 성공적으로 추출되었습니다.\n"
     ]
    }
   ],
   "source": [
    "# tab제거, document만 따로뽑기\n",
    "min_len_no_tab = 999\n",
    "max_len_no_tab = 0\n",
    "sum_len_no_tab = 0\n",
    "\n",
    "raw_documents = []\n",
    "for sen in raw[1:]:          # 헤더 제외\n",
    "    parts = sen.split('\\t')  # tab제거\n",
    "    if len(parts) == 3:\n",
    "        document = parts[1]  # 문장 부분만 추출\n",
    "        raw_documents.append(document)\n",
    "        length = len(document)\n",
    "        if min_len_no_tab > length: min_len_no_tab = length\n",
    "        if max_len_no_tab < length: max_len_no_tab = length\n",
    "        sum_len_no_tab += length\n",
    "print(\"raw_documents가 데이터셋에서 성공적으로 추출되었습니다.\")"
   ]
  },
  {
   "cell_type": "code",
   "execution_count": 14,
   "id": "98eba977",
   "metadata": {},
   "outputs": [],
   "source": [
    "# 특정 길이의 문서 찾기 함수 정의\n",
    "def check_document_with_length(documents, length):\n",
    "    count = 0\n",
    "    total_count = 0\n",
    "    for document in documents:\n",
    "        if len(document) == length:\n",
    "            total_count += 1\n",
    "\n",
    "    print(f'Total number of documents with length {length}:', total_count, \"\\n\")\n",
    "    for document in documents:\n",
    "        if len(document) == length:\n",
    "            print(document)\n",
    "            count += 1\n",
    "            if length >= 100 and count >= 5: # 길이가 100이상인 경우, 딱 5줄만 보기\n",
    "                return\n",
    "            elif count >= 10:  # 길이가 100미만인 경우, 딱 10줄만 보기\n",
    "                return "
   ]
  },
  {
   "cell_type": "code",
   "execution_count": 15,
   "id": "5eea4390",
   "metadata": {},
   "outputs": [
    {
     "name": "stdout",
     "output_type": "stream",
     "text": [
      "문서의 최소 길이: 0\n",
      "문서의 최대 길이: 158\n",
      "문서의 평균 길이: 35\n"
     ]
    }
   ],
   "source": [
    "print(\"문서의 최소 길이:\", min_len_no_tab)\n",
    "print(\"문서의 최대 길이:\", max_len_no_tab)\n",
    "print(\"문서의 평균 길이:\", sum_len_no_tab // len(raw_documents))"
   ]
  },
  {
   "cell_type": "markdown",
   "id": "961137bd",
   "metadata": {},
   "source": [
    "### 이상치 설정하기 위한 데이터 관찰\n",
    "\n",
    "\n",
    "**관찰 후 얻은 결론 : 6 < length < 141**"
   ]
  },
  {
   "cell_type": "code",
   "execution_count": 16,
   "id": "13eb36b2",
   "metadata": {},
   "outputs": [
    {
     "name": "stdout",
     "output_type": "stream",
     "text": [
      "Total number of documents with length 11: 3408 \n",
      "\n",
      "백봉기 언제나오나요?\n",
      "아주 모자라진 않다.\n",
      "공유 존잘!!!ㅎㅎㅎ\n",
      "4대2라니....최악\n",
      "내 생의 최고의 영화\n",
      "이딴게 한국 영화라니\n",
      "번지수 잃고 갈팡질팡\n",
      "너무나 감동적인 영화\n",
      "내 인생 최고의 영화\n",
      "참 재밌는 영화 ㅎㅎ\n"
     ]
    }
   ],
   "source": [
    "# 길이가 11인 문서 찾기\n",
    "check_document_with_length(raw_documents, 11)"
   ]
  },
  {
   "cell_type": "code",
   "execution_count": 17,
   "id": "3a1216fd",
   "metadata": {},
   "outputs": [
    {
     "name": "stdout",
     "output_type": "stream",
     "text": [
      "Total number of documents with length 8: 1867 \n",
      "\n",
      "카밀라벨 발연기\n",
      "내용이 이상해;\n",
      "너무 좋은 영화\n",
      "가발 쓰고 싶다\n",
      "0점은 없나??\n",
      "말랑말랑 ...\n",
      "그냥. 최고다.\n",
      "감동적인 영화다\n",
      "평점 조절...\n",
      "재미없음 -_-\n"
     ]
    }
   ],
   "source": [
    "# 길이가 8인 문서 찾기\n",
    "check_document_with_length(raw_documents, 8)"
   ]
  },
  {
   "cell_type": "code",
   "execution_count": 18,
   "id": "ee464497",
   "metadata": {},
   "outputs": [
    {
     "name": "stdout",
     "output_type": "stream",
     "text": [
      "Total number of documents with length 6: 1653 \n",
      "\n",
      "심심한영화.\n",
      "서기가이뻐서\n",
      "알바는꺼저라\n",
      "이게 웃겨?\n",
      "슬프다 ㅠㅠ\n",
      "즐~~~~~\n",
      "쇼를해라 쇼\n",
      "끙.....\n",
      "좋은 영화~\n",
      "팔빠다 ㅋㅋ\n"
     ]
    }
   ],
   "source": [
    "# 길이가 6인 문서 찾기\n",
    "check_document_with_length(raw_documents, 6)"
   ]
  },
  {
   "cell_type": "code",
   "execution_count": 19,
   "id": "5ef5bd8b",
   "metadata": {},
   "outputs": [
    {
     "name": "stdout",
     "output_type": "stream",
     "text": [
      "Total number of documents with length 5: 1445 \n",
      "\n",
      "재미있어요\n",
      "전 좋아요\n",
      "아 빵점~\n",
      "ㅠㅠ 슬픔\n",
      "최고의영화\n",
      "잘봤습니다\n",
      "쓰레기영화\n",
      "볼만 한데\n",
      "짝퉁쓰래기\n",
      "잼없네요넘\n"
     ]
    }
   ],
   "source": [
    "# 길이가 5인 문서 찾기\n",
    "check_document_with_length(raw_documents, 5)"
   ]
  },
  {
   "cell_type": "code",
   "execution_count": 20,
   "id": "29279b84",
   "metadata": {},
   "outputs": [
    {
     "name": "stdout",
     "output_type": "stream",
     "text": [
      "Total number of documents with length 4: 1544 \n",
      "\n",
      "재밋는뎅\n",
      "킬링타임\n",
      "별로다.\n",
      "볼만해;\n",
      "연기 굿\n",
      "좋은영화\n",
      "굿 좋아\n",
      "재밌는데\n",
      "와...\n",
      "펑점조절\n"
     ]
    }
   ],
   "source": [
    "# 길이가 4인 문서 찾기\n",
    "check_document_with_length(raw_documents, 4)"
   ]
  },
  {
   "cell_type": "code",
   "execution_count": 21,
   "id": "21747bc8",
   "metadata": {},
   "outputs": [
    {
     "name": "stdout",
     "output_type": "stream",
     "text": [
      "Total number of documents with length 3: 1306 \n",
      "\n",
      "좋구나\n",
      "10점\n",
      "처ㅝ주\n",
      "솔직히\n",
      "4대강\n",
      "재밌다\n",
      "재밌군\n",
      "좋았다\n",
      "재미무\n",
      "보지마\n"
     ]
    }
   ],
   "source": [
    "# 길이가 3인 문서 찾기\n",
    "check_document_with_length(raw_documents, 3)"
   ]
  },
  {
   "cell_type": "code",
   "execution_count": 22,
   "id": "04292057",
   "metadata": {},
   "outputs": [
    {
     "name": "stdout",
     "output_type": "stream",
     "text": [
      "Total number of documents with length 1: 607 \n",
      "\n",
      "아\n",
      "잼\n",
      "1\n",
      "4\n",
      "4\n",
      "굿\n",
      "짱\n",
      "휴\n",
      ".\n",
      "1\n"
     ]
    }
   ],
   "source": [
    "# 길이가 2인 문서 찾기\n",
    "check_document_with_length(raw_documents, 1)"
   ]
  },
  {
   "cell_type": "markdown",
   "id": "f063fd28",
   "metadata": {},
   "source": [
    "#### 👁️👁️DATA REVIEW"
   ]
  },
  {
   "cell_type": "markdown",
   "id": "3d9884e8",
   "metadata": {},
   "source": [
    "- 길이 1 은 의미없는 리뷰 많음(\".\", 숫자 등) \n",
    "- 길이 7 미만, 주어가 없어 무엇이 좋고 싫었는지 알 수 없음(배우, 스토리라인 등)\n",
    "- 길이 7 이상, 주어가 있어 무엇이 좋고 싫었는지 알 수 있음(카밀라벨 발연기, 내용이 이상해 등)\n",
    "\n",
    "=> **고로 7 미만 이상치 설정함**"
   ]
  },
  {
   "cell_type": "code",
   "execution_count": 23,
   "id": "12fb1c14",
   "metadata": {},
   "outputs": [
    {
     "data": {
      "image/png": "[encoded data removed]",
      "text/plain": [
       "<Figure size 864x432 with 1 Axes>"
      ]
     },
     "metadata": {
      "needs_background": "light"
     },
     "output_type": "display_data"
    }
   ],
   "source": [
    "# 문장 길이 분포 시각화\n",
    "sentence_length_distribution = np.zeros((max_len_no_tab), dtype=int)\n",
    "for document in raw_documents:\n",
    "    sentence_length_distribution[len(document) - 1] += 1\n",
    "\n",
    "plt.figure(figsize=(12, 6))\n",
    "plt.bar(range(max_len_no_tab), sentence_length_distribution, width=1.0, alpha=0.5, label='Document Length Distribution')\n",
    "plt.title(\"Sentence Length Distribution (After Extracting Documents)\")\n",
    "plt.legend()\n",
    "plt.show()\n",
    "\n",
    "%matplotlib inline"
   ]
  },
  {
   "cell_type": "markdown",
   "id": "bee35401",
   "metadata": {},
   "source": [
    "- 길이 135~140 확인하여 MAX LENGTH 설정하자(그 이상은 이상치로)"
   ]
  },
  {
   "cell_type": "code",
   "execution_count": 24,
   "id": "f37d9da0",
   "metadata": {},
   "outputs": [
    {
     "name": "stdout",
     "output_type": "stream",
     "text": [
      "Total number of documents with length 136: 339 \n",
      "\n",
      "뮤지컬 영화인데 사운드 녹음 엉망, 남주는 춤도 못추고, 내용은 뻔할뻔, 주인공들 목소리도 너무 안어울리고 어제 CGV에서 뛰어 나가려다 참았습니다.진심 말리고 싶습니다. 영국의 저예산 DVD용 영화뮤지컬영화 아닙니다. 맘마미아 1/10도 안됨\n",
      "이영화 구성좋다는분들 ㅋㅋ아마 친구랑 같이영화보고 님들이 영화 좋다고 재밌다하면 같이본 친구들은 이해하지 못할겁니다 ㅋㅋ진짜 최악 최저 스토리 주인공 행동 개연성없음캐릭간의 이해관계 최악 ㅋㅋㅋCIA갘ㅋㅋ이렇게 허접하게 표현된 영화 간만이라능ㅋ\n",
      "독립영화 실력자들의 스타 리그, 옴니버스라는 피로감이 극복되는 수준이다. '얼음강'은 단독 장편으로 만들었어도 좋았을 듯. 주인공이 혹여 - 평소라면 1%도 공감 안되는 - 여호와의 증인이라도 납득이 될 정도로 감정을 설득하는 솜씨가 탁월하다.\n",
      "감동이다.. 참고로 이 영화 보신분들 마지막엔딩부분에 자막으로나오는부분잇죠? .. 이게 영화상에서 실화라는거지 진짜 레알 현재 실제로 실화라는말이아니에요.. 전지현이 피디잔아요 다큐찍는거 ...그 다큐에서엔딩장면이지 진짜 실제가아니에여.. 쨋든\n",
      "알 행님의 연기 쩔었음.특히 매니가 문을 열어주고 2층에서 여동생을본후 다시 매니를 쳐다볼때에그 분노에 찬 얼굴.잊혀지지가 않는다.이번이 이영화 3번째라는.계속봐도 질리지않는영화..알 형님의 카리스마가 대단한 영화였음그리고 리즈시절의 미쉘누님의\n",
      "아무리 코믹영화라해도 이건너무하네..지금이 무슨 쌍팔년도도 아니고 이런걸 코믹이라고..내용이나 전개나 너무나도 유치하다.관객들 한번 웃겨보려고 대놓고 너무나도 억지스럽고 유치하고 더러운 장면들이 나와서 불쾌하며,그런연기를 하는 배우가 안스럽다.\n",
      "예진역이 굳이 필요한지 모르겠다.가족이 같이 보는 시간대와 일일드라마 라는 점에서 아이들이 허준과 예진의 관계를 물의면 뭐라 말 해줘야 할지 난감하다.허준 본처가 허준에게 그리 잘하는데.그리고 궁에 개나소나 뜬금없이 들어가 일하는게 말이안된다.\n",
      "나에게 아직 이란영화는 익숙하지 않다...그래서 이영화는 더 새로웠고 아름다웠다...주인공 파르비스 파라츠는 흡사 무림고수 같았다...내공있는 눈빛으로 나를 사로잡았으며~ 전체적인 미장센이나 음향은 물론이고 절제된 모든 장치적인 것들이 좋았다.\n",
      "와ㅋㅋㅋㅋㅋㅋㅋ 다 알반가요? 저도 시사회 보고 왔는데 이건 환희의 흑역사가 되겠던데... 극장에서 다들 빵 터지고 난리 났었습니다. 연기는 뭐 그렇다 치더라도.. 스토리 전개 어쩔겁니까? 아침 드라마도 그보단 낫겠어요.. 인터넷 소설 수준임.\n",
      "요즘 인도영화에 빠져있어서 인도여행을 주 내용으로 하였다기에 인도 눈 요기나 할까하고봤는데 초반에는 흥미를 기대하게 하나 역쉬나 노땅들의 정서에나 공감대를 불러일으킬만한영화다. 노인들을 위한 영화. 중후반 부터는 지루해서 볼수가 없을 정도...\n"
     ]
    }
   ],
   "source": [
    "# 길이가 136인 문서 찾기\n",
    "check_document_with_length(raw_documents, 136)"
   ]
  },
  {
   "cell_type": "code",
   "execution_count": 25,
   "id": "7e21f6ee",
   "metadata": {},
   "outputs": [
    {
     "name": "stdout",
     "output_type": "stream",
     "text": [
      "Total number of documents with length 138: 420 \n",
      "\n",
      "하..진짜 댓글보고 한번쯤볼만한 영화인거같아서봤지만 기가찬다..이게무슨버킷리스트인가! 죽기직전에 소원들어주기? 내가보기엔 죽기직전에 막 살자 인거같다. 감동도없고.. 진짜 '버킷리스트' 란 영화에 발톱에 때만큼도 못따라가는쓰레기영화.. 완존실망..\n",
      "짱이다ㅎ 혼자자식키우며살아온엄마 그의아들 힘들게살아오면서 서로예민해지고날카로워질때도잇엇지만 결국 ..가족ㅎ 아빠라는 사람도 생각보다최악이아니고..여자는, 확실히 요구하면도와준다는 그말이 왠지짠하게와닿는다ㅎ 나혼자괜히끙끙거리지말자ㅡ이런단순한생각이든다\n",
      "평점이 너무 높군요. 원작으로 보심이 나을듯. 짧은 러닝타임에 감사하다고 해야하나. 주인공이 썰매를 타고 목적지에 가니 모든 사람들의 기억이 돌아온다는 황당한 설정이고 인간의 감정을 통제한다는건 데몰리션맨, 이퀄리브리엄에서 봤기때문에 신선함도 없음\n",
      "한편의 영화에 너무도 많은걸 하려구 한거 같은데 결국 이것도 저것도 아닌 영화가 되버렸다. 뭔가 한가지 뛰어난게 없다 겜블영화도 아니고 갱영화도 아니구 형사물도 아니구 그냥 킬링타임용으로도 솔직히 별루다. 밴에플렉 펜이지만 좋은 점수를 줄수가 없다\n",
      "쥬산과 데이는 샬로를 너무도 순수하고맹목적으로 사랑했지만 정작 샬로는 그들이 자신을 사랑하는만큼 그들을 사랑하지 않았고 자기 본능과 자기 살길에 더 충실했던 답답한 인간일 뿐이었다.덕분에 쥬산과 데이의 최후는 너무도 가슴을 아리고 먹먹하게 만든다.\n",
      "1. 감독이 씨발 바쁜게 아니라면 이따위로 찍을 이유가 없다. 직선으로 가는 길 놔두고 돌아가는걸 두고 획기적이라고는 하지 않는다.2. 영화인들의 특권의식과 그들의 촬영하는 행위에 대한 미화가 듬뿍담겨져있따. 그리고 전체적인 내용 재미도 없고 의미\n",
      "소녀시대 유리가 주연으로 출연하여 빛난 영화인것 같습니다. 유리의 상대 배역으로 서인국보다 더 멋진 남자가 캐스팅 되었어야 맞다고 봅니다. 그리고 내용중에 서인국이 악역은 아니지만 이종석을 경쟁자로 보고 이종석은 서인국을그냥 친구로 보는것 같네요.\n",
      "세상을 살아가는 모두가 피해자이면서 혹은 가해자는 아닐까 생각해 보았습니다。누군가에게는 좋은 부모、좋은 친구、혹은 좋은 사람이겠지만、어느 누군가에게는 최악의 사람일지도 모른다는 생각을 말이죠。。가면을 벗어버린 다는 것이 얼마나 어려운 일일까요。。？\n",
      "2차대전이 낳은 네덜란드인들의 아픔! 일제시대 우리나라 여인들의 모습은 어떠했을지... 가슴이 아련해진다. 외세가 침입하면, 인간은 2종류로 나뉜다. 애완견처럼 복종하는 자.. 모든 것을 걸고서 싸우는 자! 배신자들을 척결한 그들이, 진정 부럽다.\n",
      "액션보다는 드라마 장르...유쾌하고 통쾌한 액션을 기대한다면 당연히 평점이 낮아질 수 밖에..잔잔하게 본다면 인간의 본성과 자신의 선택에 대해서 생각해볼 수 있음. 해맑은 아이들 모습을..볼 수 있느냐 없느냐..세탁기를 보면서 정화되는 장면까지..\n"
     ]
    }
   ],
   "source": [
    "# 길이가 138인 문서 찾기\n",
    "check_document_with_length(raw_documents, 138)"
   ]
  },
  {
   "cell_type": "code",
   "execution_count": 26,
   "id": "4f4a17c4",
   "metadata": {},
   "outputs": [
    {
     "name": "stdout",
     "output_type": "stream",
     "text": [
      "Total number of documents with length 140: 964 \n",
      "\n",
      "데너리스 타르 가르엔...나도 용의주인이 되고 싶다...누이랑,근친상간이나 하고 다닐지라도,소설 속에선 제일 멋진 놈이 자이메 라니스터였는데,드라마속에선,드래곤(용)이 제일 멋지네(웃음)감독님 토르-2 다크 월드는 말아 잡수셨을지라도,기본 선방은 했음\n",
      "아~ 진짜 조금만 더 손 좀 보면 왠만한 상업 영화 못지 않게 퀄리티 쩔게 만들어 질 수 있었는데 아쉽네요 그래도 충분히 재미있었습니다 개인적으로 조금만 더 잔인하게 더 자극적으로 노출씬도 화끈하게 했더라면 어땠을까 하는 국산영화라 많이 아낀 듯 보임\n",
      "평점조절위원회에서 나왔습니다(웃음)김혜선은 @내일이 오면@의 김순정,순정이 역할이 제일이다.팜므파탈로써,그 정도까지 잘해낼 줄은,정말 의외였어...연기20년 한사람에게 요즘 사극에서 벌어지고 있는,그녀에 대한 연기논란은 왠지 코미디의한장면 같음(웃음)\n",
      "사실여부를 떠나,알고왔던 아더와 너무 매칭이 안돼더라.원탁기사중 실제 검술 최고수는 랜슬롯으로 알고 있는데,트리스탄보다 못하고,싸우는 검술은 마치 중국검술 흉내낸거 같은게;; 그리고 란슬롯이 실제는 쌍검였나?너무 매칭이 안대 하튼 ㅋ기네비어역도 미스.\n",
      "진짜 이건 아님ㅋㅋㅋㅋㅋ액션영화좋아해서 액션영화만 다운받아서 꾸준히 본게 벌써 몇년인 사람임 근데 이건 진짴ㅋㅋㅋㅋㅋㅋ아무리 점수 잘 줘도 100점 만점에 10점?ㅡㅡ돈주고봤는데너무아깝다진짜ㅜㅜ그리고대체 왜 13구역 타이틀을 달고나왔는지 모르겠음 실망\n",
      "영화'산업'이라고 하잖는가? 이딴식으로 홍보 해놓고 속여서 팔았다는 게 소비자 입장에서는 짜증난다. 그나마 다행은 아주 싸구려를 상급품으로 속여판 게 아니라는 점. 그래서 1점. 차라리 연상호 감독 작품 처럼 홍보가 됐다면, 그 비슷하게 만이라도 하지\n",
      "화려한 색채때문에 눈이 아프지만 그 나름대로 화려연예계여자욕망에대해 표현해냈던거같다 보는내내 진짜 리리코심정가진 연옌들도 있을거같고..나를한번도보지못하고알지못하는사람들이날어떻게사랑하냐그런대사 나왔을때 소름돋더라 연예인들은 많은사랑받으면서도 참 허전할듯\n",
      "히가시노 게이고의 추리소설이 사랑 받는 이유는, 치밀한 트릭도 크겠지만 사람이 사람을 죽이는 행위에 감성적 정당성을 부여한 탁월한 설득력에 있다. 본 원작은 말 그대로 '헌신적 사랑'이 그 키워드였고, 용의자 x는 거기에 집중해 훌륭히 결을 살려냈다.\n",
      "TV상영종료후 1년뒤에 극장판이 나올정도의 초 대작.TV편의 설정오류 수정과 새로운 씬 추가가 주된 볼거리. 마마마는 어른들을 위한 애니이다.※우측의 리뷰를 보고 애들과 함께 볼려고 한 분들에게는 절대로 애들에게 보여줄 작품이 아니라고 강력히 주장한다\n",
      "써로게이트의 부작용에 대한 자신만의 생각으로 써로게이트를 통해 행복을 누리고 있는 사람들의 권리를 뺒아가는게 정당한것인가? 장애인이나 식물인가.. 혹은 외모컴플렉스가 있는 사람들은 써로게이트통해 행복한 삶을 살고 있었을텐데.. 너무나 이기적인 결말임.\n"
     ]
    }
   ],
   "source": [
    "# 길이가 140인 문서 찾기\n",
    "check_document_with_length(raw_documents, 140)"
   ]
  },
  {
   "cell_type": "code",
   "execution_count": 27,
   "id": "6ea0fe0e",
   "metadata": {},
   "outputs": [
    {
     "name": "stdout",
     "output_type": "stream",
     "text": [
      "Total number of documents with length 141: 6 \n",
      "\n",
      "\"\"\"배경이 프랑스인 \"\"\"\"파리 5구의 여인\"\"\"\"도 망작이고. 미국이 배경인 빅픽처를 프랑스로 옮겨가서도 이런 졸작을 만들어 내다니. 원작자가 수많은 시나리오 각색을 물리고 이작품을 흡족해 했다는데. 영화를 보고 나서도 만족했을까? 최고의 망작\"\"\"\n",
      "\"\"\"처음엔 \"\"\"\"오로라 공주\"\"\"\" 제목두 상큼한 느낌이라 재밋을꺼 같았는데.. 마침표 찍을 쯤되면 이갸기 꾸며내구.. 끄니까 재미 없어요.. 언제 끝나는지두.. 100회 넘었어요.. 시누이 갈등 있고 설매니저랑 잘 되는줄 알았는데 또 끌구..\"\"\"\n",
      "\"\"\"처음쓰는거라 뭐 부터 말을 해야할지 잘모르겠지만몇자 적어봅니다 태어나서 이런거 적는건처음인거같네요! 28년 살면서 눈물 펑펑흘린드라마 처음이네요.최고의 명대사☆이~애비 오늘은 늦지않았다 은중아\"\"\"\"드라마는 감독이 없나요?이름좀 알고싶은데..\"\"\"\n",
      "\"\"\"'아빠어디가' 민국·지아, 애니 더빙 도전!더빙이 무슨 농촌체험이냐ㅡㅡ애들하고싶다하니까 경험으로 시켜줘야지하게 어엿히 극장에서 손님들이 \"\"\"\"돈을 내고\"\"\"\" 보는 영상물인데 거기에 연기해본적도 없는 애들을 출연시켜? 허허 말같지도않아서..\"\"\"\n",
      "\"\"\"내가 죽을때 남기고 싶은 유언:\"\"\"\"후손들에게 억만금의 재산을 물려주는것보다도 이 영화를 더 많은 사람에게 알려주는게 제일 중요하다\"\"\"\"백년이 지나도 천년이 지나도 원작가 톨킨과 피터잭슨 감독의 이름은 영원히 잊혀지지 않을것이라 생각된다.\"\"\"\n",
      "\"\"\"차려놓은 음식 뭉터기로 쌓아서 처먹는거나 보여줄거면 비빔밥이나 해먹지 각설이도 아니고 뭐하는 짓인지 원.. 강호동이 뭔 잘못이겠냐 능력없는 피디 작가가 문제지. 안봐도 뻔하다. \"\"\"\"호동씨 최대한 크게싸서 한입에 먹음직스럽게, 알죠?\"\"\"\"\"\"\"\n"
     ]
    }
   ],
   "source": [
    "# 길이가 138 141인 문서 찾기\n",
    "check_document_with_length(raw_documents, 141)"
   ]
  },
  {
   "cell_type": "code",
   "execution_count": 28,
   "id": "b3d2f8e2",
   "metadata": {},
   "outputs": [
    {
     "name": "stdout",
     "output_type": "stream",
     "text": [
      "Total number of documents with length 110: 141 \n",
      "\n",
      "이건 시종일관 질~~질왜? 제목이 야경꾼 일지냐고 지금 10회가 넘어가는데 즉 2달이 넘어가는데. 앞에서 누군가가 얘기 하더만 이거 100부작이냐고 그러다 또 한 순간에 모든걸 훅진짜 지루함의 지존\n",
      "내 기준으로 볼때, 영화는 수작이라고 표현해도 과찬이 아니지만, 황제,황후 두사람의 불화로 인해 엄청난 수의 사람들이 죽어가는 고대사를 보면서 마음에 불편한점이 가시질 않았던 영화 영화자체는 명작.\n",
      "연출력이나 그래픽 수준 보면 뭔 쌍팔년도 시대에 어떻게 스마트폰을 쓸수 있는걸까 하는 착각에 빠지는 경험을 하실수 있습니다. 꼭 보세요!는 개뿔 이거 볼바에 영구와 용가리 2탄을 보는게 낫겠다 ㅅ밤\n",
      "한마디로 한편의 '결혼 앨범'.. 주인공들이 결혼하고.. 피로연하고.. 신혼 생활하고.. 그게 다였던듯.. 그냥 다음편을 궁금해서 보게 만들기위한 예고편을 길게 느러뜨려놓은 느낌.. 정말 지루함..\n",
      "연기와 분장이 훌륭한 영화 였다. 영화 보다는 연극을 본 기분이 든다. 영화 자체의 완성도나 작품성은 별개로 설경구 라는 배우가 연기로 마음껏 발산하고 내뿜을수 있는 무대로 최적화 된 영화 같았다.\n",
      "단순한 에피소드 모음으로, 사춘기의 담론인 성적인 소재를 제외하면 영화가 아닌 일반 드라마의 느낌이 강하다. 지나치게 설명적이고 과장적이며 느린 편집으로 재미 반감. 10년이 지난 지금은 더욱 더.\n",
      "가슴아픈일입니다 순수한인간의가치관을지키는것이정말어렵습니다 일본인으로한국에와서 산를푸르게 하기위한열정과민예품의가치를알았으며 망우리에있는 묘소가화면에나왔을때에는 눈물이흘렀습니다 사랑합니다 아사카와다쿠미\n",
      "영화보면서 화나기는 오랜만이네..대체 전편과 다른게 뭔가? 무서우면 가질 말던가 꼭 들여다보다 죽음을 자초하는 등장인물과 무슨 말을 해도 믿지 않는 부모를 보면서 그냥 전편을 떠올리며 화가 나네요.\n",
      "극한 전쟁 상황 속이든 자신이 쌓은 커리어가 완전히 날아가는 상황에서 인간이 보여 줄 수 있는 진정한 용기에 대해서 배울 수 있는 영화. 여군 헬기 조종사 역을 맥 라이언이 맡은 것은 좀 아니지만.\n",
      "과거 영화를 현재 기술력에 비교해 평을 하는건 비교 불가....인듯....여운이 많이 남습니다. 결말에 아쉬움을 담고 비평하기 보다 있는 ....그대로 를 보고 싶어요....다시한번더 볼꺼 같습니다\n"
     ]
    }
   ],
   "source": [
    "# 길이가 100인 문서 찾기\n",
    "check_document_with_length(raw_documents, 110)"
   ]
  },
  {
   "cell_type": "code",
   "execution_count": 29,
   "id": "f10a232a",
   "metadata": {},
   "outputs": [
    {
     "name": "stdout",
     "output_type": "stream",
     "text": [
      "Total number of documents with length 100: 182 \n",
      "\n",
      "평중 '나만 당할수 없다'가있었는데 꼭 맞는 영화이다.차라리 월트디즈니 애니메이션으로 만들었으면 나았을 뻔한실망만 안겨주는 영화 부도리의 꿈 이후로 이렇게 빡치는 영화는 처음이다.\n",
      "소중한 사람들은 잃어가는 장면에서 김준식의 아픔을 절실하게 느꼈고, 전쟁은 아무런 의미없는 살육이라는 것과 절대로 일어나서는 안되는 것임을 이 영화를 통해 눈물로써 깨닫게 되었다.\n",
      "네이키드 킬러(적나고양) - 네이키드 웨폰 을 잇는 여성 킬러 액션 제3탄. 시대가 흐르면 감각도 업그레이드가 되어야 하는 법. 어뜨케 쌍팔년도에 나온 홍콩액션물 반도 못따라가니?\n",
      "허접한 극본과 강렬한 연출이 대비되는 작품.너무 허접하기 짝이 없는 극본 때문에 등장인물들이 연기를 잘해도 재미의 반감만 가득해질 뿐이다.차진수역에 박해준씨가 제일 기억에 남는다.\n",
      "진짜진짜 보다보다 이렇게지겨운만화첨입니다딸램보여주려갔더만헉포스터사기입니다포스터색감이라도되면좋으려만시커한바다 우울한 대사더빙엉망임이렇게재미없을수있나요극장서 중간 애들이졸리다고난리ㅡㅡ\n",
      "다른사람들처럼 저도 끝날 때 웃었어요 ㅋㅋㅋ설마 했는데 진짜로 결말이 뻔해서 ㅋㅋㅋㅋ 내가 너무 뻔하게 생각하군 싶었는데 그 결말이였네요 ㅋ 어이없어서 웃었습니다 감사합니다 그래도\n",
      "별점 무난해서 그냥 8점 주려다 10점줌 평점 왜이럼?? 전문가라는 평론가들 저질 영화에는 윽수로 점수 후하게 주더만 무난한 영화에 5점?? ㅎㄷㄷ하구만!! 으리으리한 의리영화계네\n",
      "실실 웃으며 봤다. 대단한 스토리도 없고 화면도 잔잔한데 이렇게 재밌는 건, 역시 일본영화의 매력인 듯. 아이돌가수 출신이라고 무시했는데, 마에다 아츠코도 제법 연기자 태가 나네.\n",
      "부자나라들이 소말리아의 해안 물고기를 싹쓸이해가고 힘들어지는 소말리아 어부들이 어쩔수없이 해적을 선택하는 안타까운 사실. 그들도 해적이 하고싶어서 했겠나. 인간이 결국 초래한거지.\n",
      "연기자들의 연기만으로도 10점짜리. 하지만 개운하지않은 구석이 있고 영화는 전체적으로 침울하고, 생각을 많이 하게 만든다 안타까움을 넘어서서 석연찮고..어지간한 영화보다 훨씬 났다\n"
     ]
    }
   ],
   "source": [
    "# 길이가 100인 문서 찾기\n",
    "check_document_with_length(raw_documents, 100)"
   ]
  },
  {
   "cell_type": "code",
   "execution_count": 30,
   "id": "e26c091b",
   "metadata": {},
   "outputs": [],
   "source": [
    "def count_range(start, end):\n",
    "    count = 0\n",
    "    for doc in raw_documents:\n",
    "        length = len(str(doc))\n",
    "        if start <= length <= end:\n",
    "            count += 1\n",
    "    return count  #HERE"
   ]
  },
  {
   "cell_type": "code",
   "execution_count": 31,
   "id": "283bf4ac",
   "metadata": {},
   "outputs": [
    {
     "name": "stdout",
     "output_type": "stream",
     "text": [
      "7912\n",
      "5.274842494749825 \n",
      "\n",
      "2701\n",
      "1.8007266908896962\n"
     ]
    }
   ],
   "source": [
    "print(count_range(105, 140))\n",
    "print(100*(count_range(105, 140) / count_range(1, 158)),\"\\n\")\n",
    "print(count_range(136, 140))\n",
    "print(100*(count_range(136, 140) / count_range(1, 158)))"
   ]
  },
  {
   "cell_type": "code",
   "execution_count": 32,
   "id": "fc04b29f",
   "metadata": {},
   "outputs": [
    {
     "name": "stdout",
     "output_type": "stream",
     "text": [
      "7626\n",
      "5.084169472315744 \n",
      "\n"
     ]
    }
   ],
   "source": [
    "print(count_range(1, 6))\n",
    "print(100*(count_range(1, 6) / count_range(1, 158)),\"\\n\")"
   ]
  },
  {
   "cell_type": "markdown",
   "id": "4e73c136",
   "metadata": {},
   "source": [
    "#### 👁️👁️DATA REVIEW"
   ]
  },
  {
   "cell_type": "markdown",
   "id": "230321b5",
   "metadata": {},
   "source": [
    "- 길이 136 ~ 140 인 리뷰 퀄리티 좋지만, 전체 1%도 안됨.  \n",
    "- => 고로, 106 이상 이상치로 간주하고 제거함\n",
    "- =>        7 미만도 이상치로 설정 (7 미만은 주어가 없어 무엇이 좋았는지 확인 안됨)  "
   ]
  },
  {
   "cell_type": "markdown",
   "id": "9e4cc7a4",
   "metadata": {},
   "source": [
    "## 본격적인 전처리 : 결측값 및 중복, 이상치 제거"
   ]
  },
  {
   "cell_type": "markdown",
   "id": "afc7d9f2",
   "metadata": {},
   "source": [
    "### 제거 전 확인"
   ]
  },
  {
   "cell_type": "code",
   "execution_count": 43,
   "id": "99277e2f",
   "metadata": {},
   "outputs": [],
   "source": [
    "# 데이터 불러오기 전 시각화 (결측값, 중복 확인)\n",
    "def visualize_data(file_path):\n",
    "    data = pd.read_csv(file_path, sep='\\t')\n",
    "    \n",
    "    # 결측값 및 중복 확인 시각화\n",
    "    plt.figure(figsize=(12, 6))\n",
    "    plt.subplot(1, 2, 1)\n",
    "    plt.title('Counting Missing Value')\n",
    "    data.isnull().sum().plot(kind='bar')\n",
    "    \n",
    "    plt.subplot(1, 2, 2)\n",
    "    plt.title('Counting Duplication')\n",
    "    duplicated_count = data.duplicated(subset=['document']).sum()\n",
    "    plt.bar(['Duplication Sample'], [duplicated_count])\n",
    "    plt.show()  #HERE"
   ]
  },
  {
   "cell_type": "code",
   "execution_count": 34,
   "id": "0fce0650",
   "metadata": {},
   "outputs": [
    {
     "name": "stderr",
     "output_type": "stream",
     "text": [
      "/opt/conda/lib/python3.9/site-packages/matplotlib/backends/backend_agg.py:240: RuntimeWarning: Glyph 44208 missing from current font.\n",
      "  font.set_text(s, 0.0, flags=flags)\n",
      "/opt/conda/lib/python3.9/site-packages/matplotlib/backends/backend_agg.py:240: RuntimeWarning: Glyph 52769 missing from current font.\n",
      "  font.set_text(s, 0.0, flags=flags)\n",
      "/opt/conda/lib/python3.9/site-packages/matplotlib/backends/backend_agg.py:240: RuntimeWarning: Glyph 44050 missing from current font.\n",
      "  font.set_text(s, 0.0, flags=flags)\n",
      "/opt/conda/lib/python3.9/site-packages/matplotlib/backends/backend_agg.py:240: RuntimeWarning: Glyph 44060 missing from current font.\n",
      "  font.set_text(s, 0.0, flags=flags)\n",
      "/opt/conda/lib/python3.9/site-packages/matplotlib/backends/backend_agg.py:240: RuntimeWarning: Glyph 49688 missing from current font.\n",
      "  font.set_text(s, 0.0, flags=flags)\n",
      "/opt/conda/lib/python3.9/site-packages/matplotlib/backends/backend_agg.py:240: RuntimeWarning: Glyph 51473 missing from current font.\n",
      "  font.set_text(s, 0.0, flags=flags)\n",
      "/opt/conda/lib/python3.9/site-packages/matplotlib/backends/backend_agg.py:240: RuntimeWarning: Glyph 48373 missing from current font.\n",
      "  font.set_text(s, 0.0, flags=flags)\n",
      "/opt/conda/lib/python3.9/site-packages/matplotlib/backends/backend_agg.py:240: RuntimeWarning: Glyph 46108 missing from current font.\n",
      "  font.set_text(s, 0.0, flags=flags)\n",
      "/opt/conda/lib/python3.9/site-packages/matplotlib/backends/backend_agg.py:240: RuntimeWarning: Glyph 49368 missing from current font.\n",
      "  font.set_text(s, 0.0, flags=flags)\n",
      "/opt/conda/lib/python3.9/site-packages/matplotlib/backends/backend_agg.py:240: RuntimeWarning: Glyph 54540 missing from current font.\n",
      "  font.set_text(s, 0.0, flags=flags)\n",
      "/opt/conda/lib/python3.9/site-packages/matplotlib/backends/backend_agg.py:203: RuntimeWarning: Glyph 44208 missing from current font.\n",
      "  font.set_text(s, 0, flags=flags)\n",
      "/opt/conda/lib/python3.9/site-packages/matplotlib/backends/backend_agg.py:203: RuntimeWarning: Glyph 52769 missing from current font.\n",
      "  font.set_text(s, 0, flags=flags)\n",
      "/opt/conda/lib/python3.9/site-packages/matplotlib/backends/backend_agg.py:203: RuntimeWarning: Glyph 44050 missing from current font.\n",
      "  font.set_text(s, 0, flags=flags)\n",
      "/opt/conda/lib/python3.9/site-packages/matplotlib/backends/backend_agg.py:203: RuntimeWarning: Glyph 44060 missing from current font.\n",
      "  font.set_text(s, 0, flags=flags)\n",
      "/opt/conda/lib/python3.9/site-packages/matplotlib/backends/backend_agg.py:203: RuntimeWarning: Glyph 49688 missing from current font.\n",
      "  font.set_text(s, 0, flags=flags)\n",
      "/opt/conda/lib/python3.9/site-packages/matplotlib/backends/backend_agg.py:203: RuntimeWarning: Glyph 51473 missing from current font.\n",
      "  font.set_text(s, 0, flags=flags)\n",
      "/opt/conda/lib/python3.9/site-packages/matplotlib/backends/backend_agg.py:203: RuntimeWarning: Glyph 48373 missing from current font.\n",
      "  font.set_text(s, 0, flags=flags)\n",
      "/opt/conda/lib/python3.9/site-packages/matplotlib/backends/backend_agg.py:203: RuntimeWarning: Glyph 46108 missing from current font.\n",
      "  font.set_text(s, 0, flags=flags)\n",
      "/opt/conda/lib/python3.9/site-packages/matplotlib/backends/backend_agg.py:203: RuntimeWarning: Glyph 49368 missing from current font.\n",
      "  font.set_text(s, 0, flags=flags)\n",
      "/opt/conda/lib/python3.9/site-packages/matplotlib/backends/backend_agg.py:203: RuntimeWarning: Glyph 54540 missing from current font.\n",
      "  font.set_text(s, 0, flags=flags)\n"
     ]
    },
    {
     "data": {
      "image/png": "[encoded data removed]",
      "text/plain": [
       "<Figure size 864x432 with 2 Axes>"
      ]
     },
     "metadata": {
      "needs_background": "light"
     },
     "output_type": "display_data"
    },
    {
     "name": "stderr",
     "output_type": "stream",
     "text": [
      "/opt/conda/lib/python3.9/site-packages/matplotlib/backends/backend_agg.py:240: RuntimeWarning: Glyph 44208 missing from current font.\n",
      "  font.set_text(s, 0.0, flags=flags)\n",
      "/opt/conda/lib/python3.9/site-packages/matplotlib/backends/backend_agg.py:240: RuntimeWarning: Glyph 52769 missing from current font.\n",
      "  font.set_text(s, 0.0, flags=flags)\n",
      "/opt/conda/lib/python3.9/site-packages/matplotlib/backends/backend_agg.py:240: RuntimeWarning: Glyph 44050 missing from current font.\n",
      "  font.set_text(s, 0.0, flags=flags)\n",
      "/opt/conda/lib/python3.9/site-packages/matplotlib/backends/backend_agg.py:240: RuntimeWarning: Glyph 44060 missing from current font.\n",
      "  font.set_text(s, 0.0, flags=flags)\n",
      "/opt/conda/lib/python3.9/site-packages/matplotlib/backends/backend_agg.py:240: RuntimeWarning: Glyph 49688 missing from current font.\n",
      "  font.set_text(s, 0.0, flags=flags)\n",
      "/opt/conda/lib/python3.9/site-packages/matplotlib/backends/backend_agg.py:240: RuntimeWarning: Glyph 51473 missing from current font.\n",
      "  font.set_text(s, 0.0, flags=flags)\n",
      "/opt/conda/lib/python3.9/site-packages/matplotlib/backends/backend_agg.py:240: RuntimeWarning: Glyph 48373 missing from current font.\n",
      "  font.set_text(s, 0.0, flags=flags)\n",
      "/opt/conda/lib/python3.9/site-packages/matplotlib/backends/backend_agg.py:240: RuntimeWarning: Glyph 46108 missing from current font.\n",
      "  font.set_text(s, 0.0, flags=flags)\n",
      "/opt/conda/lib/python3.9/site-packages/matplotlib/backends/backend_agg.py:240: RuntimeWarning: Glyph 49368 missing from current font.\n",
      "  font.set_text(s, 0.0, flags=flags)\n",
      "/opt/conda/lib/python3.9/site-packages/matplotlib/backends/backend_agg.py:240: RuntimeWarning: Glyph 54540 missing from current font.\n",
      "  font.set_text(s, 0.0, flags=flags)\n",
      "/opt/conda/lib/python3.9/site-packages/matplotlib/backends/backend_agg.py:203: RuntimeWarning: Glyph 44208 missing from current font.\n",
      "  font.set_text(s, 0, flags=flags)\n",
      "/opt/conda/lib/python3.9/site-packages/matplotlib/backends/backend_agg.py:203: RuntimeWarning: Glyph 52769 missing from current font.\n",
      "  font.set_text(s, 0, flags=flags)\n",
      "/opt/conda/lib/python3.9/site-packages/matplotlib/backends/backend_agg.py:203: RuntimeWarning: Glyph 44050 missing from current font.\n",
      "  font.set_text(s, 0, flags=flags)\n",
      "/opt/conda/lib/python3.9/site-packages/matplotlib/backends/backend_agg.py:203: RuntimeWarning: Glyph 44060 missing from current font.\n",
      "  font.set_text(s, 0, flags=flags)\n",
      "/opt/conda/lib/python3.9/site-packages/matplotlib/backends/backend_agg.py:203: RuntimeWarning: Glyph 49688 missing from current font.\n",
      "  font.set_text(s, 0, flags=flags)\n",
      "/opt/conda/lib/python3.9/site-packages/matplotlib/backends/backend_agg.py:203: RuntimeWarning: Glyph 51473 missing from current font.\n",
      "  font.set_text(s, 0, flags=flags)\n",
      "/opt/conda/lib/python3.9/site-packages/matplotlib/backends/backend_agg.py:203: RuntimeWarning: Glyph 48373 missing from current font.\n",
      "  font.set_text(s, 0, flags=flags)\n",
      "/opt/conda/lib/python3.9/site-packages/matplotlib/backends/backend_agg.py:203: RuntimeWarning: Glyph 46108 missing from current font.\n",
      "  font.set_text(s, 0, flags=flags)\n",
      "/opt/conda/lib/python3.9/site-packages/matplotlib/backends/backend_agg.py:203: RuntimeWarning: Glyph 49368 missing from current font.\n",
      "  font.set_text(s, 0, flags=flags)\n",
      "/opt/conda/lib/python3.9/site-packages/matplotlib/backends/backend_agg.py:203: RuntimeWarning: Glyph 54540 missing from current font.\n",
      "  font.set_text(s, 0, flags=flags)\n"
     ]
    },
    {
     "data": {
      "image/png": "[encoded data removed]",
      "text/plain": [
       "<Figure size 864x432 with 2 Axes>"
      ]
     },
     "metadata": {
      "needs_background": "light"
     },
     "output_type": "display_data"
    }
   ],
   "source": [
    "visualize_data(train_data_path)"
   ]
  },
  {
   "cell_type": "code",
   "execution_count": null,
   "id": "81a079fe",
   "metadata": {},
   "outputs": [],
   "source": [
    "visualize_data(test_data_path)"
   ]
  },
  {
   "cell_type": "markdown",
   "id": "fe2d666e",
   "metadata": {},
   "source": [
    "### 제거 실행"
   ]
  },
  {
   "cell_type": "code",
   "execution_count": 35,
   "id": "ed804818",
   "metadata": {},
   "outputs": [],
   "source": [
    "def load_data(file_path):\n",
    "    data = pd.read_csv(file_path, sep='\\t')\n",
    "    # 결측값 및 중복 제거\n",
    "    data = data.dropna(how='any')  # 결측값 제거\n",
    "    data = data.drop_duplicates(subset=['document'])  # 중복 제거\n",
    "    \n",
    "    # 이상치 제거 (길이 7 미만, 106 이상인 데이터 제거)\n",
    "    data['length'] = data['document'].apply(lambda x: len(str(x)))\n",
    "    data = data[(data['length'] >= 7) & (data['length'] <= 106)]\n",
    "    \n",
    "    return data  #HERE"
   ]
  },
  {
   "cell_type": "code",
   "execution_count": 36,
   "id": "4d9cf063",
   "metadata": {},
   "outputs": [
    {
     "name": "stdout",
     "output_type": "stream",
     "text": [
      "훈련 데이터: 133855개, 테스트 데이터: 44836개\n"
     ]
    }
   ],
   "source": [
    "train_data = load_data(train_data_path)\n",
    "test_data = load_data(test_data_path)\n",
    "print(f\"훈련 데이터: {len(train_data)}개, 테스트 데이터: {len(test_data)}개\")"
   ]
  },
  {
   "cell_type": "markdown",
   "id": "711871e8",
   "metadata": {},
   "source": [
    "---"
   ]
  },
  {
   "cell_type": "markdown",
   "id": "b9e9e6c8",
   "metadata": {},
   "source": [
    "# Step 03: SentencePiece 모델 학습 및 Tokenizer 구현"
   ]
  },
  {
   "cell_type": "markdown",
   "id": "ebaea47a",
   "metadata": {},
   "source": [
    "---"
   ]
  },
  {
   "cell_type": "code",
   "execution_count": 37,
   "id": "54f90d34",
   "metadata": {},
   "outputs": [],
   "source": [
    "# 코퍼스 추출\n",
    "corpus = train_data['document'].tolist()\n",
    "# 토크나이저의 어휘 사전 크기 설정\n",
    "vocab_size = 8000\n",
    "# 코퍼시 저정할 임시 파일 경로\n",
    "temp_file = train_data_path"
   ]
  },
  {
   "cell_type": "code",
   "execution_count": 38,
   "id": "afb5720a",
   "metadata": {},
   "outputs": [],
   "source": [
    "# 임시 파일에 코퍼스 저장(SentencePiece 모델 학습을 위한 텍스트 파일을 준비)\n",
    "\n",
    "# temp_file 경로에 파일을 열고 쓰기 모드('w')로 파일 객체 f를 만듦\n",
    "with open(temp_file, 'w') as f: \n",
    "    for row in corpus:\n",
    "        f.write(str(row) + '\\n')"
   ]
  },
  {
   "cell_type": "markdown",
   "id": "9e4f1c67",
   "metadata": {},
   "source": [
    "### 본격 SentencePiece 모델 학습 및 Tokenizer 구현"
   ]
  },
  {
   "cell_type": "code",
   "execution_count": 39,
   "id": "fd39555e",
   "metadata": {},
   "outputs": [
    {
     "name": "stderr",
     "output_type": "stream",
     "text": [
      "sentencepiece_trainer.cc(177) LOG(INFO) Running command: --input=/aiffel/aiffel/sp_tokenizer/data/ratings_train.txt --model_prefix=korean_spm --vocab_size=8000\n",
      "sentencepiece_trainer.cc(77) LOG(INFO) Starts training with : \n",
      "trainer_spec {\n",
      "  input: /aiffel/aiffel/sp_tokenizer/data/ratings_train.txt\n",
      "  input_format: \n",
      "  model_prefix: korean_spm\n",
      "  model_type: UNIGRAM\n",
      "  vocab_size: 8000\n",
      "  self_test_sample_size: 0\n",
      "  character_coverage: 0.9995\n",
      "  input_sentence_size: 0\n",
      "  shuffle_input_sentence: 1\n",
      "  seed_sentencepiece_size: 1000000\n",
      "  shrinking_factor: 0.75\n",
      "  max_sentence_length: 4192\n",
      "  num_threads: 16\n",
      "  num_sub_iterations: 2\n",
      "  max_sentencepiece_length: 16\n",
      "  split_by_unicode_script: 1\n",
      "  split_by_number: 1\n",
      "  split_by_whitespace: 1\n",
      "  split_digits: 0\n",
      "  treat_whitespace_as_suffix: 0\n",
      "  allow_whitespace_only_pieces: 0\n",
      "  required_chars: \n",
      "  byte_fallback: 0\n",
      "  vocabulary_output_piece_score: 1\n",
      "  train_extremely_large_corpus: 0\n",
      "  hard_vocab_limit: 1\n",
      "  use_all_vocab: 0\n",
      "  unk_id: 0\n",
      "  bos_id: 1\n",
      "  eos_id: 2\n",
      "  pad_id: -1\n",
      "  unk_piece: <unk>\n",
      "  bos_piece: <s>\n",
      "  eos_piece: </s>\n",
      "  pad_piece: <pad>\n",
      "  unk_surface:  ⁇ \n",
      "}\n",
      "normalizer_spec {\n",
      "  name: nmt_nfkc\n",
      "  add_dummy_prefix: 1\n",
      "  remove_extra_whitespaces: 1\n",
      "  escape_whitespaces: 1\n",
      "  normalization_rule_tsv: \n",
      "}\n",
      "denormalizer_spec {}\n",
      "trainer_interface.cc(329) LOG(INFO) SentenceIterator is not specified. Using MultiFileSentenceIterator.\n",
      "trainer_interface.cc(178) LOG(INFO) Loading corpus: /aiffel/aiffel/sp_tokenizer/data/ratings_train.txt\n",
      "trainer_interface.cc(385) LOG(INFO) Loaded all 133855 sentences\n",
      "trainer_interface.cc(400) LOG(INFO) Adding meta_piece: <unk>\n",
      "trainer_interface.cc(400) LOG(INFO) Adding meta_piece: <s>\n",
      "trainer_interface.cc(400) LOG(INFO) Adding meta_piece: </s>\n",
      "trainer_interface.cc(405) LOG(INFO) Normalizing sentences...\n",
      "trainer_interface.cc(466) LOG(INFO) all chars count=4393425\n",
      "trainer_interface.cc(477) LOG(INFO) Done: 99.9501% characters are covered.\n",
      "trainer_interface.cc(487) LOG(INFO) Alphabet size=1721\n",
      "trainer_interface.cc(488) LOG(INFO) Final character coverage=0.999501\n",
      "trainer_interface.cc(520) LOG(INFO) Done! preprocessed 133855 sentences.\n",
      "unigram_model_trainer.cc(139) LOG(INFO) Making suffix array...\n",
      "unigram_model_trainer.cc(143) LOG(INFO) Extracting frequent sub strings...\n",
      "unigram_model_trainer.cc(194) LOG(INFO) Initialized 258581 seed sentencepieces\n",
      "trainer_interface.cc(526) LOG(INFO) Tokenizing input sentences with whitespace: 133855\n",
      "trainer_interface.cc(537) LOG(INFO) Done! 297453\n",
      "unigram_model_trainer.cc(489) LOG(INFO) Using 297453 sentences for EM training\n",
      "unigram_model_trainer.cc(505) LOG(INFO) EM sub_iter=0 size=133148 obj=15.3713 num_tokens=699851 num_tokens/piece=5.25619\n",
      "unigram_model_trainer.cc(505) LOG(INFO) EM sub_iter=1 size=123381 obj=14.3115 num_tokens=704429 num_tokens/piece=5.70938\n",
      "unigram_model_trainer.cc(505) LOG(INFO) EM sub_iter=0 size=92485 obj=14.4224 num_tokens=734870 num_tokens/piece=7.94583\n",
      "unigram_model_trainer.cc(505) LOG(INFO) EM sub_iter=1 size=92327 obj=14.3648 num_tokens=735454 num_tokens/piece=7.96575\n",
      "unigram_model_trainer.cc(505) LOG(INFO) EM sub_iter=0 size=69241 obj=14.6179 num_tokens=773138 num_tokens/piece=11.1659\n",
      "unigram_model_trainer.cc(505) LOG(INFO) EM sub_iter=1 size=69237 obj=14.5536 num_tokens=773299 num_tokens/piece=11.1689\n",
      "unigram_model_trainer.cc(505) LOG(INFO) EM sub_iter=0 size=51927 obj=14.8271 num_tokens=809406 num_tokens/piece=15.5874\n",
      "unigram_model_trainer.cc(505) LOG(INFO) EM sub_iter=1 size=51927 obj=14.763 num_tokens=809404 num_tokens/piece=15.5873\n",
      "unigram_model_trainer.cc(505) LOG(INFO) EM sub_iter=0 size=38945 obj=15.0733 num_tokens=848249 num_tokens/piece=21.7807\n",
      "unigram_model_trainer.cc(505) LOG(INFO) EM sub_iter=1 size=38945 obj=15.0067 num_tokens=848270 num_tokens/piece=21.7812\n",
      "unigram_model_trainer.cc(505) LOG(INFO) EM sub_iter=0 size=29208 obj=15.3483 num_tokens=888168 num_tokens/piece=30.4084\n",
      "unigram_model_trainer.cc(505) LOG(INFO) EM sub_iter=1 size=29208 obj=15.279 num_tokens=888187 num_tokens/piece=30.409\n",
      "unigram_model_trainer.cc(505) LOG(INFO) EM sub_iter=0 size=21906 obj=15.6564 num_tokens=929383 num_tokens/piece=42.426\n",
      "unigram_model_trainer.cc(505) LOG(INFO) EM sub_iter=1 size=21906 obj=15.5815 num_tokens=929385 num_tokens/piece=42.426\n",
      "unigram_model_trainer.cc(505) LOG(INFO) EM sub_iter=0 size=16429 obj=15.9921 num_tokens=972610 num_tokens/piece=59.2008\n",
      "unigram_model_trainer.cc(505) LOG(INFO) EM sub_iter=1 size=16429 obj=15.9081 num_tokens=972621 num_tokens/piece=59.2015\n",
      "unigram_model_trainer.cc(505) LOG(INFO) EM sub_iter=0 size=12321 obj=16.3564 num_tokens=1018345 num_tokens/piece=82.6512\n",
      "unigram_model_trainer.cc(505) LOG(INFO) EM sub_iter=1 size=12321 obj=16.2512 num_tokens=1018351 num_tokens/piece=82.6517\n",
      "unigram_model_trainer.cc(505) LOG(INFO) EM sub_iter=0 size=9240 obj=16.7423 num_tokens=1068349 num_tokens/piece=115.622\n",
      "unigram_model_trainer.cc(505) LOG(INFO) EM sub_iter=1 size=9240 obj=16.6356 num_tokens=1068633 num_tokens/piece=115.653\n",
      "unigram_model_trainer.cc(505) LOG(INFO) EM sub_iter=0 size=8800 obj=16.7322 num_tokens=1078004 num_tokens/piece=122.5\n",
      "unigram_model_trainer.cc(505) LOG(INFO) EM sub_iter=1 size=8800 obj=16.7124 num_tokens=1078087 num_tokens/piece=122.51\n",
      "trainer_interface.cc(615) LOG(INFO) Saving model: korean_spm.model\n",
      "trainer_interface.cc(626) LOG(INFO) Saving vocabs: korean_spm.vocab\n"
     ]
    }
   ],
   "source": [
    "# SentencePiece 모델 학습\n",
    "spm.SentencePieceTrainer.Train(\n",
    "    '--input={} --model_prefix=korean_spm --vocab_size={}'.format(temp_file, vocab_size)\n",
    ")\n",
    "\n",
    "# SentencePiece 모델 로드 및 토크나이징 함수 정의\n",
    "s = spm.SentencePieceProcessor()\n",
    "s.Load('korean_spm.model')\n",
    "\n",
    "def sp_tokenize(s, corpus):\n",
    "    tensor = []\n",
    "    for sen in corpus:\n",
    "        tensor.append(s.EncodeAsIds(sen))\n",
    "\n",
    "    with open(\"./korean_spm.vocab\", 'r') as f:\n",
    "        vocab = f.readlines()\n",
    "\n",
    "    word_index = {}\n",
    "    index_word = {}\n",
    "\n",
    "    for idx, line in enumerate(vocab):\n",
    "        word = line.split(\"\\t\")[0]\n",
    "        word_index.update({word: idx})\n",
    "        index_word.update({idx: word})\n",
    "\n",
    "    tensor = tf.keras.preprocessing.sequence.pad_sequences(tensor, padding='post')\n",
    "\n",
    "    return tensor, word_index, index_word\n",
    "\n",
    "# 훈련 데이터 토큰화\n",
    "tensor_train, word_index, index_word = sp_tokenize(s, train_data['document'])"
   ]
  },
  {
   "cell_type": "markdown",
   "id": "998829c3",
   "metadata": {},
   "source": [
    "---"
   ]
  },
  {
   "cell_type": "markdown",
   "id": "57775f9f",
   "metadata": {},
   "source": [
    "# Step 04: 네이버 영화리뷰 감정 분석 모델 학습"
   ]
  },
  {
   "cell_type": "markdown",
   "id": "3403836d",
   "metadata": {},
   "source": [
    "---"
   ]
  },
  {
   "cell_type": "code",
   "execution_count": 40,
   "id": "ded0d103",
   "metadata": {},
   "outputs": [],
   "source": [
    "# 레이블 준비\n",
    "y_train = train_data['label'].values\n",
    "\n",
    "# 데이터셋 분할(훈련,검증 나누기)\n",
    "tensor_train, X_val, y_train, y_val = train_test_split(tensor_train, y_train, test_size=0.2, random_state=42)"
   ]
  },
  {
   "cell_type": "code",
   "execution_count": 41,
   "id": "f1838fcc",
   "metadata": {},
   "outputs": [
    {
     "name": "stdout",
     "output_type": "stream",
     "text": [
      "Epoch 1/5\n",
      "1674/1674 [==============================] - 445s 264ms/step - loss: 0.6933 - accuracy: 0.4984 - val_loss: 0.6932 - val_accuracy: 0.4995\n",
      "Epoch 2/5\n",
      "1674/1674 [==============================] - 447s 267ms/step - loss: 0.6932 - accuracy: 0.5024 - val_loss: 0.6932 - val_accuracy: 0.4995\n",
      "Epoch 3/5\n",
      "1674/1674 [==============================] - 444s 265ms/step - loss: 0.6932 - accuracy: 0.4995 - val_loss: 0.6931 - val_accuracy: 0.5005\n",
      "Epoch 4/5\n",
      "1674/1674 [==============================] - 447s 267ms/step - loss: 0.6932 - accuracy: 0.5021 - val_loss: 0.6932 - val_accuracy: 0.5005\n",
      "Epoch 5/5\n",
      "1674/1674 [==============================] - 444s 265ms/step - loss: 0.6932 - accuracy: 0.5004 - val_loss: 0.6931 - val_accuracy: 0.5005\n"
     ]
    },
    {
     "data": {
      "text/plain": [
       "<keras.callbacks.History at 0x7922069d4970>"
      ]
     },
     "execution_count": 41,
     "metadata": {},
     "output_type": "execute_result"
    }
   ],
   "source": [
    "# 모델 정의 및 학습\n",
    "model = Sequential()\n",
    "model.add(Embedding(input_dim=vocab_size, output_dim=128))\n",
    "model.add(LSTM(128))\n",
    "model.add(Dense(1, activation='sigmoid'))\n",
    "\n",
    "model.compile(optimizer='adam', loss='binary_crossentropy', metrics=['accuracy'])\n",
    "model.fit(tensor_train, y_train, validation_data=(X_val, y_val), epochs=5, batch_size=64)"
   ]
  },
  {
   "cell_type": "code",
   "execution_count": 42,
   "id": "430995d8",
   "metadata": {},
   "outputs": [
    {
     "name": "stdout",
     "output_type": "stream",
     "text": [
      "1402/1402 [==============================] - 80s 57ms/step - loss: 0.6931 - accuracy: 0.5053\n",
      "테스트 정확도: 50.53%\n"
     ]
    }
   ],
   "source": [
    "# 테스트 데이터 토큰화 및 평가\n",
    "tensor_test, _, _ = sp_tokenize(s, test_data['document'])\n",
    "y_test = test_data['label'].values\n",
    "\n",
    "test_loss, test_acc = model.evaluate(tensor_test, y_test)\n",
    "print(f\"테스트 정확도: {test_acc * 100:.2f}%\")"
   ]
  },
  {
   "cell_type": "markdown",
   "id": "d60627a2",
   "metadata": {},
   "source": []
  },
  {
   "cell_type": "markdown",
   "id": "692f7afd",
   "metadata": {},
   "source": [
    "# Step 5: KoNLPy 형태소 분석기와의 성능 비교 \n",
    "## (Mecab, Kkma, Okt)"
   ]
  },
  {
   "cell_type": "markdown",
   "id": "fd34801f",
   "metadata": {},
   "source": [
    "### KoNLPy 전용 토큰화 함수 (analyzeObj = Mecab, Kkma, Okt)"
   ]
  },
  {
   "cell_type": "code",
   "execution_count": null,
   "id": "631b672d",
   "metadata": {},
   "outputs": [],
   "source": [
    "def tokenize_with_konlpy(analyzeObj, corpusList):\n",
    "    tokenized_corpus = []  #HERE\n",
    "    for sentence in corpusList:\n",
    "        tokenized_corpus.append(analyzeObj.morphs(sentence))\n",
    "    return tokenized_corpus"
   ]
  },
  {
   "cell_type": "code",
   "execution_count": null,
   "id": "19de5ffa",
   "metadata": {},
   "outputs": [],
   "source": [
    "# Mecab, Kkma, Okt Tokenizers\n",
    "mecab = Mecab()\n",
    "kkma = Kkma()\n",
    "okt = Okt()\n",
    "\n",
    "# 각 형태소 분석기를 사용하여 코퍼스 토큰화\n",
    "tokenized_mecab = tokenize_with_konlpy(mecab, corpus)\n",
    "tokenized_okt = tokenize_with_konlpy(okt, corpus)\n",
    "\n",
    "tokenized_mecab_test = tokenize_with_konlpy(mecab, test_data['document'])\n",
    "tokenized_okt_test = tokenize_with_konlpy(okt, test_data['document'])\n",
    "\n",
    "# tokenized_kkma = tokenize_with_konlpy(kkma, corpus)\n",
    "# tokenized_kkma_test = tokenize_with_konlpy(kkma, test_data['document'])"
   ]
  },
  {
   "cell_type": "markdown",
   "id": "baea4de4",
   "metadata": {},
   "source": [
    "### Mecab : Tensor 변환 및 모델 평가"
   ]
  },
  {
   "cell_type": "markdown",
   "id": "d1ca4ddf",
   "metadata": {},
   "source": [
    "Mecab"
   ]
  },
  {
   "cell_type": "code",
   "execution_count": null,
   "id": "2262e1af",
   "metadata": {},
   "outputs": [],
   "source": [
    "# 토큰화된 결과를 사용하여 Tensor 변환 및 모델 평가 (Mecab 예시)\n",
    "tensor_mecab = tf.keras.preprocessing.sequence.pad_sequences(\n",
    "    [[word_index.get(word, 0) for word in sentence] for sentence in tokenized_mecab], padding='post'\n",
    ")\n",
    "\n",
    "y_train_mecab = train_data['label'].values\n",
    "tensor_train_mecab, X_val_mecab, y_train_mecab, y_val_mecab = train_test_split(tensor_mecab, y_train_mecab, test_size=0.2, random_state=42)\n",
    "\n",
    "model.fit(tensor_train_mecab, y_train_mecab, validation_data=(X_val_mecab, y_val_mecab), epochs=5, batch_size=64)\n"
   ]
  },
  {
   "cell_type": "code",
   "execution_count": null,
   "id": "8f5d815e",
   "metadata": {},
   "outputs": [],
   "source": [
    "# 테스트 데이터 평가 (Mecab 예시)\n",
    "tensor_test_mecab = tf.keras.preprocessing.sequence.pad_sequences(\n",
    "    [[word_index.get(word, 0) for word in sentence] for sentence in tokenized_mecab_test)], padding='post'\n",
    ")\n",
    "\n",
    "test_loss_mecab, test_acc_mecab = model.evaluate(tensor_test_mecab, y_test)\n",
    "print(f\"Mecab 토크나이저 테스트 정확도: {test_acc_mecab * 100:.2f}%\")"
   ]
  },
  {
   "cell_type": "markdown",
   "id": "15105acf",
   "metadata": {},
   "source": [
    "### Okt : Tensor 변환 및 모델 평가"
   ]
  },
  {
   "cell_type": "markdown",
   "id": "b2de5d24",
   "metadata": {},
   "source": [
    "Okt"
   ]
  },
  {
   "cell_type": "code",
   "execution_count": null,
   "id": "8228a954",
   "metadata": {},
   "outputs": [],
   "source": [
    "# 토큰화된 결과를 사용하여 Tensor 변환 및 모델 평가 (Okt 예시)\n",
    "tensor_okt = tf.keras.preprocessing.sequence.pad_sequences(\n",
    "    [[word_index.get(word, 0) for word in sentence] for sentence in tokenized_okt], padding='post'\n",
    ")\n",
    "\n",
    "y_train_okt = train_data['label'].values\n",
    "tensor_train_okt, X_val_okt, y_train_okt, y_val_okt = train_test_split(tensor_okt, y_train_okt, test_size=0.2, random_state=42)\n",
    "\n",
    "model.fit(tensor_train_okt, y_train_okt, validation_data=(X_val_okt, y_val_okt), epochs=5, batch_size=64)"
   ]
  },
  {
   "cell_type": "code",
   "execution_count": null,
   "id": "e2061bb6",
   "metadata": {},
   "outputs": [],
   "source": [
    "# 테스트 데이터 평가 (Okt 예시)\n",
    "tensor_test_okt = tf.keras.preprocessing.sequence.pad_sequences(\n",
    "    [[word_index.get(word, 0) for word in sentence] for sentence in tokenized_okt_test)], padding='post'\n",
    ")"
   ]
  }
 ],
 "metadata": {
  "kernelspec": {
   "display_name": "Python 3 (ipykernel)",
   "language": "python",
   "name": "python3"
  },
  "language_info": {
   "codemirror_mode": {
    "name": "ipython",
    "version": 3
   },
   "file_extension": ".py",
   "mimetype": "text/x-python",
   "name": "python",
   "nbconvert_exporter": "python",
   "pygments_lexer": "ipython3",
   "version": "3.9.7"
  }
 },
 "nbformat": 4,
 "nbformat_minor": 5
}
