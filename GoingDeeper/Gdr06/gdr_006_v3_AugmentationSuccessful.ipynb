{
 "cells": [
  {
   "cell_type": "markdown",
   "id": "a13c3467",
   "metadata": {},
   "source": [
    "### 코더의 소회 : \n",
    "날씨 : 오늘의 학습 < >했습니다. [☀️⛅☁️🌧️🌩️⛈️]\n",
    "- 배운점 : \n",
    "- 아쉬운점 :  \n",
    "- 느낀점 :\n",
    "\n",
    "(참고 : https://github.com/Annyong2/AIFFEL_quest_rs/tree/master/GoingDeeper/Gdr06)"
   ]
  },
  {
   "cell_type": "markdown",
   "id": "edd10166",
   "metadata": {},
   "source": [
    "### 전체 코드 실행 플로우 (목차):\n",
    "\n",
    "**STEP 1. 불러오기 : 라이브러리 & 데이터**  \n",
    "\n",
    "**STEP 2. 데이터 정제**  \n",
    "\n",
    "**STEP 3. 데이터 토큰화**  \n",
    "\n",
    "**STEP 4. Augmentation**  \n",
    "\n",
    "**STEP 5. 데이터 벡터화**  \n",
    "\n",
    "**STEP 6. 훈련하기**  \n"
   ]
  },
  {
   "cell_type": "markdown",
   "id": "921251f1",
   "metadata": {},
   "source": [
    "---"
   ]
  },
  {
   "cell_type": "markdown",
   "id": "7476b609",
   "metadata": {},
   "source": [
    "# STEP 1. 불러오기 : 라이브러리 & 데이터\n",
    "---"
   ]
  },
  {
   "cell_type": "markdown",
   "id": "594f4cd4",
   "metadata": {},
   "source": [
    "#### 라이브러리"
   ]
  },
  {
   "cell_type": "code",
   "execution_count": 1,
   "id": "71532a7a",
   "metadata": {},
   "outputs": [
    {
     "name": "stdout",
     "output_type": "stream",
     "text": [
      "1.21.4\n",
      "1.3.3\n",
      "2.6.0\n",
      "3.6.5\n",
      "3.8.3\n"
     ]
    }
   ],
   "source": [
    "import tensorflow as tf\n",
    "import tensorflow_datasets as tfds\n",
    "from tensorflow.keras.callbacks import EarlyStopping\n",
    "from tqdm.notebook import tqdm\n",
    "import numpy as np\n",
    "import pandas as pd\n",
    "import matplotlib as mpl\n",
    "import matplotlib.pyplot as plt\n",
    "import matplotlib.font_manager as fm  # 폰트 설정\n",
    "from sklearn.model_selection import train_test_split\n",
    "import os\n",
    "import re\n",
    "import warnings\n",
    "warnings.filterwarnings(\"ignore\", category=UserWarning, module='bs4')\n",
    "\n",
    "import konlpy              \n",
    "from konlpy.tag import Mecab\n",
    "import nltk\n",
    "from nltk.corpus import wordnet\n",
    "import gensim\n",
    "import random\n",
    "\n",
    "print(np.__version__)\n",
    "print(pd.__version__)\n",
    "print(tf.__version__)\n",
    "print(nltk.__version__)\n",
    "print(gensim.__version__)"
   ]
  },
  {
   "cell_type": "code",
   "execution_count": 2,
   "id": "1e0f8e8d",
   "metadata": {},
   "outputs": [],
   "source": [
    "# pip install --upgrade gensim==3.8.3\n",
    "\n",
    "# 서승한 그루님께 감사 (ref : https://iambeginnerdeveloper.tistory.com/41)"
   ]
  },
  {
   "cell_type": "markdown",
   "id": "78752c7f",
   "metadata": {},
   "source": [
    "#### 한글설정"
   ]
  },
  {
   "cell_type": "code",
   "execution_count": 3,
   "id": "5c661ef1",
   "metadata": {},
   "outputs": [
    {
     "name": "stdout",
     "output_type": "stream",
     "text": [
      "완료!\n"
     ]
    }
   ],
   "source": [
    "get_ipython().run_line_magic('config', \"InlineBackend.figure_format = 'retina'\")\n",
    " \n",
    "fontpath = '/usr/share/fonts/truetype/nanum/NanumBarunGothic.ttf'\n",
    "font = fm.FontProperties(fname=fontpath, size=9)\n",
    "plt.rc('font', family='NanumBarunGothic') \n",
    "mpl.font_manager.findfont(font)\n",
    "\n",
    "print(\"완료!\")"
   ]
  },
  {
   "cell_type": "markdown",
   "id": "d51db842",
   "metadata": {},
   "source": [
    "#### 데이터불러오기"
   ]
  },
  {
   "cell_type": "code",
   "execution_count": 4,
   "id": "68692d34",
   "metadata": {},
   "outputs": [
    {
     "data": {
      "text/html": [
       "<div>\n",
       "<style scoped>\n",
       "    .dataframe tbody tr th:only-of-type {\n",
       "        vertical-align: middle;\n",
       "    }\n",
       "\n",
       "    .dataframe tbody tr th {\n",
       "        vertical-align: top;\n",
       "    }\n",
       "\n",
       "    .dataframe thead th {\n",
       "        text-align: right;\n",
       "    }\n",
       "</style>\n",
       "<table border=\"1\" class=\"dataframe\">\n",
       "  <thead>\n",
       "    <tr style=\"text-align: right;\">\n",
       "      <th></th>\n",
       "      <th>Q</th>\n",
       "      <th>A</th>\n",
       "      <th>label</th>\n",
       "    </tr>\n",
       "  </thead>\n",
       "  <tbody>\n",
       "    <tr>\n",
       "      <th>3231</th>\n",
       "      <td>연일 최고 몸무게 갱신하네.</td>\n",
       "      <td>이제 내려올 때가 됐어요.</td>\n",
       "      <td>0</td>\n",
       "    </tr>\n",
       "    <tr>\n",
       "      <th>8204</th>\n",
       "      <td>지쳐서 헤어진 남자랑은 재회가능성</td>\n",
       "      <td>달라지는 게 없다면 만나지 않는 게 더 나을 수도 있어요.</td>\n",
       "      <td>1</td>\n",
       "    </tr>\n",
       "    <tr>\n",
       "      <th>6849</th>\n",
       "      <td>아이디 생각 안나</td>\n",
       "      <td>회원정보 찾기를 해보세요.</td>\n",
       "      <td>1</td>\n",
       "    </tr>\n",
       "    <tr>\n",
       "      <th>774</th>\n",
       "      <td>남편이 집안일 안 해</td>\n",
       "      <td>잘 분담해보세요.</td>\n",
       "      <td>0</td>\n",
       "    </tr>\n",
       "    <tr>\n",
       "      <th>9025</th>\n",
       "      <td>교양 듣는데 심남 있음. 썸 타고 싶다.</td>\n",
       "      <td>호감을 어느 정도 표현해보는 것도 좋을 것 같아요.</td>\n",
       "      <td>2</td>\n",
       "    </tr>\n",
       "    <tr>\n",
       "      <th>2021</th>\n",
       "      <td>백조됐어</td>\n",
       "      <td>저랑 놀아요.</td>\n",
       "      <td>0</td>\n",
       "    </tr>\n",
       "    <tr>\n",
       "      <th>8629</th>\n",
       "      <td>헤어진지 2달 다되어가는데</td>\n",
       "      <td>머리에서 지우세요.</td>\n",
       "      <td>1</td>\n",
       "    </tr>\n",
       "    <tr>\n",
       "      <th>7659</th>\n",
       "      <td>이제 겨우 일주일 됐네</td>\n",
       "      <td>일주일이나 지난 거예요.</td>\n",
       "      <td>1</td>\n",
       "    </tr>\n",
       "    <tr>\n",
       "      <th>10272</th>\n",
       "      <td>썸남 꿈 꿨어.</td>\n",
       "      <td>그분 생각을 많이 했나 봐요. 곧 좋은 소식이 들리려고 하는 것 아닐까요?</td>\n",
       "      <td>2</td>\n",
       "    </tr>\n",
       "    <tr>\n",
       "      <th>8651</th>\n",
       "      <td>헤어진지 42일째.</td>\n",
       "      <td>하루 하루를 세는 건 자신을 더 힘들게 만들 뿐이에요.</td>\n",
       "      <td>1</td>\n",
       "    </tr>\n",
       "  </tbody>\n",
       "</table>\n",
       "</div>"
      ],
      "text/plain": [
       "                            Q                                          A  \\\n",
       "3231          연일 최고 몸무게 갱신하네.                             이제 내려올 때가 됐어요.   \n",
       "8204       지쳐서 헤어진 남자랑은 재회가능성           달라지는 게 없다면 만나지 않는 게 더 나을 수도 있어요.   \n",
       "6849                아이디 생각 안나                             회원정보 찾기를 해보세요.   \n",
       "774               남편이 집안일 안 해                                  잘 분담해보세요.   \n",
       "9025   교양 듣는데 심남 있음. 썸 타고 싶다.               호감을 어느 정도 표현해보는 것도 좋을 것 같아요.   \n",
       "2021                     백조됐어                                    저랑 놀아요.   \n",
       "8629           헤어진지 2달 다되어가는데                                 머리에서 지우세요.   \n",
       "7659             이제 겨우 일주일 됐네                              일주일이나 지난 거예요.   \n",
       "10272                썸남 꿈 꿨어.  그분 생각을 많이 했나 봐요. 곧 좋은 소식이 들리려고 하는 것 아닐까요?   \n",
       "8651               헤어진지 42일째.             하루 하루를 세는 건 자신을 더 힘들게 만들 뿐이에요.   \n",
       "\n",
       "       label  \n",
       "3231       0  \n",
       "8204       1  \n",
       "6849       1  \n",
       "774        0  \n",
       "9025       2  \n",
       "2021       0  \n",
       "8629       1  \n",
       "7659       1  \n",
       "10272      2  \n",
       "8651       1  "
      ]
     },
     "execution_count": 4,
     "metadata": {},
     "output_type": "execute_result"
    }
   ],
   "source": [
    "data_dir = os.getenv('HOME')+'/aiffel/transformer_chatbot/data'\n",
    "data_path = data_dir + '/ChatbotData.csv'\n",
    "\n",
    "df_csv = pd.read_csv(data_path)\n",
    "df = df_csv.copy()\n",
    "\n",
    "df.sample(10)"
   ]
  },
  {
   "cell_type": "markdown",
   "id": "c6ca1d73",
   "metadata": {},
   "source": [
    "#### 데이터 보기"
   ]
  },
  {
   "cell_type": "code",
   "execution_count": 5,
   "id": "79c07dfa",
   "metadata": {},
   "outputs": [
    {
     "name": "stdout",
     "output_type": "stream",
     "text": [
      "<class 'pandas.core.frame.DataFrame'>\n",
      "RangeIndex: 11823 entries, 0 to 11822\n",
      "Data columns (total 3 columns):\n",
      " #   Column  Non-Null Count  Dtype \n",
      "---  ------  --------------  ----- \n",
      " 0   Q       11823 non-null  object\n",
      " 1   A       11823 non-null  object\n",
      " 2   label   11823 non-null  int64 \n",
      "dtypes: int64(1), object(2)\n",
      "memory usage: 277.2+ KB\n"
     ]
    }
   ],
   "source": [
    "df.info()"
   ]
  },
  {
   "cell_type": "code",
   "execution_count": 6,
   "id": "aa625765",
   "metadata": {},
   "outputs": [
    {
     "data": {
      "image/png": "[encoded data removed]",
      "text/plain": [
       "<Figure size 864x288 with 2 Axes>"
      ]
     },
     "metadata": {
      "image/png": {
       "height": 283,
       "width": 857
      },
      "needs_background": "light"
     },
     "output_type": "display_data"
    },
    {
     "name": "stdout",
     "output_type": "stream",
     "text": [
      " 질문(min, Max, mean) : (1 , 15 , 3.59)\n",
      " 답변(min, Max, mean) : (1 , 21 , 3.69)\n"
     ]
    }
   ],
   "source": [
    "Q_len = [len(s.split()) for s in df['Q']]\n",
    "A_len = [len(s.split()) for s in df['A']]\n",
    "\n",
    "# Subplots 생성 (1행 2열로 배치)\n",
    "fig, (ax1, ax2) = plt.subplots(1, 2, figsize=(12, 4))\n",
    "\n",
    "# 첫 번째 그래프 (Q_len)\n",
    "ax1.set_title('Q')\n",
    "ax1.hist(Q_len, bins=40)\n",
    "ax1.set_xlabel('샘플_길이')\n",
    "ax1.set_ylabel('길이별_개수')\n",
    "\n",
    "# 두 번째 그래프 (A_len)\n",
    "ax2.set_title('A')\n",
    "ax2.hist(A_len, bins=40)\n",
    "ax2.set_xlabel('샘플_길이')\n",
    "ax2.set_ylabel('길이별_개수')\n",
    "\n",
    "# 레이아웃 조정 후 출력\n",
    "plt.tight_layout()\n",
    "plt.show()\n",
    "\n",
    "print(f\" 질문(min, Max, mean) : ({np.min(Q_len)} , {np.max(Q_len)} , {round(np.mean(Q_len),2)})\")\n",
    "print(f\" 답변(min, Max, mean) : ({np.min(A_len)} , {np.max(A_len)} , {round(np.mean(A_len),2)})\")"
   ]
  },
  {
   "cell_type": "markdown",
   "id": "c33f7149",
   "metadata": {},
   "source": [
    "#### 데이터 변수`questions` 와 `answers`에 넣기"
   ]
  },
  {
   "cell_type": "code",
   "execution_count": 7,
   "id": "76f9e0d4",
   "metadata": {},
   "outputs": [
    {
     "name": "stdout",
     "output_type": "stream",
     "text": [
      "len(questions) : 11823 \n",
      "len(answers)   : 11823 \n",
      "\n",
      " type(questions) >>> <class 'list'> \n",
      " type(answers)   >>> <class 'list'> \n",
      "\n",
      " questions[5167]  >>> 홈쇼핑에서 자꾸 사게되네 \n",
      " answers[5167]    >>> 지름신이 강림했나봅니다.\n"
     ]
    }
   ],
   "source": [
    "questions = df['Q'].tolist()\n",
    "answers  =  df['A'].tolist()\n",
    "\n",
    "print(f\"len(questions) : {len(questions)} \\nlen(answers)   : {len(answers)} \\n\\n type(questions) >>> {type(questions)} \\n type(answers)   >>> {type(answers)} \\n\\n questions[5167]  >>> {questions[5167]} \\n answers[5167]    >>> {answers[5167]}\")"
   ]
  },
  {
   "cell_type": "markdown",
   "id": "48d9b1b0",
   "metadata": {},
   "source": [
    "👁️👁️Data Review : "
   ]
  },
  {
   "cell_type": "markdown",
   "id": "52390a05",
   "metadata": {},
   "source": [
    "⚠️**오류기록 :** "
   ]
  },
  {
   "cell_type": "markdown",
   "id": "0c88d441",
   "metadata": {},
   "source": [
    "👁️👁️**코멘트 :** "
   ]
  },
  {
   "cell_type": "markdown",
   "id": "9f2e1e57",
   "metadata": {},
   "source": [
    "# STEP 2.데이터 정제\n",
    "---"
   ]
  },
  {
   "cell_type": "code",
   "execution_count": 8,
   "id": "3d95fa3c",
   "metadata": {},
   "outputs": [],
   "source": [
    "def preprocess_sentence(sentence):\n",
    "    # 1. 소문자 변환\n",
    "    sentence = sentence.lower()\n",
    "\n",
    "    # 2. 알파벳, 문장부호, 한글 외 제거\n",
    "    sentence = re.sub(r'\\d', '', sentence)\n",
    "\n",
    "    return sentence"
   ]
  },
  {
   "cell_type": "markdown",
   "id": "09182e89",
   "metadata": {},
   "source": [
    "# STEP 3. 데이터 토큰화\n",
    "--- \n"
   ]
  },
  {
   "cell_type": "code",
   "execution_count": 9,
   "id": "c2d9854a",
   "metadata": {},
   "outputs": [],
   "source": [
    "def build_corpus(src, tgt, sen_len_limit):  # 소스 문장 데이터와 타겟 문장 데이터를 입력으로 받습니다.\n",
    "    \n",
    "    src_corpus = []\n",
    "    tgt_corpus = []\n",
    "    mecab = Mecab()\n",
    "    \n",
    "    # 입력 데이터 길이 확인\n",
    "    assert len(src) == len(tgt), \"소스와 타겟 데이터 길이가 일치하지 않습니다.\"\n",
    "    \n",
    "    # 소스와 타겟 데이터 처리\n",
    "    for i in range(len(src)):\n",
    "        # 정제 후 토큰화 (리스트를 문자열로 변환)\n",
    "        src_corpus.append(\" \".join(mecab.morphs(preprocess_sentence(src[i]))))  # 소스 문장 토큰화\n",
    "        tgt_corpus.append(\" \".join(mecab.morphs(preprocess_sentence(tgt[i]))))  # 타겟 문장 토큰화\n",
    "    \n",
    "    # 소스와 타겟 데이터를 튜플로 묶고, 중복 제거 (튜플은 set에 넣을 수 있음)\n",
    "    dataset = list(zip(src_corpus, tgt_corpus))\n",
    "    cleaned_corpus = list(set(dataset))  # 문자열로 변환된 데이터를 그대로 set에 넣어 중복 제거\n",
    "    corpus_1, corpus_2 = zip(*cleaned_corpus)\n",
    "    \n",
    "    # print(f\"type(corpus_1) : {type(corpus_1)}\")\n",
    "    print(f\"<corpus별 모든 문장 길이 (제거전)>\")\n",
    "    print(f\"len(corpus_1) : {len(corpus_1)}\")\n",
    "    print(f\"len(corpus_2) : {len(corpus_2)}\")\n",
    "    \n",
    "    s_corpus = []\n",
    "    t_corpus = []\n",
    "    \n",
    "   # 길이 제한을 적용하여 토큰의 개수가 일정 길이 이상인 문장은 제외\n",
    "    for idx in tqdm(range(len(corpus_1))):\n",
    "        if len(corpus_1[idx]) <= sen_len_limit and len(corpus_2[idx]) <= sen_len_limit:  \n",
    "            s_corpus.append(corpus_1[idx])\n",
    "            t_corpus.append(corpus_2[idx])\n",
    "            # print(f\"len(s_corpus) [{idx}] : {len(corpus_1[idx])}\")\n",
    "            # print(f\"len(t_corpus) [{idx}] : {len(corpus_2[idx])}\")\n",
    "            \n",
    "    print(f\"len(que_corpus) : {len(s_corpus)} ,(제거: {len(corpus_1)-len(s_corpus)})\")\n",
    "    print(f\"len(ans_corpus) : {len(t_corpus)} ,(제거: {len(corpus_2)-len(t_corpus)})\")\n",
    "    \n",
    "    return s_corpus, t_corpus"
   ]
  },
  {
   "cell_type": "code",
   "execution_count": 10,
   "id": "abf6919d",
   "metadata": {},
   "outputs": [
    {
     "name": "stdout",
     "output_type": "stream",
     "text": [
      "<corpus별 모든 문장 길이 (제거전)>\n",
      "len(corpus_1) : 11748\n",
      "len(corpus_2) : 11748\n"
     ]
    },
    {
     "data": {
      "application/vnd.jupyter.widget-view+json": {
       "model_id": "4a07e4c96a2f4cb695ea9aaa7060ba45",
       "version_major": 2,
       "version_minor": 0
      },
      "text/plain": [
       "  0%|          | 0/11748 [00:00<?, ?it/s]"
      ]
     },
     "metadata": {},
     "output_type": "display_data"
    },
    {
     "name": "stdout",
     "output_type": "stream",
     "text": [
      "len(que_corpus) : 8510 ,(제거: 3238)\n",
      "len(ans_corpus) : 8510 ,(제거: 3238)\n"
     ]
    }
   ],
   "source": [
    "que_corpus =[]\n",
    "ans_corpus =[]\n",
    "\n",
    "que_corpus, ans_corpus = build_corpus(questions, answers, 25)"
   ]
  },
  {
   "cell_type": "code",
   "execution_count": 11,
   "id": "89fdc85a",
   "metadata": {},
   "outputs": [
    {
     "name": "stdout",
     "output_type": "stream",
     "text": [
      "['축제 날 은 즐겨야 지', '안경 벗 으면 나 으려나', '요즘 너무 고민 이 네']\n"
     ]
    }
   ],
   "source": [
    "print(que_corpus[:3])"
   ]
  },
  {
   "cell_type": "code",
   "execution_count": 12,
   "id": "3cfed1c2",
   "metadata": {},
   "outputs": [
    {
     "name": "stdout",
     "output_type": "stream",
     "text": [
      "['즐길 수 있 을 때 즐기 세요 .', '다른 안경 써 보 세요 .', '무슨 고민 인지 말 해 주 세요 .']\n"
     ]
    }
   ],
   "source": [
    "print(ans_corpus[:3])"
   ]
  },
  {
   "cell_type": "markdown",
   "id": "8cd5e960",
   "metadata": {},
   "source": [
    "# STEP 4. Augmentation\n",
    "---"
   ]
  },
  {
   "cell_type": "code",
   "execution_count": 13,
   "id": "9bc810f4",
   "metadata": {},
   "outputs": [],
   "source": [
    "def download_dataset(zip_path, save_path, zipfile):\n",
    "    # 데이터셋 폴더 생성\n",
    "    if not os.path.exists(save_path):\n",
    "        os.makedirs(save_path)    \n",
    "    \n",
    "    # 데이터셋 다운로드\n",
    "    path_to_zip = tf.keras.utils.get_file(\n",
    "        zipfile,\n",
    "        origin=zip_path,\n",
    "        extract=True,\n",
    "        cache_dir=save_path)\n",
    "\n",
    "    os.system(\"unzip \"+zipfile+\" -d \"+save_path)\n",
    "    \n",
    "    return zip"
   ]
  },
  {
   "cell_type": "code",
   "execution_count": 14,
   "id": "538e0db3",
   "metadata": {},
   "outputs": [
    {
     "name": "stderr",
     "output_type": "stream",
     "text": [
      "unzip:  cannot find or open ko, ko.zip or ko.ZIP.\n"
     ]
    },
    {
     "data": {
      "text/plain": [
       "zip"
      ]
     },
     "execution_count": 14,
     "metadata": {},
     "output_type": "execute_result"
    }
   ],
   "source": [
    "zip_path = 'https://drive.google.com/open?id=0B0ZXk88koS2KbDhXdWg1Q2RydlU'\n",
    "save_path = data_dir\n",
    "zipfile = 'ko'\n",
    "\n",
    "download_dataset(zip_path, save_path, zipfile)"
   ]
  },
  {
   "cell_type": "code",
   "execution_count": 15,
   "id": "f9fee5f2",
   "metadata": {},
   "outputs": [
    {
     "data": {
      "text/plain": [
       "['ko.bin',\n",
       " 'word2vec_ko.model.wv.vectors.npy',\n",
       " 'datasets',\n",
       " 'ChatbotData.csv',\n",
       " 'word2vec_ko.model',\n",
       " 'ChatbotData .csv',\n",
       " 'word2vec_ko.model.trainables.syn1neg.npy']"
      ]
     },
     "execution_count": 15,
     "metadata": {},
     "output_type": "execute_result"
    }
   ],
   "source": [
    "path = data_dir\n",
    "os.listdir(path)"
   ]
  },
  {
   "cell_type": "code",
   "execution_count": 16,
   "id": "b31c074f",
   "metadata": {},
   "outputs": [
    {
     "data": {
      "text/plain": [
       "'ko_path = path + \\'/datasets/ko.bin\\'\\nwith open(ko_path, \"r\") as f:\\n    raw_ko = f.read().splitlines()\\nprint(\"Data Size:\", len(raw_ko))\\nprint(\"Example:\")\\n\\nfor sen_ko in raw_ko[0:100][::20]: print(\">>\", sen_ko)    '"
      ]
     },
     "execution_count": 16,
     "metadata": {},
     "output_type": "execute_result"
    }
   ],
   "source": [
    "'''ko_path = path + '/datasets/ko.bin'\n",
    "with open(ko_path, \"r\") as f:\n",
    "    raw_ko = f.read().splitlines()\n",
    "print(\"Data Size:\", len(raw_ko))\n",
    "print(\"Example:\")\n",
    "\n",
    "for sen_ko in raw_ko[0:100][::20]: print(\">>\", sen_ko)    '''"
   ]
  },
  {
   "cell_type": "markdown",
   "id": "24273f5a",
   "metadata": {},
   "source": [
    "👁️👁️Data Review : "
   ]
  },
  {
   "cell_type": "code",
   "execution_count": 17,
   "id": "45fbe3ee",
   "metadata": {},
   "outputs": [
    {
     "name": "stderr",
     "output_type": "stream",
     "text": [
      "/tmp/ipykernel_234/2104412595.py:6: DeprecationWarning: Call to deprecated `most_similar` (Method will be removed in 4.0.0, use self.wv.most_similar() instead).\n",
      "  wv.most_similar(\"학교\")\n"
     ]
    },
    {
     "data": {
      "text/plain": [
       "[('학교의', 0.7560996413230896),\n",
       " ('강습소', 0.7425637245178223),\n",
       " ('중고등학교', 0.7386142015457153),\n",
       " ('전문학교', 0.7356827855110168),\n",
       " ('사립학교', 0.7347193956375122),\n",
       " ('소학교', 0.7305554747581482),\n",
       " ('여학교', 0.7091007232666016),\n",
       " ('사범학교', 0.6901223659515381),\n",
       " ('대학', 0.6897724866867065),\n",
       " ('학원', 0.6869212985038757)]"
      ]
     },
     "execution_count": 17,
     "metadata": {},
     "output_type": "execute_result"
    }
   ],
   "source": [
    "from gensim.models import KeyedVectors\n",
    "\n",
    "ko_path = path + '/datasets/ko.bin'\n",
    "wv = gensim.models.Word2Vec.load(ko_path)\n",
    "\n",
    "wv.most_similar(\"학교\")"
   ]
  },
  {
   "cell_type": "code",
   "execution_count": 18,
   "id": "935fbe74",
   "metadata": {},
   "outputs": [
    {
     "data": {
      "application/vnd.jupyter.widget-view+json": {
       "model_id": "62db7e15dec4445d99103956521f3fad",
       "version_major": 2,
       "version_minor": 0
      },
      "text/plain": [
       "  0%|          | 0/3 [00:00<?, ?it/s]"
      ]
     },
     "metadata": {},
     "output_type": "display_data"
    },
    {
     "name": "stdout",
     "output_type": "stream",
     "text": [
      "['시가 땡 !', '중퇴 학교 떨어졌 어', '박일 놀 ㄹ래 가 고 싶 다']\n"
     ]
    },
    {
     "name": "stderr",
     "output_type": "stream",
     "text": [
      "/tmp/ipykernel_234/3588119805.py:12: DeprecationWarning: Call to deprecated `most_similar` (Method will be removed in 4.0.0, use self.wv.most_similar() instead).\n",
      "  substitute_word = wv.most_similar(tok)[0][0]\n"
     ]
    }
   ],
   "source": [
    "# Lexical Substitution\n",
    "def lexical_sub(sample_sentence,wv):  \n",
    "    sample_tokens = sample_sentence.split()\n",
    "    selected_tok = random.choice(sample_tokens)\n",
    "\n",
    "    result = \"\"\n",
    "    \n",
    "    for tok in sample_tokens:\n",
    "        if tok == selected_tok:\n",
    "            try:\n",
    "                # vocabulary에 있으면 교체, 없으면 예외 처리\n",
    "                substitute_word = wv.most_similar(tok)[0][0]\n",
    "                result += substitute_word + \" \"\n",
    "            except KeyError:\n",
    "                # 단어가 vocabulary에 없으면 원래 단어를 사용\n",
    "                result += tok + \" \"\n",
    "        else:\n",
    "            result += tok + \" \"\n",
    "\n",
    "    return result.strip()\n",
    "\n",
    "\n",
    "# 확인\n",
    "sample_sentences = ['시 땡 !', '지망 학교 떨어졌 어', '박일 놀 러 가 고 싶 다']\n",
    "example_corpus = []\n",
    "\n",
    "for sample_sen in tqdm(sample_sentences):\n",
    "    example_sen = lexical_sub(sample_sen, wv)\n",
    "    if example_sen is not None: \n",
    "        example_corpus.append(example_sen)\n",
    "    else :\n",
    "        # Augmentation이 없더라도 원본 문장을 포함시킵니다\n",
    "        example_corpus.append(sample_sen)\n",
    "\n",
    "print(example_corpus)"
   ]
  },
  {
   "cell_type": "code",
   "execution_count": 19,
   "id": "5036d8fa",
   "metadata": {},
   "outputs": [],
   "source": [
    "def augment_corpus_with_lexical_substitution(sample_sentences, wordvector):\n",
    "    example_corpus = []\n",
    "\n",
    "    for sample_sen in tqdm(sample_sentences):\n",
    "        example_sen = lexical_sub(sample_sen, wordvector)\n",
    "        if example_sen is not None: \n",
    "            example_corpus.append(example_sen)\n",
    "        else:\n",
    "            # Augmentation이 없더라도 원본 문장을 포함시킵니다\n",
    "            example_corpus.append(sample_sen)\n",
    "\n",
    "    return example_corpus"
   ]
  },
  {
   "cell_type": "code",
   "execution_count": 20,
   "id": "ce67cfc3",
   "metadata": {},
   "outputs": [
    {
     "data": {
      "application/vnd.jupyter.widget-view+json": {
       "model_id": "fd97ef4be6744b05bc14fffb913f6745",
       "version_major": 2,
       "version_minor": 0
      },
      "text/plain": [
       "  0%|          | 0/8510 [00:00<?, ?it/s]"
      ]
     },
     "metadata": {},
     "output_type": "display_data"
    },
    {
     "name": "stderr",
     "output_type": "stream",
     "text": [
      "/tmp/ipykernel_234/3588119805.py:12: DeprecationWarning: Call to deprecated `most_similar` (Method will be removed in 4.0.0, use self.wv.most_similar() instead).\n",
      "  substitute_word = wv.most_similar(tok)[0][0]\n"
     ]
    },
    {
     "data": {
      "application/vnd.jupyter.widget-view+json": {
       "model_id": "337851cb652342d5b59671fcfe0c20df",
       "version_major": 2,
       "version_minor": 0
      },
      "text/plain": [
       "  0%|          | 0/8510 [00:00<?, ?it/s]"
      ]
     },
     "metadata": {},
     "output_type": "display_data"
    }
   ],
   "source": [
    "aug_que_corpus = []\n",
    "aug_ans_corpus = []\n",
    "\n",
    "aug_que_corpus.append(augment_corpus_with_lexical_substitution(que_corpus, wv))\n",
    "aug_ans_corpus.append(augment_corpus_with_lexical_substitution(ans_corpus, wv))"
   ]
  },
  {
   "cell_type": "code",
   "execution_count": null,
   "id": "41e00819",
   "metadata": {},
   "outputs": [],
   "source": []
  },
  {
   "cell_type": "code",
   "execution_count": null,
   "id": "2c29af76",
   "metadata": {},
   "outputs": [],
   "source": []
  },
  {
   "cell_type": "code",
   "execution_count": null,
   "id": "f538c86e",
   "metadata": {},
   "outputs": [],
   "source": []
  },
  {
   "cell_type": "markdown",
   "id": "26bd028d",
   "metadata": {},
   "source": [
    "# STEP 5. 데이터 벡터화\n",
    "---"
   ]
  },
  {
   "cell_type": "code",
   "execution_count": null,
   "id": "9fb84e46",
   "metadata": {},
   "outputs": [],
   "source": []
  },
  {
   "cell_type": "markdown",
   "id": "a101616a",
   "metadata": {},
   "source": [
    "👁️👁️Data Review : "
   ]
  },
  {
   "cell_type": "markdown",
   "id": "89eec5a6",
   "metadata": {},
   "source": [
    "# STEP 6. 훈련하기\n",
    "---"
   ]
  },
  {
   "cell_type": "code",
   "execution_count": null,
   "id": "36a785bd",
   "metadata": {},
   "outputs": [],
   "source": []
  },
  {
   "cell_type": "code",
   "execution_count": null,
   "id": "aa00bf14",
   "metadata": {},
   "outputs": [],
   "source": []
  },
  {
   "cell_type": "code",
   "execution_count": null,
   "id": "91224bd3",
   "metadata": {},
   "outputs": [],
   "source": []
  },
  {
   "cell_type": "markdown",
   "id": "63372509",
   "metadata": {},
   "source": [
    "👁️👁️Data Review : "
   ]
  },
  {
   "cell_type": "code",
   "execution_count": null,
   "id": "6865ba31",
   "metadata": {},
   "outputs": [],
   "source": [
    "'''\n",
    "src_corpus = []\n",
    "tgt_corpus = []\n",
    "mecab = Mecab()\n",
    "\n",
    "# 입력 데이터 길이 확인\n",
    "assert len(src) == len(tgt), \"소스와 타겟 데이터 길이가 일치하지 않습니다.\"\n",
    "\n",
    "# 소스와 타겟 데이터 처리\n",
    "for i in range(len(src)):\n",
    "    # 정제 후 토큰화\n",
    "    src_corpus.append(mecab.morphs(preprocess_sentence(src[i])))  # 소스 문장 토큰화\n",
    "    tgt_corpus.append(mecab.morphs(preprocess_sentence(tgt[i])))  # 타겟 문장 토큰화\n",
    "\n",
    "# 중복 제거 \n",
    "# (병렬로 묶어서 중복쌍 유지. set을 사용하여 중복 제거 후 리스트로 변환하고, 다시 각각 corpus로 나눔)    \n",
    "dataset = list(zip(src_corpus, tgt_corpus))\n",
    "cleaned_corpus = list(set(dataset))\n",
    "corpus_1, corpus_2 = zip(*cleaned_corpus)\n",
    "print(f\"len(corpus_1) : {len(corpus_1)}\")\n",
    "print(f\"len(corpus_2) : {len(corpus_2)}\")\n",
    "\n",
    " 길이 제한을 적용하여 토큰의 개수가 일정 길이 이상인 문장은 제외\n",
    "for idx in tqdm(range(len(cleaned_corpus))):\n",
    "    if len(corpus_1[idx]) <= 8 and len(corpus_2[idx]) <= 8:  \n",
    "        src_corpus.append(corpus_1[idx])\n",
    "        tgt_corpus.append(corpus_2[idx])\n",
    "'''"
   ]
  }
 ],
 "metadata": {
  "kernelspec": {
   "display_name": "Python 3 (ipykernel)",
   "language": "python",
   "name": "python3"
  },
  "language_info": {
   "codemirror_mode": {
    "name": "ipython",
    "version": 3
   },
   "file_extension": ".py",
   "mimetype": "text/x-python",
   "name": "python",
   "nbconvert_exporter": "python",
   "pygments_lexer": "ipython3",
   "version": "3.9.7"
  }
 },
 "nbformat": 4,
 "nbformat_minor": 5
}
