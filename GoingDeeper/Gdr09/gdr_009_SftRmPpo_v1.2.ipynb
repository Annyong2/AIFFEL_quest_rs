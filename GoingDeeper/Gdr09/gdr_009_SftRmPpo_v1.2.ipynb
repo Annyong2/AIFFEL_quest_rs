{
 "cells": [
  {
   "cell_type": "markdown",
   "id": "27b6ce56",
   "metadata": {},
   "source": [
    "## 코더의 소회      \n",
    "**날씨 :** 오늘의 학습 < >했습니다. [☀️⛅☁️🌧️🌩️⛈️]   \n",
    "\n",
    "**배운점 :**   \n",
    "\n",
    "**아쉬운점 :**   \n",
    "\n",
    "**느낀점 :**   \n",
    "\n",
    "(참고 : https://github.com/Annyong2/AIFFEL_quest_rs/tree/master/GoingDeeper/Gdr09)    \n",
    "\n",
    "\n",
    "## 전체 코드 실행 플로우 (목차) :     \n",
    "✅ Prep A. Import Library & Dataset   \n",
    "✅ Prep B. EDA & Preprocessing   \n",
    "✅ Train 1. Supervised Fine-Tuning (instruction dataset: kogpt-2)   \n",
    "✅ Train 2. Reward Model   \n",
    "✅ Train 3. Proximal Policy Optization   "
   ]
  },
  {
   "cell_type": "markdown",
   "id": "ca4d75ce",
   "metadata": {},
   "source": [
    "---   \n",
    "# ✅Prep A. Import Library & Dataset   \n",
    "---\n"
   ]
  },
  {
   "cell_type": "code",
   "execution_count": 4,
   "id": "eb9892ee",
   "metadata": {},
   "outputs": [
    {
     "name": "stdout",
     "output_type": "stream",
     "text": [
      "Collecting git+https://github.com/ssut/py-hanspell.git\n",
      "  Cloning https://github.com/ssut/py-hanspell.git to /tmp/pip-req-build-o7nkai6s\n",
      "  Running command git clone --filter=blob:none -q https://github.com/ssut/py-hanspell.git /tmp/pip-req-build-o7nkai6s\n",
      "  Resolved https://github.com/ssut/py-hanspell.git to commit fdc6ca50c19f1c85971437a072d89d4e5ce024b8\n",
      "  Preparing metadata (setup.py) ... \u001b[?25ldone\n",
      "\u001b[?25hRequirement already satisfied: requests in /opt/conda/lib/python3.9/site-packages (from py-hanspell==1.1) (2.26.0)\n",
      "Requirement already satisfied: certifi>=2017.4.17 in /opt/conda/lib/python3.9/site-packages (from requests->py-hanspell==1.1) (2023.5.7)\n",
      "Requirement already satisfied: idna<4,>=2.5 in /opt/conda/lib/python3.9/site-packages (from requests->py-hanspell==1.1) (2.10)\n",
      "Requirement already satisfied: urllib3<1.27,>=1.21.1 in /opt/conda/lib/python3.9/site-packages (from requests->py-hanspell==1.1) (1.26.7)\n",
      "Requirement already satisfied: charset-normalizer~=2.0.0 in /opt/conda/lib/python3.9/site-packages (from requests->py-hanspell==1.1) (2.0.8)\n",
      "Building wheels for collected packages: py-hanspell\n",
      "  Building wheel for py-hanspell (setup.py) ... \u001b[?25ldone\n",
      "\u001b[?25h  Created wheel for py-hanspell: filename=py_hanspell-1.1-py3-none-any.whl size=4844 sha256=740159d813a94410144df2ddfa04b51541cc001c9c952070bc2cb6bcda1db920\n",
      "  Stored in directory: /tmp/pip-ephem-wheel-cache-74pt0eyd/wheels/94/bc/ef/2cb90c305d609f8086489e7e1bd69f21e955118f26938609b7\n",
      "Successfully built py-hanspell\n",
      "Installing collected packages: py-hanspell\n",
      "Successfully installed py-hanspell-1.1\n",
      "\u001b[33mWARNING: Running pip as the 'root' user can result in broken permissions and conflicting behaviour with the system package manager. It is recommended to use a virtual environment instead: https://pip.pypa.io/warnings/venv\u001b[0m\n",
      "Note: you may need to restart the kernel to use updated packages.\n"
     ]
    }
   ],
   "source": [
    "pip install git+https://github.com/ssut/py-hanspell.git"
   ]
  },
  {
   "cell_type": "code",
   "execution_count": 5,
   "id": "c8841ec1",
   "metadata": {},
   "outputs": [
    {
     "name": "stdout",
     "output_type": "stream",
     "text": [
      "Torch version:1.12.1\n",
      "Cuda version: 11.3\n",
      "transformers version: 4.28.0\n",
      "GPU 사용 가능여부: True\n"
     ]
    }
   ],
   "source": [
    "import torch\n",
    "import transformers\n",
    "\n",
    "print(\"Torch version:{}\".format(torch.__version__)) # Torch version:1.12.1\n",
    "print(\"Cuda version: {}\".format(torch.version.cuda)) # Cuda version: 11.3\n",
    "print(\"transformers version: {}\".format(transformers.__version__)) # transformers 4.28.0\n",
    "print(\"GPU 사용 가능여부: {}\".format(torch.cuda.is_available()))"
   ]
  },
  {
   "cell_type": "code",
   "execution_count": 6,
   "id": "5175d829",
   "metadata": {},
   "outputs": [
    {
     "name": "stdout",
     "output_type": "stream",
     "text": [
      "CPU 코어 수 (os): 4\n",
      "CPU 코어 수 (multiprocessing): 4\n"
     ]
    }
   ],
   "source": [
    "import os\n",
    "os.environ[\"CUDA_VISIBLE_DEVICES\"] = \"0\"\n",
    "import multiprocessing\n",
    "\n",
    "# os 모듈 수\n",
    "cpu_count_os = os.cpu_count()\n",
    "print(f\"CPU 코어 수 (os): {cpu_count_os}\")\n",
    "\n",
    "# multiprocessing 모듈 수\n",
    "cpu_count_mp = multiprocessing.cpu_count()\n",
    "print(f\"CPU 코어 수 (multiprocessing): {cpu_count_mp}\")"
   ]
  },
  {
   "cell_type": "code",
   "execution_count": 7,
   "id": "289cfd74",
   "metadata": {
    "scrolled": true
   },
   "outputs": [],
   "source": [
    "# 데이터 처리 및 환경 설정\n",
    "import re\n",
    "import torch\n",
    "import torch.nn as nn\n",
    "from torch.utils.data import Dataset\n",
    "from torch.optim import Adam\n",
    "import pandas as pd\n",
    "import numpy as np\n",
    "from copy import deepcopy, copy\n",
    "import logging\n",
    "import json\n",
    "from dataclasses import dataclass\n",
    "from typing import Optional\n",
    "import loralib as lora\n",
    "\n",
    "import matplotlib as mpl\n",
    "import matplotlib.pyplot as plt\n",
    "import matplotlib.font_manager as fm  # 폰트 설정\n",
    "\n",
    "# from pykospacing import Spacing\n",
    "from hanspell import spell_checker\n",
    "\n",
    "# Supervised Fine-Tuning\n",
    "from transformers import AutoTokenizer, AutoModelForCausalLM, Trainer, TrainingArguments, pipeline\n",
    "from datasets import load_dataset"
   ]
  },
  {
   "cell_type": "markdown",
   "id": "05dafb59",
   "metadata": {},
   "source": [
    "#### PATH"
   ]
  },
  {
   "cell_type": "code",
   "execution_count": 8,
   "id": "5072086f",
   "metadata": {},
   "outputs": [],
   "source": [
    "# model_name = 'skt/kogpt2-base-v2'\n",
    "model_save_path_1 = '/aiffel/KoChatGPT/output_1_SFT' \n",
    "model_save_path_2 = 'aiffel/KoChatGPT/output_2_RM'\n",
    "model_save_path_3 = 'aiffel/KoChatGPT/output_3_PPO'\n",
    "\n",
    "data_path_1_SFT = '/aiffel/KoChatGPT/data_kochatgpt/kochatgpt_1_SFT.jsonl'\n",
    "data_path_2_RM  = '/aiffel/KoChatGPT/data_kochatgpt/kochatgpt_2_RM.jsonl'\n",
    "data_path_3_PPO = '/aiffel/KoChatGPT/data_kochatgpt/kochatgpt_3_PPO.jsonl'\n",
    "\n",
    "output_dir = '/aiffel/KoChatGPT/test'\n",
    "logging_dir_1 = '/aiffel/KoChatGPT/logs/SFT_logs'\n",
    "logging_dir_2 = '/aiffel/KoChatGPT/logs/RM_logs'\n",
    "logging_dir_3 = '/aiffel/KoChatGPT/logs/PPO_logs'"
   ]
  },
  {
   "cell_type": "markdown",
   "id": "68e08594",
   "metadata": {},
   "source": [
    "#### Setting Model , Tokenizer, Device "
   ]
  },
  {
   "cell_type": "code",
   "execution_count": 9,
   "id": "07394c7d",
   "metadata": {},
   "outputs": [
    {
     "data": {
      "application/vnd.jupyter.widget-view+json": {
       "model_id": "8d82dd766b8640818dfd9df1ccf92660",
       "version_major": 2,
       "version_minor": 0
      },
      "text/plain": [
       "Downloading config.json:   0%|          | 0.00/1.00k [00:00<?, ?B/s]"
      ]
     },
     "metadata": {},
     "output_type": "display_data"
    },
    {
     "data": {
      "application/vnd.jupyter.widget-view+json": {
       "model_id": "cd02215bac39445bb3b4b0ae53b82738",
       "version_major": 2,
       "version_minor": 0
      },
      "text/plain": [
       "Downloading tokenizer.json:   0%|          | 0.00/2.83M [00:00<?, ?B/s]"
      ]
     },
     "metadata": {},
     "output_type": "display_data"
    },
    {
     "name": "stderr",
     "output_type": "stream",
     "text": [
      "Special tokens have been added in the vocabulary, make sure the associated word embeddings are fine-tuned or trained.\n"
     ]
    },
    {
     "data": {
      "application/vnd.jupyter.widget-view+json": {
       "model_id": "a43773d4203a4ddfbb12781806988042",
       "version_major": 2,
       "version_minor": 0
      },
      "text/plain": [
       "Downloading pytorch_model.bin:   0%|          | 0.00/513M [00:00<?, ?B/s]"
      ]
     },
     "metadata": {},
     "output_type": "display_data"
    }
   ],
   "source": [
    "device = \"cuda\" if torch.cuda.is_available() else \"cpu\"\n",
    "\n",
    "# 허깅페이스의 transformers모델과 토크나이저 정하기\n",
    "model_name = \"skt/kogpt2-base-v2\"\n",
    "tokenizer = AutoTokenizer.from_pretrained(model_name)\n",
    "model = AutoModelForCausalLM.from_pretrained(model_name).to(device)"
   ]
  },
  {
   "cell_type": "markdown",
   "id": "f9b2a6c6",
   "metadata": {},
   "source": [
    "---   \n",
    "# ✅Prep B. EDA & Preprocessing   \n",
    "---\n"
   ]
  },
  {
   "cell_type": "markdown",
   "id": "c59136df",
   "metadata": {},
   "source": [
    "## EDA"
   ]
  },
  {
   "cell_type": "markdown",
   "id": "0a0e85e2",
   "metadata": {},
   "source": [
    "#### EDA : 데이터셋별 길이 확인 (max_length정하기 위하여 봄)"
   ]
  },
  {
   "cell_type": "code",
   "execution_count": 10,
   "id": "d8a99060",
   "metadata": {},
   "outputs": [],
   "source": [
    "# 데이터 경로 설정\n",
    "data_paths = {\n",
    "    \"SFT\": '/aiffel/KoChatGPT/data_kochatgpt/kochatgpt_1_SFT.jsonl',\n",
    "    \"RM\": '/aiffel/KoChatGPT/data_kochatgpt/kochatgpt_2_RM.jsonl',\n",
    "    \"PPO\": '/aiffel/KoChatGPT/data_kochatgpt/kochatgpt_3_PPO.jsonl'\n",
    "}"
   ]
  },
  {
   "cell_type": "code",
   "execution_count": 11,
   "id": "cccc9b63",
   "metadata": {},
   "outputs": [],
   "source": [
    "# 데이터 길이를 계산하고 저장할 딕셔너리\n",
    "lengths = {\"SFT\": [], \"RM\": [], \"PPO\": []}\n",
    "\n",
    "# 데이터 길이 계산 함수\n",
    "def calculate_lengths(data_path, data_type):\n",
    "    with open(data_path, \"r\", encoding='utf-8-sig') as json_file:\n",
    "        list_data_dict = json.load(json_file)\n",
    "\n",
    "    for data in list_data_dict:\n",
    "        if data_type == \"SFT\":\n",
    "            # SFT는 prompt와 completion의 길이 합을 계산\n",
    "            text = data['prompt'] + \" \" + data['completion']\n",
    "        elif data_type == \"RM\":\n",
    "            # RM은 prompt와 completion들 중 하나의 합을 계산\n",
    "            text = data['prompt'] + \" \" + data['completion_0']\n",
    "        elif data_type == \"PPO\":\n",
    "            # PPO는 prompt만 사용\n",
    "            text = data['prompt']\n",
    "        \n",
    "        tokenized_text = tokenizer(text, return_tensors='pt')\n",
    "        lengths[data_type].append(tokenized_text['input_ids'].shape[1])  # 토큰 길이 추가\n",
    "\n",
    "# 80%를 포함하는 토큰 길이 계산 함수 \n",
    "def calculate_80_percentile_length(data, text_keys, tokenizer):\n",
    "    \"\"\"\n",
    "    전체 데이터의 80%를 포함하는 토큰 길이를 계산하는 함수.\n",
    "    \n",
    "    Args:\n",
    "        data (list): 데이터 리스트. 각 항목은 딕셔너리 형태여야 하며, text_keys를 포함해야 함.\n",
    "        text_keys (list): 텍스트가 포함된 키 리스트 (예: ['completion_0', 'completion_1', 'completion_2'] 등)\n",
    "        tokenizer (transformers.AutoTokenizer): 텍스트 토크나이저 객체\n",
    "\n",
    "    Returns:\n",
    "        int: 전체 데이터의 80%를 포함하는 토큰 길이\n",
    "    \"\"\"\n",
    "    lengths = []\n",
    "    for item in data:\n",
    "        for key in text_keys:\n",
    "            if key in item:  # 키가 존재하는 경우에만 처리\n",
    "                text = item[key]\n",
    "                tokenized_text = tokenizer(text, return_tensors='pt')\n",
    "                lengths.append(tokenized_text['input_ids'].shape[1])  # 토큰 길이 저장\n",
    "\n",
    "    percentile_80_length = int(np.percentile(lengths, 80))\n",
    "    return percentile_80_length"
   ]
  },
  {
   "cell_type": "markdown",
   "id": "9f427d95",
   "metadata": {},
   "source": [
    "#### 데이터셋별 길이보기"
   ]
  },
  {
   "cell_type": "code",
   "execution_count": 12,
   "id": "bf3b74ff",
   "metadata": {},
   "outputs": [
    {
     "data": {
      "image/png": "[encoded data removed]",
      "text/plain": [
       "<Figure size 1080x360 with 3 Axes>"
      ]
     },
     "metadata": {
      "needs_background": "light"
     },
     "output_type": "display_data"
    }
   ],
   "source": [
    "# 각 데이터셋의 길이 계산\n",
    "for data_type, data_path in data_paths.items():\n",
    "    calculate_lengths(data_path, data_type)\n",
    "\n",
    "# 시각화\n",
    "plt.figure(figsize=(15, 5))\n",
    "for i, (data_type, length_data) in enumerate(lengths.items()):\n",
    "    plt.subplot(1, 3, i + 1)\n",
    "    plt.hist(length_data, bins=30, color='skyblue', edgecolor='black')\n",
    "    plt.title(f'{data_type} Dataset Length Distribution')\n",
    "    plt.xlabel('Token Length')\n",
    "    plt.ylabel('Frequency')\n",
    "plt.tight_layout()\n",
    "plt.show()"
   ]
  },
  {
   "cell_type": "code",
   "execution_count": 13,
   "id": "94eadd69",
   "metadata": {},
   "outputs": [
    {
     "name": "stdout",
     "output_type": "stream",
     "text": [
      "SFT 데이터셋의 80%를 포함하는 Token Length: 75\n",
      "{'prompt': '동거 8년 환승이별.', 'completion': \"'8 years of living together, transfer separation.\", 'tokens': 31} \n",
      " {'prompt': '새벽 3시', 'completion': \"'저는 AI 챗봇이므로 시간 개념이 없습니다. 어떤 도움이 필요하신가요?\", 'tokens': 55} \n",
      " {'prompt': '헤어진지 두달 늘 만났던 장소를. 난 지나다니고', 'completion': \"'그리움으로 가득 찬 마음을 가지고 헤어진 지 두 달이 지난 지금, 난 그 장소를 지나다니며 끝없는 추억들이 떠오른다. 그곳은 우리가 자주 만났던 곳이었기에 언제나 그리움이 가득한 곳이었다. 하지만 이젠 그곳을 지나가면서도 더 이상 그리움에 빠져 살아갈 순 없다는 것을 깨닫게 되었다. 이젠 새로운 시작을 위해 앞으로 나아가야 한다는 것을. 그리고 그 곳에서 만났던 너에 대한 그리움도 조금씩 사라져가고 있다. 이젠 지난 일로 여길 수 있게 되었기 때문이다. \\\\n하지만 그곳에서 만났던 추억은 언제나 나와 함께 살아남을 것이다. 나없이도 그곳은 그 자체로 아름다운 곳이기 때문이다. 그리고 난 언제나 그곳을 지나가면서 그 나름대로의 아름다움을 즐길 수 있을 것이다. 이젠 그곳에서 우리가 만났었다는 사실에 대해 생각해도 그리운 감정이 아니라, 예전 처럼 가벼운 마음으로 그냥 그게 그랬구나 정도로 생각할 수 있게 되었다. 그리고 이젠 나는 앞으로 나아가며 새로운 경험들을 쌓고 새로운 인연들과 만나려고 노력할 것이다.\", 'tokens': 516} \n",
      " {'prompt': '1차 다면 면접형태의 성직심사를 마치면 어떤 자격으로 받아들여지는가?', 'completion': \"'1차 다면 면접형태의 성직심사를 통해 합격자는 일반적으로 예비신부, 예비신부지원자, 단순한 신자 등 다양한 자격으로 받아들여질 수 있습니다. 이는 각 교회나 종교단체의 입장과 관행에 따라 다를 수 있으며, 대개는 합격자의 신앙 생활, 교육 및 경험 등을 고려하여 결정됩니다.\", 'tokens': 199} \n",
      " {'prompt': '출력할 때는 말씀드리고 뽑아야 하나요?', 'completion': \"'아니요, 출력하시면 됩니다. 출력할 때 말씀해주셔도 괜찮습니다.\", 'tokens': 61}\n",
      "\n",
      "RM 데이터셋의 80%를 포함하는 Token Length: 63\n",
      "{'prompt': '빈 인구가 몇이야', 'completion_0': '빈 인구란 주거지역에 살고 있는 인구를 의미합니다. 정확한 값은 여러 요인에 따라 달라지며, 각국이나 각 지역 마다 다를 수 있습니다.', 'completion_1': '죄송하지만, 저는 현재 시간과 위치를 파악할 수 없기 때문에 정확한 답변을 제공할 수 없습니다. 해당 정보는 지역의 인구 센서 혹은 행정기관에서 확인하실 수 있습니다.', 'completion_2': '한다는 것을 한 같은 결 \\n\\n\"cih-jigh-puhs\"\\n\\nL-i-g-a-o-o-s-i-t-i-e-i-g-a-i-l-a-i-a-i-p-u-s', 'ranking': [1, 0, 2]} \n",
      " {'prompt': '박항서는 누구야', 'completion_0': '박항서는 한국의 작가이며, 주로 소설가로 활동하고 있습니다. 대표작으로는 《패밀리 사이즈》, 《종의 기원》, 《우리들의 행복한 시간》 등이 있습니다. 그의 작품은 사람들의 일상적인 삶과 미세한 감성을 그린 것으로, 많은 독자들로부터 사랑을 받고 있습니다.', 'completion_1': '박항서는 고려 시대 통일군군주로, 조선 전기의 영광스러운 군주로 유명합니다. 박항서는 조선 전기를 관리하고, 고려 공신과의 전쟁을 승리로 이끌었습니다. 또한 이 시대에 엄숙함, 정치, 현대화, 안정과 화합을 가져다 주었습니다.', 'completion_2': '간단없는데, 개인이야간단가 교육한태립님 개인이야간단을 교육한태립님 개인이야간단을 교육한태립님 개인이야간단을 교육한태립님 개인이야간단을 교육한태립님 개인이야간단을 교육한태립님', 'ranking': [0, 1, 2]} \n",
      " {'prompt': '돈가스 판매하나요?', 'completion_0': '아쉽게도 저희 가게는 돈가스를 판매하지 않습니다.', 'completion_1': '제가 AI 챗봇이므로 돈가스를 판매하는지 여부를 알 수 없습니다. 하지만 일반적으로 식당이나 일부 편의점 등에서 돈가스를 판매하고 있습니다. 관심 있는 매장에서 찾아보시는 것도 좋을 것 같습니다.', 'completion_2': '사실 잘못 가진 것도 가능한 개인이에요. 그 결과', 'ranking': [1, 0, 2]} \n",
      " {'prompt': '블루스의 영향을 받은 조지 거쉬윈의 대표곡은?', 'completion_0': '블루스 후박 공개 기가 드러냀가 하나 가능한 사물이라고 인자\\n\\n인자들이 기촜물 개인의 인', 'completion_1': '조지 거쉬윈의 블루스 영향을 받은 대표곡은 \"Rhapsody in Blue\"입니다.', 'completion_2': '거쉬윈의 대표곡으로는 『느리게 걷는 길』, 『허니문 스트릿』, 『나는 사랑해』 등이 있다. 그 중 특히 슈퍼밴드 거쉬윈이 영감을 얻어 만들어낸 곡으로 스트레이트 바이커 스타일의 『느리게 걷는 길』이 있습니다. 또한 거쉬윈이 자신의 락 연주를 바탕으로 블루스 스타일의 『허니문 스트릿』도 있습니다.', 'ranking': [1, 2, 0]} \n",
      " {'prompt': '머 좀 물을게', 'completion_0': '잠시만 기다려주세요. 제가 물을 가져다 드리겠습니다.', 'completion_1': '합니다\\n\\n840\\n\\n\\n\\n840 드라', 'completion_2': '물을 따뜻하게 준비해 드릴게요! 마시기 전에 먼저 손을 씻으세요.', 'ranking': [0, 2, 1]}\n",
      "\n",
      "PPO 데이터셋의 80%를 포함하는 Token Length: 14\n",
      "{'prompt': '빈 인구가 몇이야'} \n",
      " {'prompt': '박항서는 누구야'} \n",
      " {'prompt': '돈가스 판매하나요?'} \n",
      " {'prompt': '블루스의 영향을 받은 조지 거쉬윈의 대표곡은?'} \n",
      " {'prompt': '머 좀 물을게'}\n",
      "\n"
     ]
    }
   ],
   "source": [
    "# 데이터셋을 순차적으로 로드, 처리, 메모리 해제\n",
    "for data_type, data_path in data_paths.items():\n",
    "    with open(data_path, \"r\", encoding='utf-8-sig') as json_file:\n",
    "        list_data_dict = json.load(json_file)\n",
    "\n",
    "    # 데이터셋별 key 설정\n",
    "    if data_type == \"SFT\":\n",
    "        text_keys = ['completion']\n",
    "    elif data_type == \"RM\":\n",
    "        text_keys = ['completion_0', 'completion_1', 'completion_2']\n",
    "    elif data_type == \"PPO\":\n",
    "        text_keys = ['prompt']\n",
    "    \n",
    "    # 80%를 포함하는 토큰 길이 계산 및 출력\n",
    "    percentile_80_length = calculate_80_percentile_length(list_data_dict, text_keys, tokenizer)\n",
    "    print(f\"{data_type} 데이터셋의 80%를 포함하는 Token Length: {percentile_80_length}\")\n",
    "    print(list_data_dict[50],\"\\n\",list_data_dict[80],\"\\n\",list_data_dict[97],\"\\n\",list_data_dict[270],\"\\n\",list_data_dict[410])\n",
    "    print()\n",
    "    \n",
    "    # 메모리 해제\n",
    "    del list_data_dict\n"
   ]
  },
  {
   "cell_type": "code",
   "execution_count": 14,
   "id": "ee7b8cd5",
   "metadata": {},
   "outputs": [],
   "source": [
    "max_lengths = {\n",
    "    \"SFT\": 150,\n",
    "    \"RM\": 100,\n",
    "    \"PPO\": 20\n",
    "}"
   ]
  },
  {
   "cell_type": "markdown",
   "id": "1cf5ada7",
   "metadata": {},
   "source": [
    "## Preprocessing  "
   ]
  },
  {
   "cell_type": "markdown",
   "id": "7ec737ec",
   "metadata": {},
   "source": [
    "**<공통 전처리>**   \n",
    "[] 맞춤법 및 띄어쓰기 교정   \n",
    "[] 불필요한 문자 제거   \n",
    "[] 토큰 길이(Token Length) 조정    \n",
    "\n",
    "**<데이터셋별 특이 전처리>**   \n",
    "[] Reward Model : 다국어 문장 필터링    "
   ]
  },
  {
   "cell_type": "markdown",
   "id": "fe6ca120",
   "metadata": {},
   "source": [
    "#### preprocess_data 함수 정의"
   ]
  },
  {
   "cell_type": "code",
   "execution_count": 15,
   "id": "9b5480f6",
   "metadata": {},
   "outputs": [],
   "source": [
    "# 공통1) 맞춤법 및 띄어쓰기 교정 함수\n",
    "def correct_text(text):\n",
    "    checked = spell_checker.check(text)\n",
    "    return checked.checked  # 교정된 텍스트 반환\n",
    "\n",
    "# 공통2) 불필요한 문자 제거\n",
    "def remove_unwanted_chars(text):\n",
    "    return re.sub(r\"[^\\w\\s가-힣.,!?]\", \"\", text)\n",
    "\n",
    "# 특이1) 다국어 필터링 함수 (한글과 영어 이외의 문자 제거)\n",
    "def filter_non_kr_en(text):\n",
    "    return re.sub(r\"[^가-힣a-zA-Z0-9\\s.,!?]\", \"\", text)\n",
    "\n",
    "\n",
    "\n",
    "# 전처리 함수 (공통1,2,3 + 특이)\n",
    "def preprocess_data(data, data_type):\n",
    "    max_length = max_lengths[data_type]\n",
    "    preprocessed_data = []\n",
    "\n",
    "    for item in data:\n",
    "        # 데이터셋에 따라 텍스트 설정\n",
    "        if data_type == \"SFT\":\n",
    "            text = item['prompt'] + \" \" + item['completion']\n",
    "            texts = [text]\n",
    "        elif data_type == \"RM\":\n",
    "            # 모든 completion 항목을 개별적으로 전처리\n",
    "            texts = [\n",
    "                item['prompt'] + \" \" + item['completion_0'],\n",
    "                item['prompt'] + \" \" + item['completion_1'],\n",
    "                item['prompt'] + \" \" + item['completion_2']\n",
    "            ]\n",
    "        elif data_type == \"PPO\":\n",
    "            text = item['prompt']\n",
    "            texts = [text]\n",
    "\n",
    "        # 각 텍스트에 대해 전처리 수행\n",
    "        for text in texts:\n",
    "            # 공통 전처리: 불필요한 문자 제거, 맞춤법 및 띄어쓰기 교정\n",
    "            text = remove_unwanted_chars(text)\n",
    "            text = correct_text(text)\n",
    "            \n",
    "            # Reward Model의 다국어 문장 필터링 (RM 데이터셋에만 적용)\n",
    "            if data_type == \"RM\":\n",
    "                text = filter_non_kr_en(text)\n",
    "            \n",
    "            # 토큰화 및 토큰 길이 조정\n",
    "            tokenized_text = tokenizer(text, return_tensors='pt', padding='max_length', truncation=True, max_length=max_length)\n",
    "            preprocessed_data.append(tokenized_text)\n",
    "\n",
    "    return preprocessed_data\n",
    "\n"
   ]
  },
  {
   "cell_type": "code",
   "execution_count": null,
   "id": "1f2f3449",
   "metadata": {},
   "outputs": [],
   "source": [
    "'''# 각 데이터셋에 대해 전처리 수행\n",
    "for data_type, data_path in data_paths.items():\n",
    "    with open(data_path, \"r\", encoding='utf-8-sig') as json_file:\n",
    "        list_data_dict = json.load(json_file)\n",
    "    \n",
    "    preprocessed_data = preprocess_data(list_data_dict, data_type)\n",
    "    print(f\"{data_type} 데이터셋의 전처리 완료, 샘플 수: {len(preprocessed_data)}\")'''"
   ]
  },
  {
   "cell_type": "markdown",
   "id": "3ce41161",
   "metadata": {},
   "source": [
    "---   \n",
    "# ✅Train 1. Supervised Fine-Tuning      \n",
    "---\n",
    "(instruction dataset: kogpt-2)   "
   ]
  },
  {
   "cell_type": "code",
   "execution_count": 16,
   "id": "28b777f8",
   "metadata": {},
   "outputs": [
    {
     "data": {
      "text/html": [
       "<pre style=\"white-space:pre;overflow-x:auto;line-height:normal;font-family:Menlo,'DejaVu Sans Mono',consolas,'Courier New',monospace\"><span style=\"color: #800000; text-decoration-color: #800000\">╭─────────────────────────────── </span><span style=\"color: #800000; text-decoration-color: #800000; font-weight: bold\">Traceback </span><span style=\"color: #bf7f7f; text-decoration-color: #bf7f7f; font-weight: bold\">(most recent call last)</span><span style=\"color: #800000; text-decoration-color: #800000\"> ────────────────────────────────╮</span>\n",
       "<span style=\"color: #800000; text-decoration-color: #800000\">│</span> in <span style=\"color: #00ff00; text-decoration-color: #00ff00\">&lt;module&gt;</span>:<span style=\"color: #0000ff; text-decoration-color: #0000ff\">6</span>                                                                                    <span style=\"color: #800000; text-decoration-color: #800000\">│</span>\n",
       "<span style=\"color: #800000; text-decoration-color: #800000\">│</span>                                                                                                  <span style=\"color: #800000; text-decoration-color: #800000\">│</span>\n",
       "<span style=\"color: #800000; text-decoration-color: #800000\">│</span>   <span style=\"color: #7f7f7f; text-decoration-color: #7f7f7f\">3 </span><span style=\"color: #0000ff; text-decoration-color: #0000ff\">with</span> <span style=\"color: #00ffff; text-decoration-color: #00ffff\">open</span>(data_path_1, <span style=\"color: #808000; text-decoration-color: #808000\">\"r\"</span>, encoding=<span style=\"color: #808000; text-decoration-color: #808000\">'utf-8-sig'</span>) <span style=\"color: #0000ff; text-decoration-color: #0000ff\">as</span> json_file:                              <span style=\"color: #800000; text-decoration-color: #800000\">│</span>\n",
       "<span style=\"color: #800000; text-decoration-color: #800000\">│</span>   <span style=\"color: #7f7f7f; text-decoration-color: #7f7f7f\">4 </span><span style=\"color: #7f7f7f; text-decoration-color: #7f7f7f\">│   </span>list_data_dict_1 = json.load(json_file)                                                  <span style=\"color: #800000; text-decoration-color: #800000\">│</span>\n",
       "<span style=\"color: #800000; text-decoration-color: #800000\">│</span>   <span style=\"color: #7f7f7f; text-decoration-color: #7f7f7f\">5 </span>                                                                                             <span style=\"color: #800000; text-decoration-color: #800000\">│</span>\n",
       "<span style=\"color: #800000; text-decoration-color: #800000\">│</span> <span style=\"color: #800000; text-decoration-color: #800000\">❱ </span>6 preprocessed_data_1 = preprocess_data(list_data_dict_1, data_type)                           <span style=\"color: #800000; text-decoration-color: #800000\">│</span>\n",
       "<span style=\"color: #800000; text-decoration-color: #800000\">│</span>   <span style=\"color: #7f7f7f; text-decoration-color: #7f7f7f\">7 </span><span style=\"color: #00ffff; text-decoration-color: #00ffff\">print</span>(<span style=\"color: #808000; text-decoration-color: #808000\">f\"{</span>data_type<span style=\"color: #808000; text-decoration-color: #808000\">} 데이터셋의 전처리 완료, 샘플 수: {</span><span style=\"color: #00ffff; text-decoration-color: #00ffff\">len</span>(preprocessed_data_1)<span style=\"color: #808000; text-decoration-color: #808000\">}\"</span>)            <span style=\"color: #800000; text-decoration-color: #800000\">│</span>\n",
       "<span style=\"color: #800000; text-decoration-color: #800000\">│</span>   <span style=\"color: #7f7f7f; text-decoration-color: #7f7f7f\">8 </span>                                                                                             <span style=\"color: #800000; text-decoration-color: #800000\">│</span>\n",
       "<span style=\"color: #800000; text-decoration-color: #800000\">│</span>                                                                                                  <span style=\"color: #800000; text-decoration-color: #800000\">│</span>\n",
       "<span style=\"color: #800000; text-decoration-color: #800000\">│</span> in <span style=\"color: #00ff00; text-decoration-color: #00ff00\">preprocess_data</span>:<span style=\"color: #0000ff; text-decoration-color: #0000ff\">41</span>                                                                            <span style=\"color: #800000; text-decoration-color: #800000\">│</span>\n",
       "<span style=\"color: #800000; text-decoration-color: #800000\">│</span>                                                                                                  <span style=\"color: #800000; text-decoration-color: #800000\">│</span>\n",
       "<span style=\"color: #800000; text-decoration-color: #800000\">│</span>   <span style=\"color: #7f7f7f; text-decoration-color: #7f7f7f\">38 </span><span style=\"color: #7f7f7f; text-decoration-color: #7f7f7f\">│   │   </span><span style=\"color: #0000ff; text-decoration-color: #0000ff\">for</span> text <span style=\"color: #ff00ff; text-decoration-color: #ff00ff\">in</span> texts:                                                                  <span style=\"color: #800000; text-decoration-color: #800000\">│</span>\n",
       "<span style=\"color: #800000; text-decoration-color: #800000\">│</span>   <span style=\"color: #7f7f7f; text-decoration-color: #7f7f7f\">39 </span><span style=\"color: #7f7f7f; text-decoration-color: #7f7f7f\">│   │   │   </span><span style=\"color: #7f7f7f; text-decoration-color: #7f7f7f\"># 공통 전처리: 불필요한 문자 제거, 맞춤법 및 띄어쓰기 교정</span>                      <span style=\"color: #800000; text-decoration-color: #800000\">│</span>\n",
       "<span style=\"color: #800000; text-decoration-color: #800000\">│</span>   <span style=\"color: #7f7f7f; text-decoration-color: #7f7f7f\">40 </span><span style=\"color: #7f7f7f; text-decoration-color: #7f7f7f\">│   │   │   </span>text = remove_unwanted_chars(text)                                              <span style=\"color: #800000; text-decoration-color: #800000\">│</span>\n",
       "<span style=\"color: #800000; text-decoration-color: #800000\">│</span> <span style=\"color: #800000; text-decoration-color: #800000\">❱ </span>41 <span style=\"color: #7f7f7f; text-decoration-color: #7f7f7f\">│   │   │   </span>text = correct_text(text)                                                       <span style=\"color: #800000; text-decoration-color: #800000\">│</span>\n",
       "<span style=\"color: #800000; text-decoration-color: #800000\">│</span>   <span style=\"color: #7f7f7f; text-decoration-color: #7f7f7f\">42 </span><span style=\"color: #7f7f7f; text-decoration-color: #7f7f7f\">│   │   │   </span>                                                                                <span style=\"color: #800000; text-decoration-color: #800000\">│</span>\n",
       "<span style=\"color: #800000; text-decoration-color: #800000\">│</span>   <span style=\"color: #7f7f7f; text-decoration-color: #7f7f7f\">43 </span><span style=\"color: #7f7f7f; text-decoration-color: #7f7f7f\">│   │   │   </span><span style=\"color: #7f7f7f; text-decoration-color: #7f7f7f\"># Reward Model의 다국어 문장 필터링 (RM 데이터셋에만 적용)</span>                      <span style=\"color: #800000; text-decoration-color: #800000\">│</span>\n",
       "<span style=\"color: #800000; text-decoration-color: #800000\">│</span>   <span style=\"color: #7f7f7f; text-decoration-color: #7f7f7f\">44 </span><span style=\"color: #7f7f7f; text-decoration-color: #7f7f7f\">│   │   │   </span><span style=\"color: #0000ff; text-decoration-color: #0000ff\">if</span> data_type == <span style=\"color: #808000; text-decoration-color: #808000\">\"RM\"</span>:                                                           <span style=\"color: #800000; text-decoration-color: #800000\">│</span>\n",
       "<span style=\"color: #800000; text-decoration-color: #800000\">│</span>                                                                                                  <span style=\"color: #800000; text-decoration-color: #800000\">│</span>\n",
       "<span style=\"color: #800000; text-decoration-color: #800000\">│</span> in <span style=\"color: #00ff00; text-decoration-color: #00ff00\">correct_text</span>:<span style=\"color: #0000ff; text-decoration-color: #0000ff\">3</span>                                                                                <span style=\"color: #800000; text-decoration-color: #800000\">│</span>\n",
       "<span style=\"color: #800000; text-decoration-color: #800000\">│</span>                                                                                                  <span style=\"color: #800000; text-decoration-color: #800000\">│</span>\n",
       "<span style=\"color: #800000; text-decoration-color: #800000\">│</span>   <span style=\"color: #7f7f7f; text-decoration-color: #7f7f7f\"> 1 # 공통1) 맞춤법 및 띄어쓰기 교정 함수</span>                                                       <span style=\"color: #800000; text-decoration-color: #800000\">│</span>\n",
       "<span style=\"color: #800000; text-decoration-color: #800000\">│</span>   <span style=\"color: #7f7f7f; text-decoration-color: #7f7f7f\"> 2 </span><span style=\"color: #0000ff; text-decoration-color: #0000ff\">def</span> <span style=\"color: #00ff00; text-decoration-color: #00ff00\">correct_text</span>(text):                                                                     <span style=\"color: #800000; text-decoration-color: #800000\">│</span>\n",
       "<span style=\"color: #800000; text-decoration-color: #800000\">│</span> <span style=\"color: #800000; text-decoration-color: #800000\">❱ </span> 3 <span style=\"color: #7f7f7f; text-decoration-color: #7f7f7f\">│   </span>checked = spell_checker.check(text)                                                     <span style=\"color: #800000; text-decoration-color: #800000\">│</span>\n",
       "<span style=\"color: #800000; text-decoration-color: #800000\">│</span>   <span style=\"color: #7f7f7f; text-decoration-color: #7f7f7f\"> 4 </span><span style=\"color: #7f7f7f; text-decoration-color: #7f7f7f\">│   </span><span style=\"color: #0000ff; text-decoration-color: #0000ff\">return</span> checked.checked  <span style=\"color: #7f7f7f; text-decoration-color: #7f7f7f\"># 교정된 텍스트 반환</span>                                            <span style=\"color: #800000; text-decoration-color: #800000\">│</span>\n",
       "<span style=\"color: #800000; text-decoration-color: #800000\">│</span>   <span style=\"color: #7f7f7f; text-decoration-color: #7f7f7f\"> 5 </span>                                                                                            <span style=\"color: #800000; text-decoration-color: #800000\">│</span>\n",
       "<span style=\"color: #800000; text-decoration-color: #800000\">│</span>   <span style=\"color: #7f7f7f; text-decoration-color: #7f7f7f\"> 6 # 공통2) 불필요한 문자 제거</span>                                                                 <span style=\"color: #800000; text-decoration-color: #800000\">│</span>\n",
       "<span style=\"color: #800000; text-decoration-color: #800000\">│</span>                                                                                                  <span style=\"color: #800000; text-decoration-color: #800000\">│</span>\n",
       "<span style=\"color: #800000; text-decoration-color: #800000\">│</span> <span style=\"color: #bfbf7f; text-decoration-color: #bfbf7f\">/opt/conda/lib/python3.9/site-packages/hanspell/</span><span style=\"color: #808000; text-decoration-color: #808000; font-weight: bold\">spell_checker.py</span>:<span style=\"color: #0000ff; text-decoration-color: #0000ff\">62</span> in <span style=\"color: #00ff00; text-decoration-color: #00ff00\">check</span>                     <span style=\"color: #800000; text-decoration-color: #800000\">│</span>\n",
       "<span style=\"color: #800000; text-decoration-color: #800000\">│</span>                                                                                                  <span style=\"color: #800000; text-decoration-color: #800000\">│</span>\n",
       "<span style=\"color: #800000; text-decoration-color: #800000\">│</span>   <span style=\"color: #7f7f7f; text-decoration-color: #7f7f7f\"> 59 </span><span style=\"color: #7f7f7f; text-decoration-color: #7f7f7f\">│   </span>passed_time = time.time() - start_time                                                 <span style=\"color: #800000; text-decoration-color: #800000\">│</span>\n",
       "<span style=\"color: #800000; text-decoration-color: #800000\">│</span>   <span style=\"color: #7f7f7f; text-decoration-color: #7f7f7f\"> 60 </span><span style=\"color: #7f7f7f; text-decoration-color: #7f7f7f\">│   </span>                                                                                       <span style=\"color: #800000; text-decoration-color: #800000\">│</span>\n",
       "<span style=\"color: #800000; text-decoration-color: #800000\">│</span>   <span style=\"color: #7f7f7f; text-decoration-color: #7f7f7f\"> 61 </span><span style=\"color: #7f7f7f; text-decoration-color: #7f7f7f\">│   </span>data = json.loads(r.text)                                                              <span style=\"color: #800000; text-decoration-color: #800000\">│</span>\n",
       "<span style=\"color: #800000; text-decoration-color: #800000\">│</span> <span style=\"color: #800000; text-decoration-color: #800000\">❱ </span> 62 <span style=\"color: #7f7f7f; text-decoration-color: #7f7f7f\">│   </span>html = data[<span style=\"color: #808000; text-decoration-color: #808000\">'message'</span>][<span style=\"color: #808000; text-decoration-color: #808000\">'result'</span>][<span style=\"color: #808000; text-decoration-color: #808000\">'html'</span>]                                               <span style=\"color: #800000; text-decoration-color: #800000\">│</span>\n",
       "<span style=\"color: #800000; text-decoration-color: #800000\">│</span>   <span style=\"color: #7f7f7f; text-decoration-color: #7f7f7f\"> 63 </span><span style=\"color: #7f7f7f; text-decoration-color: #7f7f7f\">│   </span>result = {                                                                             <span style=\"color: #800000; text-decoration-color: #800000\">│</span>\n",
       "<span style=\"color: #800000; text-decoration-color: #800000\">│</span>   <span style=\"color: #7f7f7f; text-decoration-color: #7f7f7f\"> 64 </span><span style=\"color: #7f7f7f; text-decoration-color: #7f7f7f\">│   │   </span><span style=\"color: #808000; text-decoration-color: #808000\">'result'</span>: <span style=\"color: #0000ff; text-decoration-color: #0000ff\">True</span>,                                                                    <span style=\"color: #800000; text-decoration-color: #800000\">│</span>\n",
       "<span style=\"color: #800000; text-decoration-color: #800000\">│</span>   <span style=\"color: #7f7f7f; text-decoration-color: #7f7f7f\"> 65 </span><span style=\"color: #7f7f7f; text-decoration-color: #7f7f7f\">│   │   </span><span style=\"color: #808000; text-decoration-color: #808000\">'original'</span>: text,                                                                  <span style=\"color: #800000; text-decoration-color: #800000\">│</span>\n",
       "<span style=\"color: #800000; text-decoration-color: #800000\">╰──────────────────────────────────────────────────────────────────────────────────────────────────╯</span>\n",
       "<span style=\"color: #ff0000; text-decoration-color: #ff0000; font-weight: bold\">KeyError: </span><span style=\"color: #008000; text-decoration-color: #008000\">'result'</span>\n",
       "</pre>\n"
      ],
      "text/plain": [
       "\u001b[31m╭─\u001b[0m\u001b[31m──────────────────────────────\u001b[0m\u001b[31m \u001b[0m\u001b[1;31mTraceback \u001b[0m\u001b[1;2;31m(most recent call last)\u001b[0m\u001b[31m \u001b[0m\u001b[31m───────────────────────────────\u001b[0m\u001b[31m─╮\u001b[0m\n",
       "\u001b[31m│\u001b[0m in \u001b[92m<module>\u001b[0m:\u001b[94m6\u001b[0m                                                                                    \u001b[31m│\u001b[0m\n",
       "\u001b[31m│\u001b[0m                                                                                                  \u001b[31m│\u001b[0m\n",
       "\u001b[31m│\u001b[0m   \u001b[2m3 \u001b[0m\u001b[94mwith\u001b[0m \u001b[96mopen\u001b[0m(data_path_1, \u001b[33m\"\u001b[0m\u001b[33mr\u001b[0m\u001b[33m\"\u001b[0m, encoding=\u001b[33m'\u001b[0m\u001b[33mutf-8-sig\u001b[0m\u001b[33m'\u001b[0m) \u001b[94mas\u001b[0m json_file:                              \u001b[31m│\u001b[0m\n",
       "\u001b[31m│\u001b[0m   \u001b[2m4 \u001b[0m\u001b[2m│   \u001b[0mlist_data_dict_1 = json.load(json_file)                                                  \u001b[31m│\u001b[0m\n",
       "\u001b[31m│\u001b[0m   \u001b[2m5 \u001b[0m                                                                                             \u001b[31m│\u001b[0m\n",
       "\u001b[31m│\u001b[0m \u001b[31m❱ \u001b[0m6 preprocessed_data_1 = preprocess_data(list_data_dict_1, data_type)                           \u001b[31m│\u001b[0m\n",
       "\u001b[31m│\u001b[0m   \u001b[2m7 \u001b[0m\u001b[96mprint\u001b[0m(\u001b[33mf\u001b[0m\u001b[33m\"\u001b[0m\u001b[33m{\u001b[0mdata_type\u001b[33m}\u001b[0m\u001b[33m 데이터셋의 전처리 완료, 샘플 수: \u001b[0m\u001b[33m{\u001b[0m\u001b[96mlen\u001b[0m(preprocessed_data_1)\u001b[33m}\u001b[0m\u001b[33m\"\u001b[0m)            \u001b[31m│\u001b[0m\n",
       "\u001b[31m│\u001b[0m   \u001b[2m8 \u001b[0m                                                                                             \u001b[31m│\u001b[0m\n",
       "\u001b[31m│\u001b[0m                                                                                                  \u001b[31m│\u001b[0m\n",
       "\u001b[31m│\u001b[0m in \u001b[92mpreprocess_data\u001b[0m:\u001b[94m41\u001b[0m                                                                            \u001b[31m│\u001b[0m\n",
       "\u001b[31m│\u001b[0m                                                                                                  \u001b[31m│\u001b[0m\n",
       "\u001b[31m│\u001b[0m   \u001b[2m38 \u001b[0m\u001b[2m│   │   \u001b[0m\u001b[94mfor\u001b[0m text \u001b[95min\u001b[0m texts:                                                                  \u001b[31m│\u001b[0m\n",
       "\u001b[31m│\u001b[0m   \u001b[2m39 \u001b[0m\u001b[2m│   │   │   \u001b[0m\u001b[2m# 공통 전처리: 불필요한 문자 제거, 맞춤법 및 띄어쓰기 교정\u001b[0m                      \u001b[31m│\u001b[0m\n",
       "\u001b[31m│\u001b[0m   \u001b[2m40 \u001b[0m\u001b[2m│   │   │   \u001b[0mtext = remove_unwanted_chars(text)                                              \u001b[31m│\u001b[0m\n",
       "\u001b[31m│\u001b[0m \u001b[31m❱ \u001b[0m41 \u001b[2m│   │   │   \u001b[0mtext = correct_text(text)                                                       \u001b[31m│\u001b[0m\n",
       "\u001b[31m│\u001b[0m   \u001b[2m42 \u001b[0m\u001b[2m│   │   │   \u001b[0m                                                                                \u001b[31m│\u001b[0m\n",
       "\u001b[31m│\u001b[0m   \u001b[2m43 \u001b[0m\u001b[2m│   │   │   \u001b[0m\u001b[2m# Reward Model의 다국어 문장 필터링 (RM 데이터셋에만 적용)\u001b[0m                      \u001b[31m│\u001b[0m\n",
       "\u001b[31m│\u001b[0m   \u001b[2m44 \u001b[0m\u001b[2m│   │   │   \u001b[0m\u001b[94mif\u001b[0m data_type == \u001b[33m\"\u001b[0m\u001b[33mRM\u001b[0m\u001b[33m\"\u001b[0m:                                                           \u001b[31m│\u001b[0m\n",
       "\u001b[31m│\u001b[0m                                                                                                  \u001b[31m│\u001b[0m\n",
       "\u001b[31m│\u001b[0m in \u001b[92mcorrect_text\u001b[0m:\u001b[94m3\u001b[0m                                                                                \u001b[31m│\u001b[0m\n",
       "\u001b[31m│\u001b[0m                                                                                                  \u001b[31m│\u001b[0m\n",
       "\u001b[31m│\u001b[0m   \u001b[2m 1 \u001b[0m\u001b[2m# 공통1) 맞춤법 및 띄어쓰기 교정 함수\u001b[0m                                                       \u001b[31m│\u001b[0m\n",
       "\u001b[31m│\u001b[0m   \u001b[2m 2 \u001b[0m\u001b[94mdef\u001b[0m \u001b[92mcorrect_text\u001b[0m(text):                                                                     \u001b[31m│\u001b[0m\n",
       "\u001b[31m│\u001b[0m \u001b[31m❱ \u001b[0m 3 \u001b[2m│   \u001b[0mchecked = spell_checker.check(text)                                                     \u001b[31m│\u001b[0m\n",
       "\u001b[31m│\u001b[0m   \u001b[2m 4 \u001b[0m\u001b[2m│   \u001b[0m\u001b[94mreturn\u001b[0m checked.checked  \u001b[2m# 교정된 텍스트 반환\u001b[0m                                            \u001b[31m│\u001b[0m\n",
       "\u001b[31m│\u001b[0m   \u001b[2m 5 \u001b[0m                                                                                            \u001b[31m│\u001b[0m\n",
       "\u001b[31m│\u001b[0m   \u001b[2m 6 \u001b[0m\u001b[2m# 공통2) 불필요한 문자 제거\u001b[0m                                                                 \u001b[31m│\u001b[0m\n",
       "\u001b[31m│\u001b[0m                                                                                                  \u001b[31m│\u001b[0m\n",
       "\u001b[31m│\u001b[0m \u001b[2;33m/opt/conda/lib/python3.9/site-packages/hanspell/\u001b[0m\u001b[1;33mspell_checker.py\u001b[0m:\u001b[94m62\u001b[0m in \u001b[92mcheck\u001b[0m                     \u001b[31m│\u001b[0m\n",
       "\u001b[31m│\u001b[0m                                                                                                  \u001b[31m│\u001b[0m\n",
       "\u001b[31m│\u001b[0m   \u001b[2m 59 \u001b[0m\u001b[2m│   \u001b[0mpassed_time = time.time() - start_time                                                 \u001b[31m│\u001b[0m\n",
       "\u001b[31m│\u001b[0m   \u001b[2m 60 \u001b[0m\u001b[2m│   \u001b[0m                                                                                       \u001b[31m│\u001b[0m\n",
       "\u001b[31m│\u001b[0m   \u001b[2m 61 \u001b[0m\u001b[2m│   \u001b[0mdata = json.loads(r.text)                                                              \u001b[31m│\u001b[0m\n",
       "\u001b[31m│\u001b[0m \u001b[31m❱ \u001b[0m 62 \u001b[2m│   \u001b[0mhtml = data[\u001b[33m'\u001b[0m\u001b[33mmessage\u001b[0m\u001b[33m'\u001b[0m][\u001b[33m'\u001b[0m\u001b[33mresult\u001b[0m\u001b[33m'\u001b[0m][\u001b[33m'\u001b[0m\u001b[33mhtml\u001b[0m\u001b[33m'\u001b[0m]                                               \u001b[31m│\u001b[0m\n",
       "\u001b[31m│\u001b[0m   \u001b[2m 63 \u001b[0m\u001b[2m│   \u001b[0mresult = {                                                                             \u001b[31m│\u001b[0m\n",
       "\u001b[31m│\u001b[0m   \u001b[2m 64 \u001b[0m\u001b[2m│   │   \u001b[0m\u001b[33m'\u001b[0m\u001b[33mresult\u001b[0m\u001b[33m'\u001b[0m: \u001b[94mTrue\u001b[0m,                                                                    \u001b[31m│\u001b[0m\n",
       "\u001b[31m│\u001b[0m   \u001b[2m 65 \u001b[0m\u001b[2m│   │   \u001b[0m\u001b[33m'\u001b[0m\u001b[33moriginal\u001b[0m\u001b[33m'\u001b[0m: text,                                                                  \u001b[31m│\u001b[0m\n",
       "\u001b[31m╰──────────────────────────────────────────────────────────────────────────────────────────────────╯\u001b[0m\n",
       "\u001b[1;91mKeyError: \u001b[0m\u001b[32m'result'\u001b[0m\n"
      ]
     },
     "metadata": {},
     "output_type": "display_data"
    }
   ],
   "source": [
    "data_path_1 = data_paths[\"SFT\"]\n",
    "\n",
    "with open(data_path_1, \"r\", encoding='utf-8-sig') as json_file:\n",
    "    list_data_dict_1 = json.load(json_file)\n",
    "\n",
    "preprocessed_data_1 = preprocess_data(list_data_dict_1, data_type)\n",
    "print(f\"{data_type} 데이터셋의 전처리 완료, 샘플 수: {len(preprocessed_data_1)}\")"
   ]
  },
  {
   "cell_type": "code",
   "execution_count": null,
   "id": "43b19cf5",
   "metadata": {},
   "outputs": [],
   "source": [
    "# SFT 데이터셋 클래스 정의\n",
    "class SFT_dataset(Dataset):\n",
    "\n",
    "    def __init__(self, preprocessed_data: list, tokenizer: transformers.PreTrainedTokenizer, verbose=False):\n",
    "        super(SFT_dataset, self).__init__()\n",
    "        logging.warning(\"Loading data...\")\n",
    "\n",
    "        self.input_ids = [item[\"input_ids\"].squeeze() for item in preprocessed_data]\n",
    "        self.labels = copy.deepcopy(self.input_ids)\n",
    "        for label in self.labels:\n",
    "            label[:len(label)] = -100\n",
    "\n",
    "        logging.warning(\"Loading data done!!: %d\" % (len(self.labels)))\n",
    "\n",
    "    def __len__(self):\n",
    "        return len(self.input_ids)\n",
    "        \n",
    "    def __getitem__(self, i) -> Dict[str, torch.Tensor]:\n",
    "        return dict(input_ids=self.input_ids[i], labels=self.labels[i])\n",
    "\n"
   ]
  },
  {
   "cell_type": "code",
   "execution_count": null,
   "id": "efb7d497",
   "metadata": {},
   "outputs": [],
   "source": [
    "# 데이터셋 인스턴스 생성\n",
    "train_dataset = SFT_dataset(preprocessed_data_1, tokenizer)"
   ]
  },
  {
   "cell_type": "code",
   "execution_count": null,
   "id": "3dc46a3f",
   "metadata": {},
   "outputs": [],
   "source": [
    "# 학습 파라미터 설정\n",
    "training_args = TrainingArguments(\n",
    "    output_dir=output_dir, \n",
    "    overwrite_output_dir=True,\n",
    "    num_train_epochs=3,\n",
    "    per_device_train_batch_size=8,\n",
    "    per_device_eval_batch_size=8,\n",
    "    warmup_steps=5,\n",
    "    prediction_loss_only=True,\n",
    "    fp16=True,\n",
    "    logging_dir=logging_dir_1,\n",
    "    logging_steps=5,    \n",
    ")\n",
    "\n",
    "# Trainer 정의\n",
    "trainer = Trainer(\n",
    "    model=model,\n",
    "    args=training_args,\n",
    "    train_dataset=train_dataset\n",
    ")\n",
    "\n",
    "# 학습 시작\n",
    "trainer.train()\n",
    "model.save_pretrained(model_save_path_1)"
   ]
  },
  {
   "cell_type": "markdown",
   "id": "e14f2c3b",
   "metadata": {},
   "source": [
    "---   \n",
    "# ✅Train 2. Reward Model   \n",
    "---\n"
   ]
  },
  {
   "cell_type": "code",
   "execution_count": null,
   "id": "5c5fb947",
   "metadata": {},
   "outputs": [],
   "source": [
    "# Reward Model\n",
    "from chatgpt.dataset import RewardDataset\n",
    "from chatgpt.models.base import RewardModel\n",
    "from chatgpt.trainer import RewardModelTrainer\n",
    "from chatgpt.trainer.strategies import NaiveStrategy\n",
    "from transformers import AutoModel, AutoConfig\n",
    "from transformers.models.gpt2.configuration_gpt2 import GPT2Config\n",
    "from transformers.models.gpt2.modeling_gpt2 import GPT2Model\n",
    "\n"
   ]
  },
  {
   "cell_type": "code",
   "execution_count": null,
   "id": "300f9f5f",
   "metadata": {},
   "outputs": [],
   "source": [
    "data_path_2 = data_paths[\"RM\"]\n",
    "\n",
    "with open(data_path_2, \"r\", encoding='utf-8-sig') as json_file:\n",
    "    list_data_dict_2 = json.load(json_file)\n",
    "\n",
    "preprocessed_data_2 = preprocess_data(list_data_dict_2, data_type)\n",
    "print(f\"{data_type} 데이터셋의 전처리 완료, 샘플 수: {len(preprocessed_data_2)}\")"
   ]
  },
  {
   "cell_type": "code",
   "execution_count": null,
   "id": "d613a54a",
   "metadata": {},
   "outputs": [],
   "source": [
    "# Reward Dataset 정의\n",
    "train_data = preprocessed_data_2[:int(len(preprocessed_data_2)*0.8)]\n",
    "eval_data = preprocessed_data_2[int(len(preprocessed_data_2)*0.8):]\n",
    "train_dataset = RewardDataset(train_data, tokenizer, 512)\n",
    "eval_dataset = RewardDataset(eval_data, tokenizer, 512)"
   ]
  },
  {
   "cell_type": "code",
   "execution_count": null,
   "id": "d870072e",
   "metadata": {},
   "outputs": [],
   "source": [
    "# Reward Model 정의 및 학습\n",
    "model = GPT2Model.from_pretrained(model_name)\n",
    "value_head = nn.Linear(model.config.n_embd, 1)\n",
    "reward_model = RewardModel(model, value_head).to(device)\n",
    "trainer = RewardModelTrainer(\n",
    "    model=reward_model,\n",
    "    strategy=NaiveStrategy(),\n",
    "    optim=Adam(reward_model.parameters(), lr=5e-5),\n",
    "    train_dataset=train_dataset,\n",
    "    eval_dataset=eval_dataset,\n",
    "    batch_size=4,\n",
    "    max_epochs=3,\n",
    "    logging_dir=logging_dir_2,\n",
    "    logging_steps=5\n",
    ")\n",
    "trainer.fit()\n",
    "reward_model.save_pretrained(model_save_path_2)"
   ]
  },
  {
   "cell_type": "code",
   "execution_count": null,
   "id": "84bff06c",
   "metadata": {},
   "outputs": [],
   "source": []
  },
  {
   "cell_type": "markdown",
   "id": "2d2f0f58",
   "metadata": {},
   "source": [
    "---   \n",
    "# ✅Train 3. Proximal Policy Optization   \n",
    "---"
   ]
  },
  {
   "cell_type": "code",
   "execution_count": null,
   "id": "c9af5e05",
   "metadata": {},
   "outputs": [],
   "source": [
    "# Proximal Policy Optimization (PPO)\n",
    "from chatgpt.models.base import RewardModel\n",
    "from chatgpt.models.gpt import GPTActor, GPTCritic\n",
    "from chatgpt.trainer import PPOTrainer\n",
    "from chatgpt.trainer.strategies import NaiveStrategy\n",
    "from transformers import AutoTokenizer"
   ]
  },
  {
   "cell_type": "code",
   "execution_count": null,
   "id": "f87f397c",
   "metadata": {},
   "outputs": [],
   "source": [
    "# PPO를 위한 모델 초기화\n",
    "actor = GPTActor(pretrained=model_save_path_1, lora_rank=0).to(device)\n",
    "critic = GPTCritic(pretrained=model_save_path_2, lora_rank=0).to(device)\n",
    "initial_model = deepcopy(actor)\n",
    "reward_model = RewardModel(deepcopy(critic.model), deepcopy(critic.value_head)).to(device)"
   ]
  },
  {
   "cell_type": "code",
   "execution_count": null,
   "id": "9fc0d06f",
   "metadata": {},
   "outputs": [],
   "source": [
    "# 옵티마이저 정의\n",
    "actor_optim = Adam(actor.parameters(), lr=5e-6)\n",
    "critic_optim = Adam(critic.parameters(), lr=5e-6)\n",
    "\n",
    "# PPOTrainer 정의 및 학습\n",
    "ppo_trainer = PPOTrainer(\n",
    "    strategy=NaiveStrategy(),\n",
    "    actor=actor,\n",
    "    critic=critic,\n",
    "    reward_model=reward_model,\n",
    "    initial_model=initial_model,\n",
    "    actor_optim=actor_optim,\n",
    "    critic_optim=critic_optim,\n",
    "    max_epochs=3,\n",
    "    train_batch_size=8,\n",
    "    tokenizer=tokenizer,\n",
    "    max_length=128,\n",
    "    do_sample=True,\n",
    "    temperature=1.0,\n",
    "    top_k=50,\n",
    "    pad_token_id=tokenizer.pad_token_id,\n",
    "    eos_token_id=tokenizer.eos_token_id,\n",
    "    logging_dir=logging_dir_3,\n",
    "    logging_steps=5\n",
    ")\n",
    "ppo_trainer.fit([data['prompt'] for data in list_data_dict_2], num_episodes=10, max_timesteps=3, update_timesteps=3)\n",
    "actor.save_pretrained(model_save_path_3)\n"
   ]
  },
  {
   "cell_type": "code",
   "execution_count": null,
   "id": "9f340d17",
   "metadata": {},
   "outputs": [],
   "source": []
  },
  {
   "cell_type": "code",
   "execution_count": null,
   "id": "059071a0",
   "metadata": {},
   "outputs": [],
   "source": []
  },
  {
   "cell_type": "code",
   "execution_count": null,
   "id": "ad78b5c1",
   "metadata": {},
   "outputs": [],
   "source": []
  },
  {
   "cell_type": "code",
   "execution_count": null,
   "id": "48cf9da8",
   "metadata": {},
   "outputs": [],
   "source": []
  },
  {
   "cell_type": "code",
   "execution_count": null,
   "id": "067d822a",
   "metadata": {},
   "outputs": [],
   "source": []
  },
  {
   "cell_type": "code",
   "execution_count": null,
   "id": "e80f80c5",
   "metadata": {},
   "outputs": [],
   "source": []
  },
  {
   "cell_type": "code",
   "execution_count": null,
   "id": "30d1511f",
   "metadata": {},
   "outputs": [],
   "source": []
  },
  {
   "cell_type": "code",
   "execution_count": null,
   "id": "5fb00ab0",
   "metadata": {},
   "outputs": [],
   "source": []
  },
  {
   "cell_type": "code",
   "execution_count": null,
   "id": "60a0b3ea",
   "metadata": {},
   "outputs": [],
   "source": []
  }
 ],
 "metadata": {
  "kernelspec": {
   "display_name": "Python 3 (ipykernel)",
   "language": "python",
   "name": "python3"
  },
  "language_info": {
   "codemirror_mode": {
    "name": "ipython",
    "version": 3
   },
   "file_extension": ".py",
   "mimetype": "text/x-python",
   "name": "python",
   "nbconvert_exporter": "python",
   "pygments_lexer": "ipython3",
   "version": "3.9.7"
  }
 },
 "nbformat": 4,
 "nbformat_minor": 5
}
