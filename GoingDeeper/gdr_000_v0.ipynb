{
 "cells": [
  {
   "cell_type": "markdown",
   "id": "24394759",
   "metadata": {},
   "source": [
    "### 코더의 소회 : \n",
    "날씨 : 오늘의 학습 < >했습니다. [☀️⛅☁️🌧️🌩️⛈️]\n",
    "- 배운점 : \n",
    "- 아쉬운점 :  \n",
    "- 느낀점 :\n",
    "\n",
    "(참고 : https://github.com/)"
   ]
  },
  {
   "cell_type": "markdown",
   "id": "5421a3b1",
   "metadata": {},
   "source": [
    "### 전체 코드 실행 플로우 (목차):\n",
    "\n",
    "**STEP 1. EDA(탐색적 데이터 분석)**  \n",
    "\n",
    "**STEP 2. 데이터 전처리 및 준비**  \n",
    "\n",
    "**STEP 3. 머신러닝 모델1~4**  \n",
    "\t- 각 모델별 모델학습, 테스트 정밀도, 재현율, F1점수 계산  \n",
    "\n",
    "**STEP 4. 머신러닝 모델간 성능비교 및 시각화**  \n",
    "\n",
    "**STEP 5. 딥러닝 모델**  \n",
    "\t- 토큰화 및 시퀀스변환, 토크나이저 설정 및 학습, 시퀀스 변환 및 패딩  \n",
    "    - 딥러닝 모델 정의, 모델 학습, 테스트 데이터 성능 평가  \n",
    "\n",
    "**STEP 6. 머신러닝 모델 VS. 딥러닝 모델**  \n"
   ]
  },
  {
   "cell_type": "markdown",
   "id": "8986a1b5",
   "metadata": {},
   "source": [
    "# STEP 1. EDA(탐색적 데이터 분석)\n",
    "---"
   ]
  },
  {
   "cell_type": "code",
   "execution_count": null,
   "id": "8687cd0c",
   "metadata": {},
   "outputs": [],
   "source": []
  },
  {
   "cell_type": "code",
   "execution_count": null,
   "id": "93c563c3",
   "metadata": {},
   "outputs": [],
   "source": []
  },
  {
   "cell_type": "markdown",
   "id": "c4ee58cc",
   "metadata": {},
   "source": [
    "👁️👁️Data Review : "
   ]
  },
  {
   "cell_type": "markdown",
   "id": "46730618",
   "metadata": {},
   "source": [
    "# STEP 2. 데이터 전처리 및 준비\n",
    "---"
   ]
  },
  {
   "cell_type": "code",
   "execution_count": null,
   "id": "ad461c5b",
   "metadata": {},
   "outputs": [],
   "source": []
  },
  {
   "cell_type": "code",
   "execution_count": null,
   "id": "dce7de40",
   "metadata": {},
   "outputs": [],
   "source": []
  },
  {
   "cell_type": "markdown",
   "id": "6c469bd8",
   "metadata": {},
   "source": [
    "👁️👁️Data Review : "
   ]
  },
  {
   "cell_type": "markdown",
   "id": "012802ac",
   "metadata": {},
   "source": [
    "# STEP 3. 머신러닝 모델1~4\n",
    "**(각 모델별 모델학습, 테스트 정밀도, 재현율, F1점수 계산)**  \n",
    "\n",
    "--- \n"
   ]
  },
  {
   "cell_type": "code",
   "execution_count": null,
   "id": "3d2022b8",
   "metadata": {},
   "outputs": [],
   "source": []
  },
  {
   "cell_type": "code",
   "execution_count": null,
   "id": "f8b1799d",
   "metadata": {},
   "outputs": [],
   "source": []
  },
  {
   "cell_type": "code",
   "execution_count": null,
   "id": "34eaba21",
   "metadata": {},
   "outputs": [],
   "source": []
  },
  {
   "cell_type": "markdown",
   "id": "898e6b90",
   "metadata": {},
   "source": [
    "👁️👁️코멘트 : "
   ]
  },
  {
   "cell_type": "markdown",
   "id": "99953100",
   "metadata": {},
   "source": [
    "# STEP 4. 머신러닝 모델간 성능비교 및 시각화\n",
    "---"
   ]
  },
  {
   "cell_type": "code",
   "execution_count": null,
   "id": "ec26b083",
   "metadata": {},
   "outputs": [],
   "source": []
  },
  {
   "cell_type": "code",
   "execution_count": null,
   "id": "2a53aeec",
   "metadata": {},
   "outputs": [],
   "source": []
  },
  {
   "cell_type": "code",
   "execution_count": null,
   "id": "4d70cdac",
   "metadata": {},
   "outputs": [],
   "source": []
  },
  {
   "cell_type": "markdown",
   "id": "a78ad972",
   "metadata": {},
   "source": [
    "👁️👁️코멘트 : "
   ]
  },
  {
   "cell_type": "markdown",
   "id": "ba70d186",
   "metadata": {},
   "source": [
    "# STEP 5. 딥러닝 모델\n",
    "**(토큰화 및 시퀀스변환, 토크나이저 설정 및 학습, 시퀀스 변환 및 패딩, 딥러닝 모델 정의, 모델 학습, 테스트 데이터 성능 평가)**\n",
    "\n",
    "---"
   ]
  },
  {
   "cell_type": "code",
   "execution_count": null,
   "id": "d7f77065",
   "metadata": {},
   "outputs": [],
   "source": []
  },
  {
   "cell_type": "code",
   "execution_count": null,
   "id": "e3614a1f",
   "metadata": {},
   "outputs": [],
   "source": []
  },
  {
   "cell_type": "code",
   "execution_count": null,
   "id": "a3820063",
   "metadata": {},
   "outputs": [],
   "source": []
  },
  {
   "cell_type": "markdown",
   "id": "ed80587f",
   "metadata": {},
   "source": [
    "👁️👁️코멘트 : "
   ]
  },
  {
   "cell_type": "markdown",
   "id": "36191778",
   "metadata": {},
   "source": [
    "# STEP 6. 머신러닝 모델 VS. 딥러닝 모델\n",
    "---"
   ]
  },
  {
   "cell_type": "code",
   "execution_count": null,
   "id": "9146957a",
   "metadata": {},
   "outputs": [],
   "source": []
  },
  {
   "cell_type": "code",
   "execution_count": null,
   "id": "7595dc61",
   "metadata": {},
   "outputs": [],
   "source": []
  },
  {
   "cell_type": "code",
   "execution_count": null,
   "id": "1fe636d4",
   "metadata": {},
   "outputs": [],
   "source": []
  },
  {
   "cell_type": "markdown",
   "id": "9f3de1e6",
   "metadata": {},
   "source": [
    "👁️👁️코멘트 : "
   ]
  }
 ],
 "metadata": {
  "kernelspec": {
   "display_name": "Python 3 (ipykernel)",
   "language": "python",
   "name": "python3"
  },
  "language_info": {
   "codemirror_mode": {
    "name": "ipython",
    "version": 3
   },
   "file_extension": ".py",
   "mimetype": "text/x-python",
   "name": "python",
   "nbconvert_exporter": "python",
   "pygments_lexer": "ipython3",
   "version": "3.9.7"
  }
 },
 "nbformat": 4,
 "nbformat_minor": 5
}
