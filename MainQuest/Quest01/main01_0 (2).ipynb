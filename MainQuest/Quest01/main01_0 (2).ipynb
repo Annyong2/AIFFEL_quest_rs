{
 "cells": [
  {
   "cell_type": "markdown",
   "id": "ecebbc35",
   "metadata": {},
   "source": [
    "### 목차\n",
    "1. 라이브러리 불러오기 및 데이터 확인하기  \n",
    "    1.1  라이브러리 불러오기  \n",
    "    1.2. 데이터 확인하기  \n",
    "2. 데이터 전처리  \n",
    "    2.1. 불필요한 특수문자 등 제거  \n",
    "    2.2. 토크나이징 : '질문'+'$'+'답변'  \n",
    "3. 모델 구성하기  \n",
    "    3.1. 디코더 레이어 정의 : GPT-1 디코더 레이어(Masked Multi Self-attention 외)\n",
    "    3.2. 디코더 레이어 정의 : GPT-1 디코더 전체 구성\n",
    "    3.3. GPT1모델 구성하기 (입출력 정의)  \n",
    "4. 하이퍼파라미터 & 모델정의  \n",
    "5. 모델학습  \n",
    "    5.1 손실 및 정확도 함수  \n",
    "    5.2 학습 과정에서 손실 및 정확도 모니터링  \n"
   ]
  },
  {
   "cell_type": "markdown",
   "id": "5fafff84",
   "metadata": {},
   "source": [
    "---"
   ]
  },
  {
   "cell_type": "markdown",
   "id": "8db5f674",
   "metadata": {},
   "source": [
    "### 1.1 라이브러리 불러오기"
   ]
  },
  {
   "cell_type": "code",
   "execution_count": 1,
   "id": "2a87a7ea",
   "metadata": {},
   "outputs": [],
   "source": [
    "# 1.1 텐서플로우 및 케라스\n",
    "import tensorflow as tf\n",
    "import tensorflow_datasets as tfds\n",
    "from tensorflow.keras.callbacks import EarlyStopping\n",
    "from tensorflow.keras.preprocessing.sequence import pad_sequences\n",
    "\n",
    "# 1.2 데이터 전처리 및 시각화 도구 \n",
    "import pandas as pd\n",
    "import numpy as np\n",
    "import matplotlib.pyplot as plt\n",
    "from sklearn.model_selection import train_test_split\n",
    "import os\n",
    "import re\n",
    "import warnings\n",
    "warnings.filterwarnings(\"ignore\", category=UserWarning, module='bs4')"
   ]
  },
  {
   "cell_type": "markdown",
   "id": "95c1d1b7",
   "metadata": {},
   "source": [
    "### 1.2. 데이터 확인하기"
   ]
  },
  {
   "cell_type": "markdown",
   "id": "e3488f2c",
   "metadata": {},
   "source": [
    "데이터를 불러오고 확인하는 과정을 진행하였다. \n"
   ]
  },
  {
   "cell_type": "code",
   "execution_count": 2,
   "id": "9fa91467",
   "metadata": {},
   "outputs": [],
   "source": [
    "data = pd.read_csv(os.getenv(\"HOME\")+\"/aiffel/AIFFEL_quest_rs/AIFFEL_quest_rs/Exploration/Ex07/ChatbotData.csv\")\n",
    "data_org = data.copy()"
   ]
  },
  {
   "cell_type": "code",
   "execution_count": 3,
   "id": "354c5a83",
   "metadata": {},
   "outputs": [
    {
     "name": "stdout",
     "output_type": "stream",
     "text": [
      "전체 샘플수 : 11823\n"
     ]
    },
    {
     "data": {
      "text/html": [
       "<div>\n",
       "<style scoped>\n",
       "    .dataframe tbody tr th:only-of-type {\n",
       "        vertical-align: middle;\n",
       "    }\n",
       "\n",
       "    .dataframe tbody tr th {\n",
       "        vertical-align: top;\n",
       "    }\n",
       "\n",
       "    .dataframe thead th {\n",
       "        text-align: right;\n",
       "    }\n",
       "</style>\n",
       "<table border=\"1\" class=\"dataframe\">\n",
       "  <thead>\n",
       "    <tr style=\"text-align: right;\">\n",
       "      <th></th>\n",
       "      <th>Q</th>\n",
       "      <th>A</th>\n",
       "      <th>label</th>\n",
       "    </tr>\n",
       "  </thead>\n",
       "  <tbody>\n",
       "    <tr>\n",
       "      <th>1289</th>\n",
       "      <td>돈 모으는 재미</td>\n",
       "      <td>부자되실 거예요!</td>\n",
       "      <td>0</td>\n",
       "    </tr>\n",
       "    <tr>\n",
       "      <th>857</th>\n",
       "      <td>내가 이상한가?</td>\n",
       "      <td>지극히 평범하면서 지극히 특별하죠.</td>\n",
       "      <td>0</td>\n",
       "    </tr>\n",
       "    <tr>\n",
       "      <th>8720</th>\n",
       "      <td>헤어짐과 중간에 다시 만남과 갈등.</td>\n",
       "      <td>매정하게 돌아서는 것은 쉽지 않은 일이죠.</td>\n",
       "      <td>1</td>\n",
       "    </tr>\n",
       "    <tr>\n",
       "      <th>844</th>\n",
       "      <td>내가 부족하니까 이렇게 밖에 안된거겠지.</td>\n",
       "      <td>인생은 채워나가는거죠.</td>\n",
       "      <td>0</td>\n",
       "    </tr>\n",
       "    <tr>\n",
       "      <th>10585</th>\n",
       "      <td>여자친구가 다른남자들에게 인기가 많은게 고민이야.</td>\n",
       "      <td>인기 많은 여자친구가 있어 더 좋을 거 같은데요.</td>\n",
       "      <td>2</td>\n",
       "    </tr>\n",
       "    <tr>\n",
       "      <th>8962</th>\n",
       "      <td>결혼적령기가 지나면 결혼하기 힘들겠지?</td>\n",
       "      <td>내가 결혼할 때가 결혼적령기예요.</td>\n",
       "      <td>2</td>\n",
       "    </tr>\n",
       "    <tr>\n",
       "      <th>4277</th>\n",
       "      <td>지갑 잃어버림</td>\n",
       "      <td>잘 찾아보세요.</td>\n",
       "      <td>0</td>\n",
       "    </tr>\n",
       "    <tr>\n",
       "      <th>5478</th>\n",
       "      <td>걸지 못한 전화</td>\n",
       "      <td>걸지 말아요.</td>\n",
       "      <td>1</td>\n",
       "    </tr>\n",
       "    <tr>\n",
       "      <th>3369</th>\n",
       "      <td>오랜만에 서점에 갔었어</td>\n",
       "      <td>마음의 양식을 채우길 바랄세요.</td>\n",
       "      <td>0</td>\n",
       "    </tr>\n",
       "    <tr>\n",
       "      <th>1390</th>\n",
       "      <td>딸기 먹어야지</td>\n",
       "      <td>맛있게 드세요.</td>\n",
       "      <td>0</td>\n",
       "    </tr>\n",
       "  </tbody>\n",
       "</table>\n",
       "</div>"
      ],
      "text/plain": [
       "                                 Q                            A  label\n",
       "1289                      돈 모으는 재미                    부자되실 거예요!      0\n",
       "857                       내가 이상한가?          지극히 평범하면서 지극히 특별하죠.      0\n",
       "8720           헤어짐과 중간에 다시 만남과 갈등.      매정하게 돌아서는 것은 쉽지 않은 일이죠.      1\n",
       "844         내가 부족하니까 이렇게 밖에 안된거겠지.                 인생은 채워나가는거죠.      0\n",
       "10585  여자친구가 다른남자들에게 인기가 많은게 고민이야.  인기 많은 여자친구가 있어 더 좋을 거 같은데요.      2\n",
       "8962         결혼적령기가 지나면 결혼하기 힘들겠지?           내가 결혼할 때가 결혼적령기예요.      2\n",
       "4277                       지갑 잃어버림                     잘 찾아보세요.      0\n",
       "5478                      걸지 못한 전화                      걸지 말아요.      1\n",
       "3369                  오랜만에 서점에 갔었어            마음의 양식을 채우길 바랄세요.      0\n",
       "1390                       딸기 먹어야지                     맛있게 드세요.      0"
      ]
     },
     "execution_count": 3,
     "metadata": {},
     "output_type": "execute_result"
    }
   ],
   "source": [
    "print('전체 샘플수 :', (len(data_org)))\n",
    "data.sample(10) "
   ]
  },
  {
   "cell_type": "markdown",
   "id": "17308163",
   "metadata": {},
   "source": [
    "**결측치, 중복값 확인**"
   ]
  },
  {
   "cell_type": "code",
   "execution_count": 4,
   "id": "14b8fd56",
   "metadata": {
    "scrolled": true
   },
   "outputs": [
    {
     "name": "stdout",
     "output_type": "stream",
     "text": [
      "컬럼별 결측치 개수 :  \n",
      " Q        0\n",
      "A        0\n",
      "label    0\n",
      "dtype: int64 \n",
      "\n",
      "중복값 개수 :  0\n"
     ]
    }
   ],
   "source": [
    "# 결측치 확인\n",
    "print('컬럼별 결측치 개수 : ','\\n',data.isnull().sum(),'\\n')\n",
    "\n",
    "# 중복값 확인\n",
    "print('중복값 개수 : ',data.duplicated().sum())"
   ]
  },
  {
   "cell_type": "markdown",
   "id": "1cabeb66",
   "metadata": {},
   "source": [
    "- **결측치는 없었고 중복데이터 역시 없었다.**\n"
   ]
  },
  {
   "cell_type": "markdown",
   "id": "a1ba52c9",
   "metadata": {},
   "source": [
    "**MAX LENGTH설정을 위한 컬럼별 최대, 최소 길이 확인**"
   ]
  },
  {
   "cell_type": "code",
   "execution_count": 5,
   "id": "5b3dcc0c",
   "metadata": {},
   "outputs": [
    {
     "name": "stdout",
     "output_type": "stream",
     "text": [
      "질문의 최소 길이 : 1\n",
      "질문의 최대 길이 : 15\n",
      "질문의 평균 길이 : 3.587414361837097\n",
      "답변의 최소 길이 : 1\n",
      "답변의 최대 길이 : 21\n",
      "답변의 평균 길이 : 3.6936479742874058\n"
     ]
    }
   ],
   "source": [
    "Q_len = [len(s.split()) for s in data['Q']]\n",
    "A_len = [len(s.split()) for s in data['A']]\n",
    "\n",
    "print('질문의 최소 길이 : {}'.format(np.min(Q_len)))\n",
    "print('질문의 최대 길이 : {}'.format(np.max(Q_len)))\n",
    "print('질문의 평균 길이 : {}'.format(np.mean(Q_len)))\n",
    "print('답변의 최소 길이 : {}'.format(np.min(A_len)))\n",
    "print('답변의 최대 길이 : {}'.format(np.max(A_len)))\n",
    "print('답변의 평균 길이 : {}'.format(np.mean(A_len)))"
   ]
  },
  {
   "cell_type": "code",
   "execution_count": 6,
   "id": "7e87675a",
   "metadata": {},
   "outputs": [
    {
     "data": {
      "image/png": "[encoded data removed]",
      "text/plain": [
       "<Figure size 432x288 with 1 Axes>"
      ]
     },
     "metadata": {
      "needs_background": "light"
     },
     "output_type": "display_data"
    },
    {
     "data": {
      "image/png": "[encoded data removed]",
      "text/plain": [
       "<Figure size 432x288 with 1 Axes>"
      ]
     },
     "metadata": {
      "needs_background": "light"
     },
     "output_type": "display_data"
    }
   ],
   "source": [
    "plt.title('Q')\n",
    "plt.hist(Q_len, bins = 40)\n",
    "plt.xlabel('length of samples')\n",
    "plt.ylabel('number of samples')\n",
    "plt.show()\n",
    "\n",
    "plt.title('A')\n",
    "plt.hist(A_len, bins = 40)\n",
    "plt.xlabel('length of samples')\n",
    "plt.ylabel('number of samples')\n",
    "plt.show()"
   ]
  },
  {
   "cell_type": "markdown",
   "id": "5ac4c2ba",
   "metadata": {},
   "source": [
    "- **MAX LENGTH의 초기값은, 두 컬럼 모두 '10'로 정함.** "
   ]
  },
  {
   "cell_type": "markdown",
   "id": "e50458c3",
   "metadata": {},
   "source": [
    "**신조어(?)확인**"
   ]
  },
  {
   "cell_type": "code",
   "execution_count": 7,
   "id": "308d7215",
   "metadata": {},
   "outputs": [
    {
     "name": "stdout",
     "output_type": "stream",
     "text": [
      "컬럼Q에 \"ㅠ\"가 포함된 셀이 있나요? True\n",
      "컬럼Q에 \"ㅎ\"가 포함된 셀이 있나요? True\n",
      "컬럼Q에 \"ㅋ\"가 포함된 셀이 있나요? True\n",
      "\n",
      "컬럼A에 \"ㅠ\"가 포함된 셀이 있나요? True\n",
      "컬럼A에 \"ㅎ\"가 포함된 셀이 있나요? True\n",
      "컬럼A에 \"ㅋ\"가 포함된 셀이 있나요? True\n"
     ]
    }
   ],
   "source": [
    "# \"Q\" 컬럼에 \"ㅠ\", \"ㅎ\", \"ㅋ\"가 포함된 셀들이 있는지 유무 확인\n",
    "contains_Qa = data[\"Q\"].str.contains(\"ㅠ\").any()\n",
    "contains_Qb = data[\"Q\"].str.contains(\"ㅎ\").any()\n",
    "contains_Qc = data[\"Q\"].str.contains(\"ㅋ\").any()\n",
    "# \"A\" 컬럼에 \"ㅠ\", \"ㅎ\", \"ㅋ\"가 포함된 셀들이 있는지 유무 확인\n",
    "contains_Aa = data[\"Q\"].str.contains(\"ㅠ\").any()\n",
    "contains_Ab = data[\"Q\"].str.contains(\"ㅎ\").any()\n",
    "contains_Ac = data[\"Q\"].str.contains(\"ㅋ\").any()\n",
    "\n",
    "print(f'컬럼Q에 \"ㅠ\"가 포함된 셀이 있나요? {contains_Qa}')\n",
    "print(f'컬럼Q에 \"ㅎ\"가 포함된 셀이 있나요? {contains_Qb}')\n",
    "print(f'컬럼Q에 \"ㅋ\"가 포함된 셀이 있나요? {contains_Qc}')\n",
    "print()                                 \n",
    "print(f'컬럼A에 \"ㅠ\"가 포함된 셀이 있나요? {contains_Aa}')\n",
    "print(f'컬럼A에 \"ㅎ\"가 포함된 셀이 있나요? {contains_Ab}')\n",
    "print(f'컬럼A에 \"ㅋ\"가 포함된 셀이 있나요? {contains_Ac}')"
   ]
  },
  {
   "cell_type": "markdown",
   "id": "a8c92933",
   "metadata": {},
   "source": [
    "- **두 컬럼에 'ㅋ', 'ㅎ', 'ㅠ' 등 문자열 있는 지 확인하였다**\n",
    "=> 있는 것 확인하여서 아래 전처리 진행 할 것."
   ]
  },
  {
   "cell_type": "markdown",
   "id": "6913fb7e",
   "metadata": {},
   "source": [
    "---"
   ]
  },
  {
   "cell_type": "markdown",
   "id": "efb9d48a",
   "metadata": {},
   "source": [
    "### 2.1. 데이터 전처리 :불필요한 특수문자 등 제거"
   ]
  },
  {
   "cell_type": "code",
   "execution_count": 8,
   "id": "207e2ffe",
   "metadata": {},
   "outputs": [],
   "source": [
    "# 전처리 함수\n",
    "def preprocess_sentence(sentence):\n",
    "  # 입력받은 sentence를 소문자로 변경하고 양쪽 공백을 제거\n",
    "  sentence = sentence.lower().strip()  \n",
    "\n",
    "  # 단어와 구두점(punctuation) 사이의 거리를 만듭니다.\n",
    "  # 예를 들어서 \"I am a student.\" => \"I am a student .\"와 같이\n",
    "  # student와 온점 사이에 거리를 만듭니다.\n",
    "  sentence = re.sub(r\"([?.!,])\", r\" \\1 \", sentence)\n",
    "  sentence = re.sub(r'[\" \"]+', \" \", sentence)\n",
    "\n",
    "  # (가나다, a-z, A-Z, \".\", \"?\", \"!\", \",\")를 제외한 모든 문자를 공백인 ' '로 대체합니다.\n",
    "  sentence = re.sub(r\"[^A-Za-z0-9가-힣]+\", \" \", sentence) \n",
    "  sentence = sentence.strip()\n",
    "\n",
    "  # 다중공백 단일화  \n",
    "  sentence = re.sub(r'[\" \"]+', \" \", sentence)  \n",
    "    \n",
    "  # (ㅋ, ㅎ , ㅠ)정규화\n",
    "  sentence = re.sub(r\"ㅋ{2,}\", \"ㅋㅋ\", sentence) # 연속된 'ㅋ'를 통일\n",
    "  sentence = re.sub(r\"ㅎ{2,}\", \"ㅎㅎ\", sentence) # 연속된 'ㅎ'를 통일\n",
    "  sentence = re.sub(r\"ㅠ{2,}\", \"ㅠㅠ\", sentence) # 연속된 'ㅠ'를 통일 \n",
    "    \n",
    "  return sentence"
   ]
  },
  {
   "cell_type": "markdown",
   "id": "4ab87450",
   "metadata": {},
   "source": [
    "### 2.2 데이터전처리 : 토크나이징 : '질문'+ '$'+'답변'"
   ]
  },
  {
   "cell_type": "code",
   "execution_count": 9,
   "id": "acd1d3e0",
   "metadata": {},
   "outputs": [],
   "source": [
    "# 질문 + 답변 구조를 반영한 데이터 전처리\n",
    "def preprocess_data_for_question_answering(data, tokenizer, max_length_q, max_length_a, start_token, end_token):\n",
    "    processed_inputs = []\n",
    "    processed_outputs = []\n",
    "    \n",
    "    for idx, row in data.iterrows():\n",
    "        question = preprocess_sentence(row['Q'])  # 질문 (question)\n",
    "        answer = preprocess_sentence(row['A'])  # 답변 (answer)\n",
    "        \n",
    "        # 질문과 답변 각각 토큰화\n",
    "        tokenized_question = tokenizer.encode(question)\n",
    "        tokenized_answer = tokenizer.encode(answer)\n",
    "        \n",
    "        # 질문에 START_TOKEN 추가\n",
    "        input_sequence = [start_token] + tokenized_question + [end_token]\n",
    "        # 답변에 START_TOKEN 추가 (모델이 처음 입력받을 시퀀스)\n",
    "        output_sequence = [start_token] + tokenized_answer + [end_token]\n",
    "        \n",
    "        processed_inputs.append(input_sequence)\n",
    "        processed_outputs.append(output_sequence)\n",
    "    \n",
    "    # 질문과 답변 각각 패딩 추가\n",
    "    padded_inputs = pad_sequences(processed_inputs, maxlen=max_length_q + 2, padding='post')\n",
    "    padded_outputs = pad_sequences(processed_outputs, maxlen=max_length_a + 2, padding='post')\n",
    "    \n",
    "    return padded_inputs, padded_outputs"
   ]
  },
  {
   "cell_type": "code",
   "execution_count": 10,
   "id": "f46ec3a6",
   "metadata": {},
   "outputs": [],
   "source": [
    "# 질문 + 답변 구조를 반영한 데이터 전처리 및 데이터 분리\n",
    "def preprocess_and_split_data(data, tokenizer, max_length_q, max_length_a, start_token, end_token, test_size=0.2, random_state=42):\n",
    "    inputs, outputs = preprocess_data_for_question_answering(data, tokenizer, max_length_q, max_length_a, start_token, end_token)\n",
    "    \n",
    "    # Train/Test 데이터 분리\n",
    "    train_inputs, test_inputs, train_outputs, test_outputs = train_test_split(\n",
    "        inputs, outputs, test_size=test_size, random_state=random_state\n",
    "    )\n",
    "    \n",
    "    return train_inputs, test_inputs, train_outputs, test_outputs\n"
   ]
  },
  {
   "cell_type": "code",
   "execution_count": 11,
   "id": "4225a0d9",
   "metadata": {},
   "outputs": [],
   "source": [
    "def create_tf_dataset(inputs, outputs, batch_size):\n",
    "    # tf.data.Dataset을 사용해 데이터셋 생성\n",
    "    dataset = tf.data.Dataset.from_tensor_slices(({'inputs': inputs}, {'outputs': outputs[:, 1:]}))\n",
    "    dataset = dataset.batch(batch_size).prefetch(tf.data.experimental.AUTOTUNE)\n",
    "    return dataset"
   ]
  },
  {
   "cell_type": "code",
   "execution_count": 12,
   "id": "c966c8cd",
   "metadata": {},
   "outputs": [],
   "source": [
    "# 토크나이저를 사용하여 데이터 전처리 및 데이터셋 생성\n",
    "tokenizer = tfds.deprecated.text.SubwordTextEncoder.build_from_corpus(\n",
    "    (preprocess_sentence(row['Q']) + preprocess_sentence(row['A']) for idx, row in data.iterrows()), \n",
    "    target_vocab_size=2**13)\n",
    "\n",
    "START_TOKEN, END_TOKEN = tokenizer.vocab_size, tokenizer.vocab_size + 1\n",
    "VOCAB_SIZE = tokenizer.vocab_size + 2\n",
    "MAX_LENGTH_Q = 10  # 질문에 대한 최대 길이\n",
    "MAX_LENGTH_A = 10  # 답변에 대한 최대 길이\n",
    "BATCH_SIZE = 64"
   ]
  },
  {
   "cell_type": "code",
   "execution_count": 13,
   "id": "46b5a6bc",
   "metadata": {},
   "outputs": [],
   "source": [
    "# Train/Test 데이터 분리 및 전처리된 데이터셋 생성\n",
    "train_inputs, test_inputs, train_outputs, test_outputs = preprocess_and_split_data(data, tokenizer, MAX_LENGTH_Q, MAX_LENGTH_A, START_TOKEN, END_TOKEN)\n",
    "\n",
    "# Train/Test TensorFlow 데이터셋 생성\n",
    "train_dataset = create_tf_dataset(train_inputs, train_outputs, BATCH_SIZE)\n",
    "test_dataset = create_tf_dataset(test_inputs, test_outputs, BATCH_SIZE)"
   ]
  },
  {
   "cell_type": "code",
   "execution_count": 15,
   "id": "61aee567",
   "metadata": {},
   "outputs": [
    {
     "name": "stdout",
     "output_type": "stream",
     "text": [
      "[8504  430 7602   56 8505    0    0    0    0    0    0    0]\n",
      "[2976  595 4823  835 8505    0    0    0    0    0    0]\n"
     ]
    }
   ],
   "source": [
    "# 출력 확인 (첫 번째 데이터 확인)\n",
    "for inputs, outputs in train_dataset.take(1):\n",
    "    print(inputs['inputs'][0].numpy())\n",
    "    # print(inputs['dec_inputs'][0].numpy())\n",
    "    print(outputs['outputs'][0].numpy())"
   ]
  },
  {
   "cell_type": "markdown",
   "id": "c4a6d780",
   "metadata": {},
   "source": [
    "---"
   ]
  },
  {
   "cell_type": "markdown",
   "id": "5b2f6238",
   "metadata": {},
   "source": [
    "## 3. 모델 구성하기"
   ]
  },
  {
   "cell_type": "markdown",
   "id": "57adfce9",
   "metadata": {},
   "source": [
    "---"
   ]
  },
  {
   "cell_type": "code",
   "execution_count": 16,
   "id": "8f5bd1ed",
   "metadata": {},
   "outputs": [
    {
     "name": "stdout",
     "output_type": "stream",
     "text": [
      "PositionalEncoding\n"
     ]
    }
   ],
   "source": [
    "class PositionalEncoding(tf.keras.layers.Layer):\n",
    "\n",
    "    def __init__(self, position, d_model):\n",
    "        super(PositionalEncoding, self).__init__()\n",
    "        self.pos_encoding = self.positional_encoding(position, d_model)\n",
    "\n",
    "    def get_angles(self, position, i, d_model):\n",
    "        angles = 1 / tf.pow(10000, (2 * (i // 2)) / tf.cast(d_model, tf.float32))\n",
    "        return position * angles\n",
    "\n",
    "    def positional_encoding(self, position, d_model):\n",
    "        angle_rads = self.get_angles(\n",
    "            position=tf.range(position, dtype=tf.float32)[:, tf.newaxis],\n",
    "            i=tf.range(d_model, dtype=tf.float32)[tf.newaxis, :],\n",
    "            d_model=d_model)\n",
    "\n",
    "        sines = tf.math.sin(angle_rads[:, 0::2])\n",
    "        cosines = tf.math.cos(angle_rads[:, 1::2])\n",
    "\n",
    "        # tf.stack을 self 없이 사용\n",
    "        pos_encoding = tf.stack([sines, cosines], axis=-1)\n",
    "        pos_encoding = tf.reshape(pos_encoding, [position, d_model])\n",
    "\n",
    "        # pos_encoding을 batch 차원 추가\n",
    "        pos_encoding = pos_encoding[tf.newaxis, ...]\n",
    "\n",
    "        return tf.cast(pos_encoding, tf.float32)\n",
    "\n",
    "    def call(self, inputs):\n",
    "        # 입력에 Positional Encoding을 더함\n",
    "        return inputs + self.pos_encoding[:, :tf.shape(inputs)[1], :]\n",
    "\n",
    "print(\"PositionalEncoding\")"
   ]
  },
  {
   "cell_type": "code",
   "execution_count": 17,
   "id": "839e940d",
   "metadata": {},
   "outputs": [
    {
     "name": "stdout",
     "output_type": "stream",
     "text": [
      "scaled_dot_product_attention\n"
     ]
    }
   ],
   "source": [
    "# 스케일드 닷 프로덕트 어텐션 함수\n",
    "def scaled_dot_product_attention(query, key, value, mask):\n",
    "  # 어텐션 가중치는 Q와 K의 닷 프로덕트\n",
    "  # 쿼리 Q, 키 K, 값 V에 대한 Scaled Dot Product Attention 계산\n",
    "  matmul_qk = tf.matmul(query, key, transpose_b=True)\n",
    "\n",
    "  # 가중치를 정규화\n",
    "  # (디멘션 크기의 제곱근으로 나누어 스케일링)\n",
    "  depth = tf.cast(tf.shape(key)[-1], tf.float32)\n",
    "  logits = matmul_qk / tf.math.sqrt(depth)\n",
    "\n",
    "  # 패딩에 마스크 추가 \n",
    "  # (마스크 적용시,마스크된 위치는 매우 작은 음수로 설정)\n",
    "  if mask is not None:\n",
    "    logits += (mask * -1e9)\n",
    "\n",
    "  # softmax적용\n",
    "  # (소프트맥스를 사용해 유사도 값을 확률로 변환)\n",
    "  attention_weights = tf.nn.softmax(logits, axis=-1)\n",
    "\n",
    "  # 최종 어텐션은 가중치와 V의 닷 프로덕트\n",
    "  # (값 V에 가중치를 적용하여 최종 Attention 결과 계산)\n",
    "  output = tf.matmul(attention_weights, value)\n",
    "  return output\n",
    "\n",
    "print(\"scaled_dot_product_attention\")"
   ]
  },
  {
   "cell_type": "code",
   "execution_count": 18,
   "id": "df4eb068",
   "metadata": {},
   "outputs": [
    {
     "name": "stdout",
     "output_type": "stream",
     "text": [
      "Multi-Head Self-Attention\n"
     ]
    }
   ],
   "source": [
    "class MultiHeadAttention(tf.keras.layers.Layer):\n",
    "\n",
    "  def __init__(self, d_model, num_heads, name=\"multi_head_attention\"):\n",
    "    super(MultiHeadAttention, self).__init__(name=name)\n",
    "    self.num_heads = num_heads\n",
    "    self.d_model = d_model\n",
    "\n",
    "    assert d_model % self.num_heads == 0\n",
    "\n",
    "    self.depth = d_model // self.num_heads\n",
    "\n",
    "    self.query_dense = tf.keras.layers.Dense(units=d_model)\n",
    "    self.key_dense = tf.keras.layers.Dense(units=d_model)\n",
    "    self.value_dense = tf.keras.layers.Dense(units=d_model)\n",
    "\n",
    "    self.dense = tf.keras.layers.Dense(units=d_model)\n",
    "\n",
    "  def split_heads(self, inputs, batch_size):\n",
    "    inputs = tf.reshape(\n",
    "        inputs, shape=(batch_size, -1, self.num_heads, self.depth))\n",
    "    return tf.transpose(inputs, perm=[0, 2, 1, 3])\n",
    "\n",
    "  def call(self, inputs):\n",
    "    query, key, value, mask = inputs['query'], inputs['key'], inputs[\n",
    "        'value'], inputs['mask']\n",
    "    batch_size = tf.shape(query)[0]\n",
    "\n",
    "    # Q, K, V에 각각 Dense를 적용합니다\n",
    "    query = self.query_dense(query) # [[YOUR CODE]]\n",
    "    key = self.key_dense(key) # [[YOUR CODE]]\n",
    "    key = self.value_dense(key) # [[YOUR CODE]]\n",
    "\n",
    "    # 병렬 연산을 위한 머리를 여러 개 만듭니다\n",
    "    query =self.split_heads(query,batch_size) # [[YOUR CODE]]\n",
    "    key =self.split_heads(key,batch_size) # [[YOUR CODE]]\n",
    "    value =self.split_heads(value,batch_size) # [[YOUR CODE]]\n",
    "\n",
    "    # 스케일드 닷 프로덕트 어텐션 함수\n",
    "    scaled_attention = scaled_dot_product_attention(query, key, value, mask)\n",
    "\n",
    "    scaled_attention = tf.transpose(scaled_attention, perm=[0, 2, 1, 3])\n",
    "\n",
    "    # 어텐션 연산 후에 각 결과를 다시 연결(concatenate)합니다\n",
    "    concat_attention = tf.reshape(scaled_attention,\n",
    "                                  (batch_size, -1, self.d_model))\n",
    "\n",
    "    # 최종 결과에도 Dense를 한 번 더 적용합니다\n",
    "    outputs = self.dense(concat_attention)\n",
    "\n",
    "    return outputs\n",
    "print(\"Multi-Head Self-Attention\")"
   ]
  },
  {
   "cell_type": "code",
   "execution_count": 19,
   "id": "abec0d76",
   "metadata": {},
   "outputs": [
    {
     "name": "stdout",
     "output_type": "stream",
     "text": [
      "create_padding_mask\n"
     ]
    }
   ],
   "source": [
    "# 패딩 마스킹(Padding Masking)\n",
    "def create_padding_mask(x):\n",
    "  mask = tf.cast(tf.math.equal(x, 0), tf.float32)\n",
    "  # (batch_size, 1, 1, sequence length)\n",
    "  return mask[:, tf.newaxis, tf.newaxis, :]\n",
    "print(\"create_padding_mask\")"
   ]
  },
  {
   "cell_type": "code",
   "execution_count": 20,
   "id": "55f59e03",
   "metadata": {},
   "outputs": [
    {
     "name": "stdout",
     "output_type": "stream",
     "text": [
      "create_look_ahead_mask\n"
     ]
    }
   ],
   "source": [
    "# 룩 어헤드 마스킹(Look-ahead masking, 다음 단어 가리기)\n",
    "def create_look_ahead_mask(x):\n",
    "  seq_len = tf.shape(x)[1]\n",
    "  look_ahead_mask = 1 - tf.linalg.band_part(tf.ones((seq_len, seq_len)), -1, 0)\n",
    "  padding_mask = create_padding_mask(x)\n",
    "  return tf.maximum(look_ahead_mask, padding_mask)\n",
    "print(\"create_look_ahead_mask\")"
   ]
  },
  {
   "cell_type": "markdown",
   "id": "80e0ad49",
   "metadata": {},
   "source": [
    "### 3.1. 디코더 레이어 정의 : GPT-1 디코더 레이어\n",
    "**(Masked Multi Self-attention 외)**"
   ]
  },
  {
   "cell_type": "code",
   "execution_count": 21,
   "id": "cd71751c",
   "metadata": {},
   "outputs": [],
   "source": [
    "# GPT-1 디코더 레이어 정의\n",
    "def gpt1_decoder_layer(units, d_model, num_heads, dropout, name=\"gpt1_decoder_layer\"):\n",
    "    inputs = tf.keras.Input(shape=(None, d_model), name=\"inputs\")\n",
    "    look_ahead_mask = tf.keras.Input(shape=(1, None, None), name=\"look_ahead_mask\")\n",
    "\n",
    "    # Masked Multi-head Self-attention\n",
    "    attention1 = MultiHeadAttention(d_model, num_heads, name=\"attention_1\")(\n",
    "        inputs={'query': inputs, 'key': inputs, 'value': inputs, 'mask': look_ahead_mask}\n",
    "    )\n",
    "    # Layer norm after masked self-attention\n",
    "    attention1 = tf.keras.layers.LayerNormalization(epsilon=1e-6)(attention1 + inputs)\n",
    "\n",
    "    # Position-wise feed forward network\n",
    "    outputs = tf.keras.layers.Dense(units=units, activation='relu')(attention1)\n",
    "    outputs = tf.keras.layers.Dense(units=d_model)(outputs)\n",
    "    # Layer norm after feed forward\n",
    "    outputs = tf.keras.layers.LayerNormalization(epsilon=1e-6)(outputs + attention1)\n",
    "\n",
    "    return tf.keras.Model(inputs=[inputs, look_ahead_mask], outputs=outputs, name=name)\n"
   ]
  },
  {
   "cell_type": "markdown",
   "id": "2308a6e5",
   "metadata": {},
   "source": [
    "### 3.2. 디코더 레이어 정의 : GPT-1 디코더 전체 구성"
   ]
  },
  {
   "cell_type": "code",
   "execution_count": 22,
   "id": "3945ac50",
   "metadata": {},
   "outputs": [],
   "source": [
    "# GPT-1 디코더 전체 구성\n",
    "def gpt1_decoder(vocab_size, num_layers, units, d_model, num_heads, dropout, name='gpt1_decoder'):\n",
    "    inputs = tf.keras.Input(shape=(None,), name='inputs')\n",
    "    look_ahead_mask = tf.keras.Input(shape=(1, None, None), name='look_ahead_mask')\n",
    "\n",
    "    # 임베딩 및 포지셔널 인코딩\n",
    "    embeddings = tf.keras.layers.Embedding(vocab_size, d_model)(inputs)\n",
    "    embeddings *= tf.math.sqrt(tf.cast(d_model, tf.float32))\n",
    "    embeddings = PositionalEncoding(vocab_size, d_model)(embeddings)\n",
    "    outputs = tf.keras.layers.Dropout(rate=dropout)(embeddings)\n",
    "\n",
    "    # 디코더 레이어 반복\n",
    "    for i in range(num_layers):\n",
    "        outputs = gpt1_decoder_layer(units=units, d_model=d_model, num_heads=num_heads, dropout=dropout,\n",
    "                                     name=f'decoder_layer_{i}')([outputs, look_ahead_mask])\n",
    "\n",
    "    return tf.keras.Model(inputs=[inputs, look_ahead_mask], outputs=outputs, name=name)\n"
   ]
  },
  {
   "cell_type": "markdown",
   "id": "0a4459b4",
   "metadata": {},
   "source": [
    "### 3.3. GPT1모델 구성하기 (입출력 정의)  "
   ]
  },
  {
   "cell_type": "code",
   "execution_count": 23,
   "id": "14e84cdc",
   "metadata": {},
   "outputs": [],
   "source": [
    "# GPT-1 전체 모델 구성\n",
    "# GPT-1 모델의 입력 정의 (디코더 기반)\n",
    "def gpt1_model(vocab_size, num_layers, units, d_model, num_heads, dropout):\n",
    "    inputs = tf.keras.Input(shape=(None,), name=\"inputs\")  # 디코더 입력\n",
    "    look_ahead_mask = tf.keras.layers.Lambda(create_look_ahead_mask, output_shape=(1, None, None), name='look_ahead_mask')(inputs)\n",
    "\n",
    "    # 디코더 블록\n",
    "    dec_outputs = gpt1_decoder(vocab_size=vocab_size, num_layers=num_layers, units=units, d_model=d_model, num_heads=num_heads, dropout=dropout)(\n",
    "        inputs=[inputs, look_ahead_mask])\n",
    "    \n",
    "    outputs = tf.keras.layers.Dense(units=vocab_size, name=\"outputs\")(dec_outputs)\n",
    "\n",
    "    return tf.keras.Model(inputs=[inputs], outputs=outputs, name=\"gpt1_model\")\n",
    "\n"
   ]
  },
  {
   "cell_type": "markdown",
   "id": "76400a72",
   "metadata": {},
   "source": [
    "---"
   ]
  },
  {
   "cell_type": "markdown",
   "id": "4f343a8e",
   "metadata": {},
   "source": [
    "## 4. 하이퍼파라미터 & 모델정의"
   ]
  },
  {
   "cell_type": "markdown",
   "id": "5a4210af",
   "metadata": {},
   "source": [
    "---"
   ]
  },
  {
   "cell_type": "markdown",
   "id": "a32d7e33",
   "metadata": {},
   "source": [
    "**하이퍼파라미터**"
   ]
  },
  {
   "cell_type": "code",
   "execution_count": 24,
   "id": "ca897f65",
   "metadata": {},
   "outputs": [],
   "source": [
    "tf.keras.backend.clear_session()\n",
    "\n",
    "# 하이퍼파라미터 설정 #01\n",
    "num_layers = 6\n",
    "d_model = 256\n",
    "num_heads = 8\n",
    "units = 512\n",
    "dropout = 0.1"
   ]
  },
  {
   "cell_type": "markdown",
   "id": "a411f245",
   "metadata": {},
   "source": [
    "**모델정의**"
   ]
  },
  {
   "cell_type": "code",
   "execution_count": 34,
   "id": "c8d3eb34",
   "metadata": {},
   "outputs": [],
   "source": [
    "# GPT-1 모델 생성\n",
    "model = gpt1_model(VOCAB_SIZE, num_layers, units, d_model, num_heads, dropout)"
   ]
  },
  {
   "cell_type": "markdown",
   "id": "7a278b9e",
   "metadata": {},
   "source": [
    "---"
   ]
  },
  {
   "cell_type": "markdown",
   "id": "8680f3f1",
   "metadata": {},
   "source": [
    "## 5. 모델학습"
   ]
  },
  {
   "cell_type": "markdown",
   "id": "eff6d0f2",
   "metadata": {},
   "source": [
    "---"
   ]
  },
  {
   "cell_type": "markdown",
   "id": "74facfa0",
   "metadata": {},
   "source": [
    "### 5.1 손실 및 정확도 함수 정의"
   ]
  },
  {
   "cell_type": "markdown",
   "id": "c03bb07d",
   "metadata": {},
   "source": [
    "**손실함수**"
   ]
  },
  {
   "cell_type": "code",
   "execution_count": 26,
   "id": "6478fb6a",
   "metadata": {},
   "outputs": [],
   "source": [
    "# 손실 함수 (Custom Loss Function)\n",
    "def loss_function(y_true, y_pred):\n",
    "    y_true = tf.reshape(y_true, shape=(-1, MAX_LENGTH - 1))\n",
    "\n",
    "    loss = tf.keras.losses.SparseCategoricalCrossentropy(\n",
    "        from_logits=True, reduction='none')(y_true, y_pred)\n",
    "\n",
    "    mask = tf.cast(tf.not_equal(y_true, 0), tf.float32)\n",
    "    loss = tf.multiply(loss, mask)\n",
    "\n",
    "    return tf.reduce_mean(loss)\n",
    "\n",
    "# 커스텀 학습률 (Custom Learning Rate Schedule)\n",
    "class CustomSchedule(tf.keras.optimizers.schedules.LearningRateSchedule):\n",
    "    def __init__(self, d_model, warmup_steps=4000):\n",
    "        super(CustomSchedule, self).__init__()\n",
    "        self.d_model = tf.cast(d_model, tf.float32)\n",
    "        self.warmup_steps = warmup_steps\n",
    "\n",
    "    def __call__(self, step):\n",
    "        arg1 = tf.math.rsqrt(step)\n",
    "        arg2 = step * (self.warmup_steps ** -1.5)\n",
    "        return tf.math.rsqrt(self.d_model) * tf.math.minimum(arg1, arg2)\n"
   ]
  },
  {
   "cell_type": "code",
   "execution_count": 27,
   "id": "112f1647",
   "metadata": {},
   "outputs": [
    {
     "data": {
      "image/png": "[encoded data removed]",
      "text/plain": [
       "<Figure size 432x288 with 1 Axes>"
      ]
     },
     "metadata": {
      "needs_background": "light"
     },
     "output_type": "display_data"
    }
   ],
   "source": [
    "# 커스텀 학습률 시각화\n",
    "sample_learning_rate = CustomSchedule(d_model=128)\n",
    "plt.plot(sample_learning_rate(tf.range(200000, dtype=tf.float32)))\n",
    "plt.ylabel(\"Learning Rate\")\n",
    "plt.xlabel(\"Train Step\")\n",
    "plt.show()"
   ]
  },
  {
   "cell_type": "markdown",
   "id": "e20fead8",
   "metadata": {},
   "source": [
    "**정확도 함수**"
   ]
  },
  {
   "cell_type": "code",
   "execution_count": 28,
   "id": "efa76514",
   "metadata": {},
   "outputs": [],
   "source": [
    "# 학습률 설정 및 옵티마이저 정의\n",
    "learning_rate = CustomSchedule(d_model=128)\n",
    "optimizer = tf.keras.optimizers.Adam(learning_rate, beta_1=0.9, beta_2=0.98, epsilon=1e-9)\n",
    "\n",
    "# 정확도 메트릭 정의 (Accuracy)\n",
    "def accuracy(y_true, y_pred):\n",
    "    y_true = tf.reshape(y_true, shape=(-1, MAX_LENGTH - 1))\n",
    "    return [tf.keras.metrics.sparse_categorical_accuracy(y_true, y_pred)]"
   ]
  },
  {
   "cell_type": "markdown",
   "id": "ec11f019",
   "metadata": {},
   "source": [
    "---"
   ]
  },
  {
   "cell_type": "markdown",
   "id": "35656c7a",
   "metadata": {},
   "source": [
    "### 5.2 학습 과정에서 손실 및 정확도 모니터링"
   ]
  },
  {
   "cell_type": "markdown",
   "id": "1b42afb5",
   "metadata": {},
   "source": [
    "**모델 학습 설정하기 하기**"
   ]
  },
  {
   "cell_type": "code",
   "execution_count": 29,
   "id": "4a8e8225",
   "metadata": {},
   "outputs": [
    {
     "name": "stdout",
     "output_type": "stream",
     "text": [
      "Model: \"gpt1_model\"\n",
      "__________________________________________________________________________________________________\n",
      "Layer (type)                    Output Shape         Param #     Connected to                     \n",
      "==================================================================================================\n",
      "inputs (InputLayer)             [(None, None)]       0                                            \n",
      "__________________________________________________________________________________________________\n",
      "look_ahead_mask (Lambda)        (None, 1, None, None 0           inputs[0][0]                     \n",
      "__________________________________________________________________________________________________\n",
      "gpt1_decoder (Functional)       (None, None, 256)    5340160     inputs[0][0]                     \n",
      "                                                                 look_ahead_mask[0][0]            \n",
      "__________________________________________________________________________________________________\n",
      "outputs (Dense)                 (None, None, 8506)   2186042     gpt1_decoder[0][0]               \n",
      "==================================================================================================\n",
      "Total params: 7,526,202\n",
      "Trainable params: 7,526,202\n",
      "Non-trainable params: 0\n",
      "__________________________________________________________________________________________________\n"
     ]
    }
   ],
   "source": [
    "model.compile(optimizer=optimizer, loss=loss_function, metrics=accuracy)\n",
    "model.summary()"
   ]
  },
  {
   "cell_type": "markdown",
   "id": "e89a76be",
   "metadata": {},
   "source": [
    "**모델 실제 학습하기**"
   ]
  },
  {
   "cell_type": "code",
   "execution_count": 31,
   "id": "1b61b740",
   "metadata": {},
   "outputs": [],
   "source": [
    "# 교사 강요 적용한 데이터셋 생성\n",
    "def create_tf_dataset(inputs, outputs, batch_size, max_length):\n",
    "    # 입력과 출력의 길이를 맞추기 위해 max_length 적용\n",
    "    inputs = tf.keras.preprocessing.sequence.pad_sequences(inputs, maxlen=max_length, padding='post')\n",
    "    outputs = tf.keras.preprocessing.sequence.pad_sequences(outputs, maxlen=max_length, padding='post')\n",
    "\n",
    "    dataset = tf.data.Dataset.from_tensor_slices(({'inputs': inputs[:, :-1]}, {'outputs': outputs[:, 1:]}))\n",
    "    dataset = dataset.batch(batch_size).prefetch(tf.data.experimental.AUTOTUNE)\n",
    "    return dataset\n",
    "\n",
    "\n",
    "\n",
    "# Train/Test TensorFlow 데이터셋 생성\n",
    "train_dataset = create_tf_dataset(train_inputs, train_outputs, BATCH_SIZE, MAX_LENGTH)\n",
    "test_dataset = create_tf_dataset(test_inputs, test_outputs, BATCH_SIZE, MAX_LENGTH)\n"
   ]
  },
  {
   "cell_type": "code",
   "execution_count": 32,
   "id": "38f118cf",
   "metadata": {},
   "outputs": [
    {
     "name": "stdout",
     "output_type": "stream",
     "text": [
      "Epoch 1/5\n"
     ]
    },
    {
     "ename": "TypeError",
     "evalue": "'NoneType' object is not callable",
     "output_type": "error",
     "traceback": [
      "\u001b[0;31m---------------------------------------------------------------------------\u001b[0m",
      "\u001b[0;31mTypeError\u001b[0m                                 Traceback (most recent call last)",
      "\u001b[0;32m/tmp/ipykernel_318/122244021.py\u001b[0m in \u001b[0;36m<module>\u001b[0;34m\u001b[0m\n\u001b[1;32m      4\u001b[0m \u001b[0;34m\u001b[0m\u001b[0m\n\u001b[1;32m      5\u001b[0m \u001b[0;31m# 모델 학습 (dec_inputs 없이)\u001b[0m\u001b[0;34m\u001b[0m\u001b[0;34m\u001b[0m\u001b[0m\n\u001b[0;32m----> 6\u001b[0;31m \u001b[0mhistory\u001b[0m \u001b[0;34m=\u001b[0m \u001b[0mmodel\u001b[0m\u001b[0;34m.\u001b[0m\u001b[0mfit\u001b[0m\u001b[0;34m(\u001b[0m\u001b[0mtrain_dataset\u001b[0m\u001b[0;34m,\u001b[0m \u001b[0mepochs\u001b[0m\u001b[0;34m=\u001b[0m\u001b[0mEPOCHS\u001b[0m\u001b[0;34m,\u001b[0m \u001b[0mvalidation_data\u001b[0m\u001b[0;34m=\u001b[0m\u001b[0mtest_dataset\u001b[0m\u001b[0;34m,\u001b[0m \u001b[0mcallbacks\u001b[0m\u001b[0;34m=\u001b[0m\u001b[0;34m[\u001b[0m\u001b[0mearly_stopping\u001b[0m\u001b[0;34m]\u001b[0m\u001b[0;34m,\u001b[0m \u001b[0mverbose\u001b[0m\u001b[0;34m=\u001b[0m\u001b[0;36m1\u001b[0m\u001b[0;34m)\u001b[0m\u001b[0;34m\u001b[0m\u001b[0;34m\u001b[0m\u001b[0m\n\u001b[0m",
      "\u001b[0;32m/opt/conda/lib/python3.9/site-packages/keras/engine/training.py\u001b[0m in \u001b[0;36mfit\u001b[0;34m(self, x, y, batch_size, epochs, verbose, callbacks, validation_split, validation_data, shuffle, class_weight, sample_weight, initial_epoch, steps_per_epoch, validation_steps, validation_batch_size, validation_freq, max_queue_size, workers, use_multiprocessing)\u001b[0m\n\u001b[1;32m   1182\u001b[0m                 _r=1):\n\u001b[1;32m   1183\u001b[0m               \u001b[0mcallbacks\u001b[0m\u001b[0;34m.\u001b[0m\u001b[0mon_train_batch_begin\u001b[0m\u001b[0;34m(\u001b[0m\u001b[0mstep\u001b[0m\u001b[0;34m)\u001b[0m\u001b[0;34m\u001b[0m\u001b[0;34m\u001b[0m\u001b[0m\n\u001b[0;32m-> 1184\u001b[0;31m               \u001b[0mtmp_logs\u001b[0m \u001b[0;34m=\u001b[0m \u001b[0mself\u001b[0m\u001b[0;34m.\u001b[0m\u001b[0mtrain_function\u001b[0m\u001b[0;34m(\u001b[0m\u001b[0miterator\u001b[0m\u001b[0;34m)\u001b[0m\u001b[0;34m\u001b[0m\u001b[0;34m\u001b[0m\u001b[0m\n\u001b[0m\u001b[1;32m   1185\u001b[0m               \u001b[0;32mif\u001b[0m \u001b[0mdata_handler\u001b[0m\u001b[0;34m.\u001b[0m\u001b[0mshould_sync\u001b[0m\u001b[0;34m:\u001b[0m\u001b[0;34m\u001b[0m\u001b[0;34m\u001b[0m\u001b[0m\n\u001b[1;32m   1186\u001b[0m                 \u001b[0mcontext\u001b[0m\u001b[0;34m.\u001b[0m\u001b[0masync_wait\u001b[0m\u001b[0;34m(\u001b[0m\u001b[0;34m)\u001b[0m\u001b[0;34m\u001b[0m\u001b[0;34m\u001b[0m\u001b[0m\n",
      "\u001b[0;32m/opt/conda/lib/python3.9/site-packages/tensorflow/python/eager/def_function.py\u001b[0m in \u001b[0;36m__call__\u001b[0;34m(self, *args, **kwds)\u001b[0m\n\u001b[1;32m    883\u001b[0m \u001b[0;34m\u001b[0m\u001b[0m\n\u001b[1;32m    884\u001b[0m       \u001b[0;32mwith\u001b[0m \u001b[0mOptionalXlaContext\u001b[0m\u001b[0;34m(\u001b[0m\u001b[0mself\u001b[0m\u001b[0;34m.\u001b[0m\u001b[0m_jit_compile\u001b[0m\u001b[0;34m)\u001b[0m\u001b[0;34m:\u001b[0m\u001b[0;34m\u001b[0m\u001b[0;34m\u001b[0m\u001b[0m\n\u001b[0;32m--> 885\u001b[0;31m         \u001b[0mresult\u001b[0m \u001b[0;34m=\u001b[0m \u001b[0mself\u001b[0m\u001b[0;34m.\u001b[0m\u001b[0m_call\u001b[0m\u001b[0;34m(\u001b[0m\u001b[0;34m*\u001b[0m\u001b[0margs\u001b[0m\u001b[0;34m,\u001b[0m \u001b[0;34m**\u001b[0m\u001b[0mkwds\u001b[0m\u001b[0;34m)\u001b[0m\u001b[0;34m\u001b[0m\u001b[0;34m\u001b[0m\u001b[0m\n\u001b[0m\u001b[1;32m    886\u001b[0m \u001b[0;34m\u001b[0m\u001b[0m\n\u001b[1;32m    887\u001b[0m       \u001b[0mnew_tracing_count\u001b[0m \u001b[0;34m=\u001b[0m \u001b[0mself\u001b[0m\u001b[0;34m.\u001b[0m\u001b[0mexperimental_get_tracing_count\u001b[0m\u001b[0;34m(\u001b[0m\u001b[0;34m)\u001b[0m\u001b[0;34m\u001b[0m\u001b[0;34m\u001b[0m\u001b[0m\n",
      "\u001b[0;32m/opt/conda/lib/python3.9/site-packages/tensorflow/python/eager/def_function.py\u001b[0m in \u001b[0;36m_call\u001b[0;34m(self, *args, **kwds)\u001b[0m\n\u001b[1;32m    915\u001b[0m       \u001b[0;31m# In this case we have created variables on the first call, so we run the\u001b[0m\u001b[0;34m\u001b[0m\u001b[0;34m\u001b[0m\u001b[0m\n\u001b[1;32m    916\u001b[0m       \u001b[0;31m# defunned version which is guaranteed to never create variables.\u001b[0m\u001b[0;34m\u001b[0m\u001b[0;34m\u001b[0m\u001b[0m\n\u001b[0;32m--> 917\u001b[0;31m       \u001b[0;32mreturn\u001b[0m \u001b[0mself\u001b[0m\u001b[0;34m.\u001b[0m\u001b[0m_stateless_fn\u001b[0m\u001b[0;34m(\u001b[0m\u001b[0;34m*\u001b[0m\u001b[0margs\u001b[0m\u001b[0;34m,\u001b[0m \u001b[0;34m**\u001b[0m\u001b[0mkwds\u001b[0m\u001b[0;34m)\u001b[0m  \u001b[0;31m# pylint: disable=not-callable\u001b[0m\u001b[0;34m\u001b[0m\u001b[0;34m\u001b[0m\u001b[0m\n\u001b[0m\u001b[1;32m    918\u001b[0m     \u001b[0;32melif\u001b[0m \u001b[0mself\u001b[0m\u001b[0;34m.\u001b[0m\u001b[0m_stateful_fn\u001b[0m \u001b[0;32mis\u001b[0m \u001b[0;32mnot\u001b[0m \u001b[0;32mNone\u001b[0m\u001b[0;34m:\u001b[0m\u001b[0;34m\u001b[0m\u001b[0;34m\u001b[0m\u001b[0m\n\u001b[1;32m    919\u001b[0m       \u001b[0;31m# Release the lock early so that multiple threads can perform the call\u001b[0m\u001b[0;34m\u001b[0m\u001b[0;34m\u001b[0m\u001b[0m\n",
      "\u001b[0;31mTypeError\u001b[0m: 'NoneType' object is not callable"
     ]
    }
   ],
   "source": [
    "MAX_LENGTH = 20\n",
    "EPOCHS = 5\n",
    "early_stopping = tf.keras.callbacks.EarlyStopping(monitor='val_loss', patience=10, restore_best_weights=True)\n",
    "\n",
    "# 모델 학습 (dec_inputs 없이)\n",
    "history = model.fit(train_dataset, epochs=EPOCHS, validation_data=test_dataset, callbacks=[early_stopping], verbose=1)\n"
   ]
  },
  {
   "cell_type": "markdown",
   "id": "7794aa78",
   "metadata": {},
   "source": [
    "---"
   ]
  },
  {
   "cell_type": "markdown",
   "id": "b6822839",
   "metadata": {},
   "source": [
    "### 5.3. 평가하기 "
   ]
  },
  {
   "cell_type": "code",
   "execution_count": null,
   "id": "28ada05d",
   "metadata": {},
   "outputs": [],
   "source": [
    "def evaluate(sentence):\n",
    "    # 입력 문장을 전처리\n",
    "    sentence = preprocess_sentence(sentence)\n",
    "\n",
    "    # 입력 문장을 토큰화하고, 시작과 끝 토큰 추가\n",
    "    sentence = tf.expand_dims(START_TOKEN + tokenizer.encode(sentence) + END_TOKEN, axis=0)\n",
    "\n",
    "    # 패딩 마스킹 생성\n",
    "    padding_mask = create_padding_mask(sentence)\n",
    "\n",
    "    # 시작 토큰을 디코더의 첫 번째 입력으로 사용\n",
    "    output = tf.expand_dims(START_TOKEN, 0)\n",
    "\n",
    "    # 디코더가 종료 토큰을 예측하거나 최대 길이에 도달할 때까지 반복\n",
    "    for i in range(MAX_LENGTH):\n",
    "        # 예측을 위한 입력 준비 (인코더와 디코더에 넣어줌)\n",
    "        predictions = model(inputs=[sentence, output], training=False)\n",
    "\n",
    "        # 마지막 단어를 선택\n",
    "        predictions = predictions[:, -1:, :]  # (batch_size, 1, vocab_size)\n",
    "\n",
    "        # 예측한 단어의 ID\n",
    "        predicted_id = tf.cast(tf.argmax(predictions, axis=-1), tf.int32)\n",
    "\n",
    "        # 종료 토큰을 예측하면 반복을 종료\n",
    "        if tf.equal(predicted_id, END_TOKEN[0]):\n",
    "            break\n",
    "\n",
    "        # 예측한 단어를 출력에 추가\n",
    "        output = tf.concat([output, predicted_id], axis=-1)\n",
    "\n",
    "    # 예측된 토큰을 문장으로 변환\n",
    "    predicted_sentence = tokenizer.decode([i for i in tf.squeeze(output, axis=0) if i < tokenizer.vocab_size])\n",
    "\n",
    "    return predicted_sentence\n",
    "\n",
    "# 예측을 위한 함수\n",
    "def predict(sentence):\n",
    "    prediction = evaluate(sentence)\n",
    "    return prediction"
   ]
  },
  {
   "cell_type": "markdown",
   "id": "2fbe1d53",
   "metadata": {},
   "source": [
    "## RESULT : TRAIL#01"
   ]
  },
  {
   "cell_type": "code",
   "execution_count": null,
   "id": "c7cab0f6",
   "metadata": {},
   "outputs": [],
   "source": [
    "# TRAIL #01 테스트를 위한 문장 입력\n",
    "test_sentence = \"오늘 날씨가 어때?\"\n",
    "prediction = predict(test_sentence)\n",
    "print(f'입력 문장: {test_sentence}')\n",
    "print(f'예측된 답변: {prediction}')"
   ]
  },
  {
   "cell_type": "markdown",
   "id": "c727e6d6",
   "metadata": {},
   "source": [
    "**모델러 평가**  \n",
    "=>"
   ]
  },
  {
   "cell_type": "code",
   "execution_count": null,
   "id": "b3a81d8b",
   "metadata": {},
   "outputs": [],
   "source": [
    "# TRAIL #0 테스트를 위한 문장 입력"
   ]
  },
  {
   "cell_type": "markdown",
   "id": "83e5c92f",
   "metadata": {},
   "source": [
    "**모델러 평가**  \n",
    "=>"
   ]
  },
  {
   "cell_type": "code",
   "execution_count": null,
   "id": "cd6765cc",
   "metadata": {},
   "outputs": [],
   "source": [
    "# TRAIL #0 테스트를 위한 문장 입력"
   ]
  },
  {
   "cell_type": "markdown",
   "id": "36702159",
   "metadata": {},
   "source": [
    "**모델러 평가**  \n",
    "=>"
   ]
  }
 ],
 "metadata": {
  "kernelspec": {
   "display_name": "Python 3 (ipykernel)",
   "language": "python",
   "name": "python3"
  },
  "language_info": {
   "codemirror_mode": {
    "name": "ipython",
    "version": 3
   },
   "file_extension": ".py",
   "mimetype": "text/x-python",
   "name": "python",
   "nbconvert_exporter": "python",
   "pygments_lexer": "ipython3",
   "version": "3.9.7"
  }
 },
 "nbformat": 4,
 "nbformat_minor": 5
}
